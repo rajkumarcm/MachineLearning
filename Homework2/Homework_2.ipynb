{
 "cells": [
  {
   "cell_type": "markdown",
   "metadata": {
    "id": "0QJDNuifaIwP",
    "pycharm": {
     "name": "#%% md\n"
    },
    "toc": true
   },
   "source": [
    "<h1>Table of Contents<span class=\"tocSkip\"></span></h1>\n",
    "<div class=\"toc\"><ul class=\"toc-item\"><li><span><a href=\"#Overview\" data-toc-modified-id=\"Overview-1\"><span class=\"toc-item-num\">1&nbsp;&nbsp;</span>Overview</a></span></li><li><span><a href=\"#Notebook-Configuration\" data-toc-modified-id=\"Notebook-Configuration-2\"><span class=\"toc-item-num\">2&nbsp;&nbsp;</span>Notebook Configuration</a></span><ul class=\"toc-item\"><li><span><a href=\"#Google-drive\" data-toc-modified-id=\"Google-drive-2.1\"><span class=\"toc-item-num\">2.1&nbsp;&nbsp;</span>Google drive</a></span></li><li><span><a href=\"#Warning\" data-toc-modified-id=\"Warning-2.2\"><span class=\"toc-item-num\">2.2&nbsp;&nbsp;</span>Warning</a></span></li><li><span><a href=\"#Matplotlib\" data-toc-modified-id=\"Matplotlib-2.3\"><span class=\"toc-item-num\">2.3&nbsp;&nbsp;</span>Matplotlib</a></span></li><li><span><a href=\"#TensorFlow\" data-toc-modified-id=\"TensorFlow-2.4\"><span class=\"toc-item-num\">2.4&nbsp;&nbsp;</span>TensorFlow</a></span></li><li><span><a href=\"#Random-seed\" data-toc-modified-id=\"Random-seed-2.5\"><span class=\"toc-item-num\">2.5&nbsp;&nbsp;</span>Random seed</a></span></li></ul></li><li><span><a href=\"#Data-Preprocessing\" data-toc-modified-id=\"Data-Preprocessing-3\"><span class=\"toc-item-num\">3&nbsp;&nbsp;</span>Data Preprocessing</a></span></li><li><span><a href=\"#Hyperparameter-Tuning\" data-toc-modified-id=\"Hyperparameter-Tuning-4\"><span class=\"toc-item-num\">4&nbsp;&nbsp;</span>Hyperparameter Tuning</a></span></li><li><span><a href=\"#Model-Selection\" data-toc-modified-id=\"Model-Selection-5\"><span class=\"toc-item-num\">5&nbsp;&nbsp;</span>Model Selection</a></span></li><li><span><a href=\"#Generating-the-Submission-File\" data-toc-modified-id=\"Generating-the-Submission-File-6\"><span class=\"toc-item-num\">6&nbsp;&nbsp;</span>Generating the Submission File</a></span><ul class=\"toc-item\"><li><span><a href=\"#Creating-the-directory-for-the-submission-file\" data-toc-modified-id=\"Creating-the-directory-for-the-submission-file-6.1\"><span class=\"toc-item-num\">6.1&nbsp;&nbsp;</span>Creating the directory for the submission file</a></span></li><li><span><a href=\"#Generating-the-submission-file\" data-toc-modified-id=\"Generating-the-submission-file-6.2\"><span class=\"toc-item-num\">6.2&nbsp;&nbsp;</span>Generating the submission file</a></span></li></ul></li></ul></div>"
   ]
  },
  {
   "cell_type": "markdown",
   "metadata": {
    "id": "42yc1zUrzlEh",
    "pycharm": {
     "name": "#%% md\n"
    }
   },
   "source": [
    "<b>\n",
    "<p>\n",
    "<center>\n",
    "<font size=\"5\">\n",
    "Popular Machine Learning Methods: Idea, Practice and Math\n",
    "</font>\n",
    "</center>\n",
    "</p>\n",
    "\n",
    "<p>\n",
    "<center>\n",
    "<font size=\"4\">\n",
    "Part 2, Chapter 2, Section 4: Shallow Neural Networks\n",
    "</font>\n",
    "</center>\n",
    "</p>\n",
    "    \n",
    "<p>\n",
    "<center>\n",
    "<font size=\"4\">\n",
    "Homework 2\n",
    "</font>\n",
    "</center>\n",
    "</p>\n",
    "\n",
    "<p>\n",
    "<center>\n",
    "<font size=\"3\">\n",
    "Data Science, Columbian College of Arts & Sciences, George Washington University\n",
    "</font>\n",
    "</center>\n",
    "</p>\n",
    "\n",
    "<p>\n",
    "<center>\n",
    "<font size=\"3\">\n",
    "Yuxiao Huang\n",
    "</font>\n",
    "</center>\n",
    "</p>\n",
    "</b>"
   ]
  },
  {
   "cell_type": "markdown",
   "metadata": {
    "id": "rT2SKHw2zlEi",
    "pycharm": {
     "name": "#%% md\n"
    }
   },
   "source": [
    "# Overview"
   ]
  },
  {
   "cell_type": "markdown",
   "metadata": {
    "id": "asZWLrJKzlEj",
    "pycharm": {
     "name": "#%% md\n"
    }
   },
   "source": [
    "- This notebook includes homework 2 for Shallow Neural Networks (Part 2, Chapter 2, Section 4).\n",
    "- See the accompanied slides in our [github repository](https://github.com/yuxiaohuang/teaching/tree/master/gwu/machine_learning_I/fall_2022/slides/p2_shallow_learning/p2_c2_supervised_learning/p2_c2_s4_shallow_neural_networks).\n",
    "- Here we will work on kaggle competation [Santander Customer Transaction Prediction].(https://www.kaggle.com/c/santander-customer-transaction-prediction/overview)\n",
    "- The goal of this homework is tweaking the pipeline (including data preprocessing, hyperparameter tuning and model selection) implemented in [/p2 c2 s4 shallow neural_networks/case_study](https://github.com/yuxiaohuang/teaching/blob/master/gwu/machine_learning_I/fall_2022/code/p2_shallow_learning/p2_c2_supervised_learning/p2_c2_s4_shallow_neural_networks/case_study/case_study.ipynb) to make it work for the new kaggle competation mentioned above.\n",
    "- Complete the missing parts indicated by # Implement me.\n",
    "- Particularly, the code should\n",
    "    - be bug-free (note that the output produced by your solution may not necessarily be the same as the provided output, due to version issues)\n",
    "    - be commented\n",
    "- **The baseline for this assignment is 0.670522. As per the grading rubrics (section 15 of the syllabus), if the validation score of your best model is lower than or the same as the baseline, you will only receive 80% of the full mark. See more details in the grading rubrics.**\n",
    "- Submit an ipynb file named homework_2.ipynb to [blackboard](https://blackboard.gwu.edu) folder /Assignments/Homework_2/."
   ]
  },
  {
   "cell_type": "markdown",
   "metadata": {
    "id": "WJ-IbZqAgILJ",
    "jp-MarkdownHeadingCollapsed": true,
    "pycharm": {
     "name": "#%% md\n"
    },
    "tags": []
   },
   "source": [
    "# Notebook Configuration"
   ]
  },
  {
   "cell_type": "markdown",
   "metadata": {
    "id": "H3yB94KtgMHu",
    "jp-MarkdownHeadingCollapsed": true,
    "pycharm": {
     "name": "#%% md\n"
    },
    "tags": []
   },
   "source": [
    "## Google drive"
   ]
  },
  {
   "cell_type": "code",
   "execution_count": 1,
   "metadata": {
    "colab": {
     "base_uri": "https://localhost:8080/",
     "height": 34
    },
    "executionInfo": {
     "elapsed": 19370,
     "status": "ok",
     "timestamp": 1602476890219,
     "user": {
      "displayName": "Huang Yuxiao",
      "photoUrl": "",
      "userId": "05167076769245149404"
     },
     "user_tz": 240
    },
    "id": "jWmYBTOwgNs-",
    "outputId": "e3a52cd0-08fb-443f-85c6-8a233dca1a12",
    "pycharm": {
     "name": "#%%\n"
    }
   },
   "outputs": [],
   "source": [
    "from google.colab import drive\n",
    "import sys\n",
    "\n",
    "# Mount Google Drive\n",
    "drive.mount('/content/drive')\n",
    "\n",
    "# Get the absolute path of the current folder\n",
    "abspath_curr = '/content/drive/My Drive/Colab Notebooks/teaching/gwu/machine_learning_I/homework/homework_2/'\n",
    "\n",
    "# Get the absolute path of the shallow utilities folder\n",
    "abspath_util_shallow = '/content/drive/My Drive/Colab Notebooks/teaching/gwu/machine_learning_I/code/utilities/p2_shallow_learning/'\n",
    "\n",
    "# Get the absolute path of the shallow models folder\n",
    "abspath_model_shallow = '/content/drive/My Drive/Colab Notebooks/teaching/gwu/machine_learning_I/code/models/p2_shallow_learning/'"
   ]
  },
  {
   "cell_type": "markdown",
   "metadata": {
    "id": "bYZhU1Wqgmqx",
    "pycharm": {
     "name": "#%% md\n"
    },
    "tags": []
   },
   "source": [
    "## Warning"
   ]
  },
  {
   "cell_type": "code",
   "execution_count": 2,
   "metadata": {
    "id": "MUl4k83e4ANR",
    "pycharm": {
     "name": "#%%\n"
    }
   },
   "outputs": [],
   "source": [
    "import warnings\n",
    "\n",
    "# Ignore warnings\n",
    "warnings.filterwarnings('ignore')"
   ]
  },
  {
   "cell_type": "markdown",
   "metadata": {
    "id": "6WMODpPfgn2U",
    "pycharm": {
     "name": "#%% md\n"
    },
    "tags": []
   },
   "source": [
    "## Matplotlib"
   ]
  },
  {
   "cell_type": "code",
   "execution_count": 3,
   "metadata": {
    "id": "DBRVH9SB4ANb",
    "pycharm": {
     "name": "#%%\n"
    }
   },
   "outputs": [],
   "source": [
    "import matplotlib.pyplot as plt\n",
    "%matplotlib inline \n",
    "\n",
    "# Set matplotlib sizes\n",
    "plt.rc('font', size=20)\n",
    "plt.rc('axes', titlesize=20)\n",
    "plt.rc('axes', labelsize=20)\n",
    "plt.rc('xtick', labelsize=20)\n",
    "plt.rc('ytick', labelsize=20)\n",
    "plt.rc('legend', fontsize=20)\n",
    "plt.rc('figure', titlesize=20)"
   ]
  },
  {
   "cell_type": "markdown",
   "metadata": {
    "id": "n-wNDk5nZhhO",
    "pycharm": {
     "name": "#%% md\n"
    },
    "tags": []
   },
   "source": [
    "## TensorFlow"
   ]
  },
  {
   "cell_type": "code",
   "execution_count": 4,
   "metadata": {
    "id": "LjG43tEnZkfE",
    "pycharm": {
     "name": "#%%\n"
    }
   },
   "outputs": [],
   "source": [
    "# The magic below allows us to use tensorflow version 2.x\n",
    "import os\n",
    "os.environ['TF_FORCE_GPU_ALLOW_GROWTH']='true'\n",
    "# %tensorflow_version 2.x\n",
    "import tensorflow as tf\n",
    "from tensorflow import keras\n",
    "from tensorflow.keras.layers import *\n",
    "from tensorflow.keras import Sequential"
   ]
  },
  {
   "cell_type": "markdown",
   "metadata": {
    "id": "40FN3UNfO2Z7",
    "pycharm": {
     "name": "#%% md\n"
    },
    "tags": []
   },
   "source": [
    "## Random seed"
   ]
  },
  {
   "cell_type": "code",
   "execution_count": 5,
   "metadata": {
    "id": "uSADk0hJP71d",
    "pycharm": {
     "name": "#%%\n"
    }
   },
   "outputs": [],
   "source": [
    "# The random seed\n",
    "random_seed = 42\n",
    "\n",
    "# Set random seed in tensorflow\n",
    "tf.random.set_seed(random_seed)\n",
    "\n",
    "# Set random seed in numpy\n",
    "import numpy as np\n",
    "np.random.seed(random_seed)"
   ]
  },
  {
   "cell_type": "markdown",
   "metadata": {
    "id": "yAwfz8iYzlFC",
    "jp-MarkdownHeadingCollapsed": true,
    "pycharm": {
     "name": "#%% md\n"
    },
    "tags": []
   },
   "source": [
    "# Data Preprocessing"
   ]
  },
  {
   "cell_type": "markdown",
   "metadata": {
    "jp-MarkdownHeadingCollapsed": true,
    "tags": []
   },
   "source": [
    "## Import utilities notebook"
   ]
  },
  {
   "cell_type": "code",
   "execution_count": 6,
   "metadata": {
    "colab": {
     "base_uri": "https://localhost:8080/",
     "height": 34
    },
    "executionInfo": {
     "elapsed": 23564,
     "status": "ok",
     "timestamp": 1602476894453,
     "user": {
      "displayName": "Huang Yuxiao",
      "photoUrl": "",
      "userId": "05167076769245149404"
     },
     "user_tz": 240
    },
    "id": "D-Mwc6MczlFD",
    "outputId": "524cf199-e9a1-4f47-99c5-b827bf16a011",
    "pycharm": {
     "name": "#%%\n"
    }
   },
   "outputs": [],
   "source": [
    "# Change working directory to the absolute path of the shallow utilities folder\n",
    "%cd $abspath_util_shallow\n",
    "\n",
    "# Import the shallow utitilities\n",
    "%run pmlm_utilities_shallow.ipynb"
   ]
  },
  {
   "cell_type": "markdown",
   "metadata": {
    "jp-MarkdownHeadingCollapsed": true,
    "tags": []
   },
   "source": [
    "## Load data"
   ]
  },
  {
   "cell_type": "code",
   "execution_count": 7,
   "metadata": {
    "id": "GMm53nLtlx_G",
    "pycharm": {
     "name": "#%%\n"
    }
   },
   "outputs": [],
   "source": [
    "import pandas as pd\n",
    "\n",
    "df_raw_train = pd.read_csv(abspath_curr + 'data/train.csv', header=0)\n",
    "df_train = df_raw_train.copy(deep=True)\n",
    "\n",
    "df_raw_test = pd.read_csv(abspath_curr + 'data/test.csv', header=0)\n",
    "df_test = df_raw_test.copy(deep=True)\n",
    "\n",
    "target = 'target'"
   ]
  },
  {
   "cell_type": "code",
   "execution_count": 8,
   "metadata": {},
   "outputs": [
    {
     "data": {
      "text/html": [
       "<div>\n",
       "<style scoped>\n",
       "    .dataframe tbody tr th:only-of-type {\n",
       "        vertical-align: middle;\n",
       "    }\n",
       "\n",
       "    .dataframe tbody tr th {\n",
       "        vertical-align: top;\n",
       "    }\n",
       "\n",
       "    .dataframe thead th {\n",
       "        text-align: right;\n",
       "    }\n",
       "</style>\n",
       "<table border=\"1\" class=\"dataframe\">\n",
       "  <thead>\n",
       "    <tr style=\"text-align: right;\">\n",
       "      <th></th>\n",
       "      <th>Instances</th>\n",
       "      <th>Features</th>\n",
       "    </tr>\n",
       "  </thead>\n",
       "  <tbody>\n",
       "    <tr>\n",
       "      <th>Training</th>\n",
       "      <td>200000</td>\n",
       "      <td>202</td>\n",
       "    </tr>\n",
       "    <tr>\n",
       "      <th>Testing</th>\n",
       "      <td>200000</td>\n",
       "      <td>201</td>\n",
       "    </tr>\n",
       "  </tbody>\n",
       "</table>\n",
       "</div>"
      ],
      "text/plain": [
       "          Instances  Features\n",
       "Training     200000       202\n",
       "Testing      200000       201"
      ]
     },
     "execution_count": 8,
     "metadata": {},
     "output_type": "execute_result"
    }
   ],
   "source": [
    "# Print the dimension of df_train\n",
    "pd.DataFrame({'Training':{'Instances':df_train.shape[0], 'Features':df_train.shape[1]},\n",
    "              'Testing':{'Instances':df_test.shape[0], 'Features':df_test.shape[1]}}).T"
   ]
  },
  {
   "cell_type": "markdown",
   "metadata": {
    "tags": []
   },
   "source": [
    "### Glimpse of the dataset"
   ]
  },
  {
   "cell_type": "code",
   "execution_count": 9,
   "metadata": {},
   "outputs": [
    {
     "data": {
      "text/html": [
       "<div>\n",
       "<style scoped>\n",
       "    .dataframe tbody tr th:only-of-type {\n",
       "        vertical-align: middle;\n",
       "    }\n",
       "\n",
       "    .dataframe tbody tr th {\n",
       "        vertical-align: top;\n",
       "    }\n",
       "\n",
       "    .dataframe thead th {\n",
       "        text-align: right;\n",
       "    }\n",
       "</style>\n",
       "<table border=\"1\" class=\"dataframe\">\n",
       "  <thead>\n",
       "    <tr style=\"text-align: right;\">\n",
       "      <th></th>\n",
       "      <th>ID_code</th>\n",
       "      <th>target</th>\n",
       "      <th>var_0</th>\n",
       "      <th>var_1</th>\n",
       "      <th>var_2</th>\n",
       "      <th>var_3</th>\n",
       "      <th>var_4</th>\n",
       "      <th>var_5</th>\n",
       "      <th>var_6</th>\n",
       "      <th>var_7</th>\n",
       "      <th>...</th>\n",
       "      <th>var_190</th>\n",
       "      <th>var_191</th>\n",
       "      <th>var_192</th>\n",
       "      <th>var_193</th>\n",
       "      <th>var_194</th>\n",
       "      <th>var_195</th>\n",
       "      <th>var_196</th>\n",
       "      <th>var_197</th>\n",
       "      <th>var_198</th>\n",
       "      <th>var_199</th>\n",
       "    </tr>\n",
       "  </thead>\n",
       "  <tbody>\n",
       "    <tr>\n",
       "      <th>0</th>\n",
       "      <td>train_0</td>\n",
       "      <td>0</td>\n",
       "      <td>8.9255</td>\n",
       "      <td>-6.7863</td>\n",
       "      <td>11.9081</td>\n",
       "      <td>5.0930</td>\n",
       "      <td>11.4607</td>\n",
       "      <td>-9.2834</td>\n",
       "      <td>5.1187</td>\n",
       "      <td>18.6266</td>\n",
       "      <td>...</td>\n",
       "      <td>4.4354</td>\n",
       "      <td>3.9642</td>\n",
       "      <td>3.1364</td>\n",
       "      <td>1.6910</td>\n",
       "      <td>18.5227</td>\n",
       "      <td>-2.3978</td>\n",
       "      <td>7.8784</td>\n",
       "      <td>8.5635</td>\n",
       "      <td>12.7803</td>\n",
       "      <td>-1.0914</td>\n",
       "    </tr>\n",
       "    <tr>\n",
       "      <th>1</th>\n",
       "      <td>train_1</td>\n",
       "      <td>0</td>\n",
       "      <td>11.5006</td>\n",
       "      <td>-4.1473</td>\n",
       "      <td>13.8588</td>\n",
       "      <td>5.3890</td>\n",
       "      <td>12.3622</td>\n",
       "      <td>7.0433</td>\n",
       "      <td>5.6208</td>\n",
       "      <td>16.5338</td>\n",
       "      <td>...</td>\n",
       "      <td>7.6421</td>\n",
       "      <td>7.7214</td>\n",
       "      <td>2.5837</td>\n",
       "      <td>10.9516</td>\n",
       "      <td>15.4305</td>\n",
       "      <td>2.0339</td>\n",
       "      <td>8.1267</td>\n",
       "      <td>8.7889</td>\n",
       "      <td>18.3560</td>\n",
       "      <td>1.9518</td>\n",
       "    </tr>\n",
       "    <tr>\n",
       "      <th>2</th>\n",
       "      <td>train_2</td>\n",
       "      <td>0</td>\n",
       "      <td>8.6093</td>\n",
       "      <td>-2.7457</td>\n",
       "      <td>12.0805</td>\n",
       "      <td>7.8928</td>\n",
       "      <td>10.5825</td>\n",
       "      <td>-9.0837</td>\n",
       "      <td>6.9427</td>\n",
       "      <td>14.6155</td>\n",
       "      <td>...</td>\n",
       "      <td>2.9057</td>\n",
       "      <td>9.7905</td>\n",
       "      <td>1.6704</td>\n",
       "      <td>1.6858</td>\n",
       "      <td>21.6042</td>\n",
       "      <td>3.1417</td>\n",
       "      <td>-6.5213</td>\n",
       "      <td>8.2675</td>\n",
       "      <td>14.7222</td>\n",
       "      <td>0.3965</td>\n",
       "    </tr>\n",
       "    <tr>\n",
       "      <th>3</th>\n",
       "      <td>train_3</td>\n",
       "      <td>0</td>\n",
       "      <td>11.0604</td>\n",
       "      <td>-2.1518</td>\n",
       "      <td>8.9522</td>\n",
       "      <td>7.1957</td>\n",
       "      <td>12.5846</td>\n",
       "      <td>-1.8361</td>\n",
       "      <td>5.8428</td>\n",
       "      <td>14.9250</td>\n",
       "      <td>...</td>\n",
       "      <td>4.4666</td>\n",
       "      <td>4.7433</td>\n",
       "      <td>0.7178</td>\n",
       "      <td>1.4214</td>\n",
       "      <td>23.0347</td>\n",
       "      <td>-1.2706</td>\n",
       "      <td>-2.9275</td>\n",
       "      <td>10.2922</td>\n",
       "      <td>17.9697</td>\n",
       "      <td>-8.9996</td>\n",
       "    </tr>\n",
       "    <tr>\n",
       "      <th>4</th>\n",
       "      <td>train_4</td>\n",
       "      <td>0</td>\n",
       "      <td>9.8369</td>\n",
       "      <td>-1.4834</td>\n",
       "      <td>12.8746</td>\n",
       "      <td>6.6375</td>\n",
       "      <td>12.2772</td>\n",
       "      <td>2.4486</td>\n",
       "      <td>5.9405</td>\n",
       "      <td>19.2514</td>\n",
       "      <td>...</td>\n",
       "      <td>-1.4905</td>\n",
       "      <td>9.5214</td>\n",
       "      <td>-0.1508</td>\n",
       "      <td>9.1942</td>\n",
       "      <td>13.2876</td>\n",
       "      <td>-1.5121</td>\n",
       "      <td>3.9267</td>\n",
       "      <td>9.5031</td>\n",
       "      <td>17.9974</td>\n",
       "      <td>-8.8104</td>\n",
       "    </tr>\n",
       "  </tbody>\n",
       "</table>\n",
       "<p>5 rows × 202 columns</p>\n",
       "</div>"
      ],
      "text/plain": [
       "   ID_code  target    var_0   var_1    var_2   var_3    var_4   var_5   var_6  \\\n",
       "0  train_0       0   8.9255 -6.7863  11.9081  5.0930  11.4607 -9.2834  5.1187   \n",
       "1  train_1       0  11.5006 -4.1473  13.8588  5.3890  12.3622  7.0433  5.6208   \n",
       "2  train_2       0   8.6093 -2.7457  12.0805  7.8928  10.5825 -9.0837  6.9427   \n",
       "3  train_3       0  11.0604 -2.1518   8.9522  7.1957  12.5846 -1.8361  5.8428   \n",
       "4  train_4       0   9.8369 -1.4834  12.8746  6.6375  12.2772  2.4486  5.9405   \n",
       "\n",
       "     var_7  ...  var_190  var_191  var_192  var_193  var_194  var_195  \\\n",
       "0  18.6266  ...   4.4354   3.9642   3.1364   1.6910  18.5227  -2.3978   \n",
       "1  16.5338  ...   7.6421   7.7214   2.5837  10.9516  15.4305   2.0339   \n",
       "2  14.6155  ...   2.9057   9.7905   1.6704   1.6858  21.6042   3.1417   \n",
       "3  14.9250  ...   4.4666   4.7433   0.7178   1.4214  23.0347  -1.2706   \n",
       "4  19.2514  ...  -1.4905   9.5214  -0.1508   9.1942  13.2876  -1.5121   \n",
       "\n",
       "   var_196  var_197  var_198  var_199  \n",
       "0   7.8784   8.5635  12.7803  -1.0914  \n",
       "1   8.1267   8.7889  18.3560   1.9518  \n",
       "2  -6.5213   8.2675  14.7222   0.3965  \n",
       "3  -2.9275  10.2922  17.9697  -8.9996  \n",
       "4   3.9267   9.5031  17.9974  -8.8104  \n",
       "\n",
       "[5 rows x 202 columns]"
      ]
     },
     "execution_count": 9,
     "metadata": {},
     "output_type": "execute_result"
    }
   ],
   "source": [
    "df_train.head()"
   ]
  },
  {
   "cell_type": "markdown",
   "metadata": {
    "jp-MarkdownHeadingCollapsed": true,
    "tags": []
   },
   "source": [
    "## Splitting the data"
   ]
  },
  {
   "cell_type": "code",
   "execution_count": 10,
   "metadata": {},
   "outputs": [
    {
     "data": {
      "text/html": [
       "<div>\n",
       "<style scoped>\n",
       "    .dataframe tbody tr th:only-of-type {\n",
       "        vertical-align: middle;\n",
       "    }\n",
       "\n",
       "    .dataframe tbody tr th {\n",
       "        vertical-align: top;\n",
       "    }\n",
       "\n",
       "    .dataframe thead th {\n",
       "        text-align: right;\n",
       "    }\n",
       "</style>\n",
       "<table border=\"1\" class=\"dataframe\">\n",
       "  <thead>\n",
       "    <tr style=\"text-align: right;\">\n",
       "      <th></th>\n",
       "      <th>Instances</th>\n",
       "      <th>Features</th>\n",
       "    </tr>\n",
       "  </thead>\n",
       "  <tbody>\n",
       "    <tr>\n",
       "      <th>Training</th>\n",
       "      <td>160000</td>\n",
       "      <td>202</td>\n",
       "    </tr>\n",
       "    <tr>\n",
       "      <th>Testing</th>\n",
       "      <td>200000</td>\n",
       "      <td>201</td>\n",
       "    </tr>\n",
       "  </tbody>\n",
       "</table>\n",
       "</div>"
      ],
      "text/plain": [
       "          Instances  Features\n",
       "Training     160000       202\n",
       "Testing      200000       201"
      ]
     },
     "execution_count": 10,
     "metadata": {},
     "output_type": "execute_result"
    }
   ],
   "source": [
    "from sklearn.model_selection import train_test_split\n",
    "\n",
    "# Divide the training data into training (80%) and validation (20%)\n",
    "df_train, df_val = train_test_split(df_train, train_size=0.8, random_state=random_seed)\n",
    "\n",
    "# Reset the index\n",
    "df_train, df_val = df_train.reset_index(drop=True), df_val.reset_index(drop=True)\n",
    "\n",
    "# Print the dimension of df_train\n",
    "pd.DataFrame({'Training':{'Instances':df_train.shape[0], 'Features':df_train.shape[1]},\n",
    "              'Testing':{'Instances':df_test.shape[0], 'Features':df_test.shape[1]}}).T"
   ]
  },
  {
   "cell_type": "markdown",
   "metadata": {
    "jp-MarkdownHeadingCollapsed": true,
    "tags": []
   },
   "source": [
    "## Handling uncommon features"
   ]
  },
  {
   "cell_type": "code",
   "execution_count": 11,
   "metadata": {},
   "outputs": [],
   "source": [
    "# Call common_var_checker\n",
    "# See the implementation in pmlm_utilities.ipynb\n",
    "df_common_var = common_var_checker(df_train, df_val, df_test, target)\n",
    "\n",
    "# Print df_common_var\n",
    "# df_common_var"
   ]
  },
  {
   "cell_type": "code",
   "execution_count": 12,
   "metadata": {},
   "outputs": [],
   "source": [
    "uncommon_feature_train_not_val_test = np.setdiff1d(df_train.columns, df_common_var['common var'])\n",
    "uncommon_feature_val_not_train_test = np.setdiff1d(df_val.columns, df_common_var['common var'])\n",
    "uncommon_feature_test_not_train_val = np.setdiff1d(df_test.columns, df_common_var['common var'])\n",
    "\n",
    "# Print the uncommon features\n",
    "if len(uncommon_feature_train_not_val_test) > 0:\n",
    "    print(f'Training:\\n{pd.DataFrame(uncommon_feature_train_not_val_test, columns=[\"uncommon feature\"])}')\n",
    "    df_train = df_train.drop(columns=uncommon_feature_train_not_val_test)\n",
    "\n",
    "if len(uncommon_feature_val_not_train_test) > 0:\n",
    "    print(f'Validation:\\n\\n{pd.DataFrame(uncommon_feature_val_not_train_test, columns=[\"uncommon feature\"])}')\n",
    "    df_val = df_val.drop(columns=uncommon_feature_val_not_train_test)\n",
    "    \n",
    "if len(uncommon_feature_test_not_train_val) > 0:\n",
    "    print(f'Testing:\\n\\n{pd.DataFrame(uncommon_feature_test_not_train_val, columns=[\"uncommon feature\"])}')\n",
    "    df_test = df_test.drop(columns=uncommon_feature_test_not_train_val)"
   ]
  },
  {
   "cell_type": "markdown",
   "metadata": {
    "jp-MarkdownHeadingCollapsed": true,
    "tags": []
   },
   "source": [
    "## Handling Identifiers"
   ]
  },
  {
   "cell_type": "markdown",
   "metadata": {},
   "source": [
    "### Retrieve the identifier columns and have them removed from all subsets"
   ]
  },
  {
   "cell_type": "code",
   "execution_count": 13,
   "metadata": {},
   "outputs": [],
   "source": [
    "df = pd.concat([df_train, df_val, df_test], sort=False)\n",
    "df_id = id_checker(df)\n",
    "\n",
    "# Remove identifiers from df_train\n",
    "df_train.drop(columns=np.intersect1d(df_id.columns, df_train.columns), inplace=True)\n",
    "# Remove identifiers from df_val\n",
    "df_val.drop(columns=np.intersect1d(df_id.columns, df_val.columns), inplace=True)\n",
    "# Remove identifiers from df_test\n",
    "df_test.drop(columns=np.intersect1d(df_id.columns, df_test.columns), inplace=True)"
   ]
  },
  {
   "cell_type": "markdown",
   "metadata": {},
   "source": [
    "##### Note: At this stage only the subsets have the up to date copy, not the combined df"
   ]
  },
  {
   "cell_type": "markdown",
   "metadata": {
    "jp-MarkdownHeadingCollapsed": true,
    "tags": []
   },
   "source": [
    "## DateTime Transformation"
   ]
  },
  {
   "cell_type": "code",
   "execution_count": 14,
   "metadata": {},
   "outputs": [
    {
     "data": {
      "text/plain": [
       "target    int64\n",
       "dtype: object"
      ]
     },
     "execution_count": 14,
     "metadata": {},
     "output_type": "execute_result"
    }
   ],
   "source": [
    "df_train.dtypes[df_train.dtypes != 'float64']"
   ]
  },
  {
   "cell_type": "markdown",
   "metadata": {
    "tags": []
   },
   "source": [
    "#### This step is ignored as it appears that there exist no date time attributes"
   ]
  },
  {
   "cell_type": "markdown",
   "metadata": {
    "jp-MarkdownHeadingCollapsed": true,
    "tags": []
   },
   "source": [
    "## Identify and impute the missing data"
   ]
  },
  {
   "cell_type": "markdown",
   "metadata": {},
   "source": [
    "#### It is wise to combine the subsets here once again as only the subsets are up to date after the identifier removal step"
   ]
  },
  {
   "cell_type": "code",
   "execution_count": 15,
   "metadata": {},
   "outputs": [
    {
     "data": {
      "text/html": [
       "<div>\n",
       "<style scoped>\n",
       "    .dataframe tbody tr th:only-of-type {\n",
       "        vertical-align: middle;\n",
       "    }\n",
       "\n",
       "    .dataframe tbody tr th {\n",
       "        vertical-align: top;\n",
       "    }\n",
       "\n",
       "    .dataframe thead th {\n",
       "        text-align: right;\n",
       "    }\n",
       "</style>\n",
       "<table border=\"1\" class=\"dataframe\">\n",
       "  <thead>\n",
       "    <tr style=\"text-align: right;\">\n",
       "      <th></th>\n",
       "      <th>var</th>\n",
       "      <th>proportion</th>\n",
       "      <th>dtype</th>\n",
       "    </tr>\n",
       "  </thead>\n",
       "  <tbody>\n",
       "    <tr>\n",
       "      <th>0</th>\n",
       "      <td>target</td>\n",
       "      <td>0.5</td>\n",
       "      <td>float64</td>\n",
       "    </tr>\n",
       "  </tbody>\n",
       "</table>\n",
       "</div>"
      ],
      "text/plain": [
       "      var  proportion    dtype\n",
       "0  target         0.5  float64"
      ]
     },
     "execution_count": 15,
     "metadata": {},
     "output_type": "execute_result"
    }
   ],
   "source": [
    "df = pd.concat([df_train, df_val, df_test], sort=False)\n",
    "df_nan = nan_checker(df)\n",
    "df_nan"
   ]
  },
  {
   "cell_type": "markdown",
   "metadata": {},
   "source": [
    "#### Since the data in the df is not shuffled, the subsets should remain in their respective position that we can access them with the aid of subset's size. Perhaps we can use the train set to estimate the statistical parameters of the distribution, and use it to impute the missing values on the other sets"
   ]
  },
  {
   "cell_type": "code",
   "execution_count": 16,
   "metadata": {},
   "outputs": [
    {
     "data": {
      "text/html": [
       "<div>\n",
       "<style scoped>\n",
       "    .dataframe tbody tr th:only-of-type {\n",
       "        vertical-align: middle;\n",
       "    }\n",
       "\n",
       "    .dataframe tbody tr th {\n",
       "        vertical-align: top;\n",
       "    }\n",
       "\n",
       "    .dataframe thead th {\n",
       "        text-align: right;\n",
       "    }\n",
       "</style>\n",
       "<table border=\"1\" class=\"dataframe\">\n",
       "  <thead>\n",
       "    <tr style=\"text-align: right;\">\n",
       "      <th></th>\n",
       "      <th>Instances</th>\n",
       "      <th>Features</th>\n",
       "    </tr>\n",
       "  </thead>\n",
       "  <tbody>\n",
       "    <tr>\n",
       "      <th>Training</th>\n",
       "      <td>160000</td>\n",
       "      <td>201</td>\n",
       "    </tr>\n",
       "    <tr>\n",
       "      <th>Testing</th>\n",
       "      <td>200000</td>\n",
       "      <td>201</td>\n",
       "    </tr>\n",
       "    <tr>\n",
       "      <th>Validation</th>\n",
       "      <td>40000</td>\n",
       "      <td>201</td>\n",
       "    </tr>\n",
       "  </tbody>\n",
       "</table>\n",
       "</div>"
      ],
      "text/plain": [
       "            Instances  Features\n",
       "Training       160000       201\n",
       "Testing        200000       201\n",
       "Validation      40000       201"
      ]
     },
     "execution_count": 16,
     "metadata": {},
     "output_type": "execute_result"
    }
   ],
   "source": [
    "# Segregating the data again\n",
    "df_train = df.iloc[:df_train.shape[0], :]\n",
    "df_val = df.iloc[df_train.shape[0]:df_train.shape[0] + df_val.shape[0], :]\n",
    "df_test = df.iloc[df_train.shape[0] + df_val.shape[0]:, :]\n",
    "\n",
    "# Print the dimension of df_train\n",
    "pd.DataFrame({'Training':{'Instances':df_train.shape[0], 'Features':df_train.shape[1]},\n",
    "              'Testing':{'Instances':df_test.shape[0], 'Features':df_test.shape[1]},\n",
    "              'Validation':{'Instances':df_val.shape[0], 'Features':df_val.shape[1]}}).T"
   ]
  },
  {
   "cell_type": "markdown",
   "metadata": {
    "tags": []
   },
   "source": [
    "### Define method to impute the data"
   ]
  },
  {
   "cell_type": "code",
   "execution_count": 17,
   "metadata": {},
   "outputs": [],
   "source": [
    "imputation_method = 'SimpleImputer'"
   ]
  },
  {
   "cell_type": "markdown",
   "metadata": {
    "tags": []
   },
   "source": [
    "### One way of imputing the data"
   ]
  },
  {
   "cell_type": "code",
   "execution_count": 18,
   "metadata": {},
   "outputs": [
    {
     "data": {
      "text/html": [
       "<div>\n",
       "<style scoped>\n",
       "    .dataframe tbody tr th:only-of-type {\n",
       "        vertical-align: middle;\n",
       "    }\n",
       "\n",
       "    .dataframe tbody tr th {\n",
       "        vertical-align: top;\n",
       "    }\n",
       "\n",
       "    .dataframe thead th {\n",
       "        text-align: right;\n",
       "    }\n",
       "</style>\n",
       "<table border=\"1\" class=\"dataframe\">\n",
       "  <thead>\n",
       "    <tr style=\"text-align: right;\">\n",
       "      <th></th>\n",
       "      <th>var</th>\n",
       "      <th>proportion</th>\n",
       "      <th>dtype</th>\n",
       "    </tr>\n",
       "  </thead>\n",
       "  <tbody>\n",
       "    <tr>\n",
       "      <th>0</th>\n",
       "      <td>target</td>\n",
       "      <td>0.5</td>\n",
       "      <td>float64</td>\n",
       "    </tr>\n",
       "  </tbody>\n",
       "</table>\n",
       "</div>"
      ],
      "text/plain": [
       "      var  proportion    dtype\n",
       "0  target         0.5  float64"
      ]
     },
     "execution_count": 18,
     "metadata": {},
     "output_type": "execute_result"
    }
   ],
   "source": [
    "df_nan"
   ]
  },
  {
   "cell_type": "code",
   "execution_count": 19,
   "metadata": {},
   "outputs": [],
   "source": [
    "from sklearn.impute import SimpleImputer\n",
    "\n",
    "if imputation_method == 'SimpleImputer':\n",
    "    # If there are missing values\n",
    "    if len(df_nan['var']) > 0:\n",
    "        # The SimpleImputer\n",
    "        si = SimpleImputer(missing_values=np.nan, strategy='most_frequent')\n",
    "\n",
    "        # Impute the variables with missing values in df_train, df_val and df_test \n",
    "        df_train[df_nan['var']] = si.fit_transform(df_train[df_nan['var']])\n",
    "        df_val[df_nan['var']] = si.transform(df_val[df_nan['var']])\n",
    "        df_test[df_nan['var']] = si.transform(df_test[df_nan['var']])"
   ]
  },
  {
   "cell_type": "markdown",
   "metadata": {
    "jp-MarkdownHeadingCollapsed": true,
    "tags": []
   },
   "source": [
    "### Encoding the data"
   ]
  },
  {
   "cell_type": "code",
   "execution_count": 20,
   "metadata": {},
   "outputs": [
    {
     "data": {
      "text/plain": [
       "Series([], dtype: object)"
      ]
     },
     "execution_count": 20,
     "metadata": {},
     "output_type": "execute_result"
    }
   ],
   "source": [
    "df.dtypes[df.dtypes != 'float64']"
   ]
  },
  {
   "cell_type": "code",
   "execution_count": 21,
   "metadata": {},
   "outputs": [
    {
     "data": {
      "text/html": [
       "<div>\n",
       "<style scoped>\n",
       "    .dataframe tbody tr th:only-of-type {\n",
       "        vertical-align: middle;\n",
       "    }\n",
       "\n",
       "    .dataframe tbody tr th {\n",
       "        vertical-align: top;\n",
       "    }\n",
       "\n",
       "    .dataframe thead th {\n",
       "        text-align: right;\n",
       "    }\n",
       "</style>\n",
       "<table border=\"1\" class=\"dataframe\">\n",
       "  <thead>\n",
       "    <tr style=\"text-align: right;\">\n",
       "      <th></th>\n",
       "      <th>var</th>\n",
       "      <th>nunique</th>\n",
       "    </tr>\n",
       "  </thead>\n",
       "  <tbody>\n",
       "  </tbody>\n",
       "</table>\n",
       "</div>"
      ],
      "text/plain": [
       "Empty DataFrame\n",
       "Columns: [var, nunique]\n",
       "Index: []"
      ]
     },
     "execution_count": 21,
     "metadata": {},
     "output_type": "execute_result"
    }
   ],
   "source": [
    "cat_var_checker(pd.concat([df_train, df_val, df_test], sort=False))"
   ]
  },
  {
   "cell_type": "code",
   "execution_count": 22,
   "metadata": {},
   "outputs": [
    {
     "data": {
      "text/plain": [
       "array([0., 1.])"
      ]
     },
     "execution_count": 22,
     "metadata": {},
     "output_type": "execute_result"
    }
   ],
   "source": [
    "df_train['target'].unique()"
   ]
  },
  {
   "cell_type": "markdown",
   "metadata": {},
   "source": [
    "##### Since there are no categorical variables in the feature set, I wish to ignore this step for the encoding features alone"
   ]
  },
  {
   "cell_type": "code",
   "execution_count": 23,
   "metadata": {},
   "outputs": [
    {
     "data": {
      "text/html": [
       "<div>\n",
       "<style scoped>\n",
       "    .dataframe tbody tr th:only-of-type {\n",
       "        vertical-align: middle;\n",
       "    }\n",
       "\n",
       "    .dataframe tbody tr th {\n",
       "        vertical-align: top;\n",
       "    }\n",
       "\n",
       "    .dataframe thead th {\n",
       "        text-align: right;\n",
       "    }\n",
       "</style>\n",
       "<table border=\"1\" class=\"dataframe\">\n",
       "  <thead>\n",
       "    <tr style=\"text-align: right;\">\n",
       "      <th></th>\n",
       "      <th>target</th>\n",
       "      <th>var_0</th>\n",
       "      <th>var_1</th>\n",
       "      <th>var_2</th>\n",
       "      <th>var_3</th>\n",
       "      <th>var_4</th>\n",
       "      <th>var_5</th>\n",
       "      <th>var_6</th>\n",
       "      <th>var_7</th>\n",
       "      <th>var_8</th>\n",
       "      <th>...</th>\n",
       "      <th>var_190</th>\n",
       "      <th>var_191</th>\n",
       "      <th>var_192</th>\n",
       "      <th>var_193</th>\n",
       "      <th>var_194</th>\n",
       "      <th>var_195</th>\n",
       "      <th>var_196</th>\n",
       "      <th>var_197</th>\n",
       "      <th>var_198</th>\n",
       "      <th>var_199</th>\n",
       "    </tr>\n",
       "  </thead>\n",
       "  <tbody>\n",
       "    <tr>\n",
       "      <th>0</th>\n",
       "      <td>0</td>\n",
       "      <td>12.3039</td>\n",
       "      <td>-8.3899</td>\n",
       "      <td>9.1944</td>\n",
       "      <td>8.0649</td>\n",
       "      <td>9.0247</td>\n",
       "      <td>-1.9559</td>\n",
       "      <td>5.1565</td>\n",
       "      <td>21.1631</td>\n",
       "      <td>2.7437</td>\n",
       "      <td>...</td>\n",
       "      <td>5.5185</td>\n",
       "      <td>7.9504</td>\n",
       "      <td>0.9184</td>\n",
       "      <td>5.9945</td>\n",
       "      <td>11.0078</td>\n",
       "      <td>-1.0936</td>\n",
       "      <td>-2.3412</td>\n",
       "      <td>8.1712</td>\n",
       "      <td>12.9046</td>\n",
       "      <td>-1.9309</td>\n",
       "    </tr>\n",
       "    <tr>\n",
       "      <th>1</th>\n",
       "      <td>0</td>\n",
       "      <td>15.4069</td>\n",
       "      <td>2.7820</td>\n",
       "      <td>9.2951</td>\n",
       "      <td>7.1997</td>\n",
       "      <td>8.5359</td>\n",
       "      <td>-4.5422</td>\n",
       "      <td>5.4210</td>\n",
       "      <td>9.9651</td>\n",
       "      <td>4.0623</td>\n",
       "      <td>...</td>\n",
       "      <td>3.0063</td>\n",
       "      <td>5.6555</td>\n",
       "      <td>2.1527</td>\n",
       "      <td>1.3518</td>\n",
       "      <td>15.4728</td>\n",
       "      <td>0.2686</td>\n",
       "      <td>6.5523</td>\n",
       "      <td>8.4698</td>\n",
       "      <td>22.0454</td>\n",
       "      <td>1.4756</td>\n",
       "    </tr>\n",
       "    <tr>\n",
       "      <th>2</th>\n",
       "      <td>0</td>\n",
       "      <td>9.6427</td>\n",
       "      <td>-4.6261</td>\n",
       "      <td>6.9610</td>\n",
       "      <td>5.4054</td>\n",
       "      <td>12.0859</td>\n",
       "      <td>-11.2917</td>\n",
       "      <td>4.5290</td>\n",
       "      <td>13.8605</td>\n",
       "      <td>-0.8366</td>\n",
       "      <td>...</td>\n",
       "      <td>3.4351</td>\n",
       "      <td>9.1779</td>\n",
       "      <td>1.5004</td>\n",
       "      <td>1.9895</td>\n",
       "      <td>20.4072</td>\n",
       "      <td>-0.1118</td>\n",
       "      <td>0.5692</td>\n",
       "      <td>9.3290</td>\n",
       "      <td>12.8980</td>\n",
       "      <td>-9.4318</td>\n",
       "    </tr>\n",
       "    <tr>\n",
       "      <th>3</th>\n",
       "      <td>1</td>\n",
       "      <td>9.6881</td>\n",
       "      <td>-5.6696</td>\n",
       "      <td>11.2709</td>\n",
       "      <td>8.2812</td>\n",
       "      <td>13.9232</td>\n",
       "      <td>-16.1434</td>\n",
       "      <td>4.9664</td>\n",
       "      <td>20.1092</td>\n",
       "      <td>-5.9868</td>\n",
       "      <td>...</td>\n",
       "      <td>-4.9494</td>\n",
       "      <td>9.2727</td>\n",
       "      <td>1.1371</td>\n",
       "      <td>3.7435</td>\n",
       "      <td>20.6906</td>\n",
       "      <td>1.3752</td>\n",
       "      <td>7.4442</td>\n",
       "      <td>9.2145</td>\n",
       "      <td>18.2777</td>\n",
       "      <td>-2.5865</td>\n",
       "    </tr>\n",
       "    <tr>\n",
       "      <th>4</th>\n",
       "      <td>0</td>\n",
       "      <td>7.1128</td>\n",
       "      <td>-2.0830</td>\n",
       "      <td>11.4807</td>\n",
       "      <td>8.3033</td>\n",
       "      <td>10.6180</td>\n",
       "      <td>-6.4743</td>\n",
       "      <td>5.0078</td>\n",
       "      <td>21.0212</td>\n",
       "      <td>-4.9779</td>\n",
       "      <td>...</td>\n",
       "      <td>7.3583</td>\n",
       "      <td>8.1992</td>\n",
       "      <td>1.3436</td>\n",
       "      <td>8.8929</td>\n",
       "      <td>21.6711</td>\n",
       "      <td>-2.0557</td>\n",
       "      <td>6.4975</td>\n",
       "      <td>8.3110</td>\n",
       "      <td>13.7728</td>\n",
       "      <td>-5.9028</td>\n",
       "    </tr>\n",
       "  </tbody>\n",
       "</table>\n",
       "<p>5 rows × 201 columns</p>\n",
       "</div>"
      ],
      "text/plain": [
       "   target    var_0   var_1    var_2   var_3    var_4    var_5   var_6  \\\n",
       "0       0  12.3039 -8.3899   9.1944  8.0649   9.0247  -1.9559  5.1565   \n",
       "1       0  15.4069  2.7820   9.2951  7.1997   8.5359  -4.5422  5.4210   \n",
       "2       0   9.6427 -4.6261   6.9610  5.4054  12.0859 -11.2917  4.5290   \n",
       "3       1   9.6881 -5.6696  11.2709  8.2812  13.9232 -16.1434  4.9664   \n",
       "4       0   7.1128 -2.0830  11.4807  8.3033  10.6180  -6.4743  5.0078   \n",
       "\n",
       "     var_7   var_8  ...  var_190  var_191  var_192  var_193  var_194  var_195  \\\n",
       "0  21.1631  2.7437  ...   5.5185   7.9504   0.9184   5.9945  11.0078  -1.0936   \n",
       "1   9.9651  4.0623  ...   3.0063   5.6555   2.1527   1.3518  15.4728   0.2686   \n",
       "2  13.8605 -0.8366  ...   3.4351   9.1779   1.5004   1.9895  20.4072  -0.1118   \n",
       "3  20.1092 -5.9868  ...  -4.9494   9.2727   1.1371   3.7435  20.6906   1.3752   \n",
       "4  21.0212 -4.9779  ...   7.3583   8.1992   1.3436   8.8929  21.6711  -2.0557   \n",
       "\n",
       "   var_196  var_197  var_198  var_199  \n",
       "0  -2.3412   8.1712  12.9046  -1.9309  \n",
       "1   6.5523   8.4698  22.0454   1.4756  \n",
       "2   0.5692   9.3290  12.8980  -9.4318  \n",
       "3   7.4442   9.2145  18.2777  -2.5865  \n",
       "4   6.4975   8.3110  13.7728  -5.9028  \n",
       "\n",
       "[5 rows x 201 columns]"
      ]
     },
     "execution_count": 23,
     "metadata": {},
     "output_type": "execute_result"
    }
   ],
   "source": [
    "df = pd.concat([df_train, df_val, df_test], sort=False)\n",
    "df.loc[:, target] = df[target].astype(str)\n",
    "\n",
    "from sklearn.preprocessing import LabelEncoder\n",
    "le = LabelEncoder()\n",
    "df[target] = le.fit_transform(df[target])\n",
    "\n",
    "# Separating the data into subsets - training, validation, and testing\n",
    "df_train = df.iloc[:df_train.shape[0], :]\n",
    "df_val = df.iloc[df_train.shape[0]:df_train.shape[0] + df_val.shape[0], :]\n",
    "df_test = df.iloc[df_train.shape[0] + df_val.shape[0]:, :]\n",
    "\n",
    "df.head()"
   ]
  },
  {
   "cell_type": "markdown",
   "metadata": {},
   "source": [
    "### Integrity check"
   ]
  },
  {
   "cell_type": "code",
   "execution_count": 24,
   "metadata": {},
   "outputs": [
    {
     "data": {
      "text/html": [
       "<div>\n",
       "<style scoped>\n",
       "    .dataframe tbody tr th:only-of-type {\n",
       "        vertical-align: middle;\n",
       "    }\n",
       "\n",
       "    .dataframe tbody tr th {\n",
       "        vertical-align: top;\n",
       "    }\n",
       "\n",
       "    .dataframe thead th {\n",
       "        text-align: right;\n",
       "    }\n",
       "</style>\n",
       "<table border=\"1\" class=\"dataframe\">\n",
       "  <thead>\n",
       "    <tr style=\"text-align: right;\">\n",
       "      <th></th>\n",
       "      <th>Instances</th>\n",
       "      <th>Features</th>\n",
       "    </tr>\n",
       "  </thead>\n",
       "  <tbody>\n",
       "    <tr>\n",
       "      <th>Training</th>\n",
       "      <td>160000</td>\n",
       "      <td>201</td>\n",
       "    </tr>\n",
       "    <tr>\n",
       "      <th>Testing</th>\n",
       "      <td>200000</td>\n",
       "      <td>201</td>\n",
       "    </tr>\n",
       "    <tr>\n",
       "      <th>Validation</th>\n",
       "      <td>40000</td>\n",
       "      <td>201</td>\n",
       "    </tr>\n",
       "  </tbody>\n",
       "</table>\n",
       "</div>"
      ],
      "text/plain": [
       "            Instances  Features\n",
       "Training       160000       201\n",
       "Testing        200000       201\n",
       "Validation      40000       201"
      ]
     },
     "execution_count": 24,
     "metadata": {},
     "output_type": "execute_result"
    }
   ],
   "source": [
    "# Print the dimension of df_train\n",
    "pd.DataFrame({'Training':{'Instances':df_train.shape[0], 'Features':df_train.shape[1]},\n",
    "              'Testing':{'Instances':df_test.shape[0], 'Features':df_test.shape[1]},\n",
    "              'Validation':{'Instances':df_val.shape[0], 'Features':df_val.shape[1]}}).T"
   ]
  },
  {
   "cell_type": "markdown",
   "metadata": {},
   "source": [
    "### Splitting the data and transform to Numpy vars"
   ]
  },
  {
   "cell_type": "code",
   "execution_count": 25,
   "metadata": {},
   "outputs": [],
   "source": [
    "# Get the feature matrix\n",
    "X_train = df_train[np.setdiff1d(df_train.columns, [target])].values\n",
    "X_val = df_val[np.setdiff1d(df_val.columns, [target])].values\n",
    "X_test = df_test[np.setdiff1d(df_test.columns, [target])].values\n",
    "\n",
    "# Get the target vector\n",
    "y_train = df_train[target].values\n",
    "y_val = df_val[target].values\n",
    "y_test = df_test[target].values"
   ]
  },
  {
   "cell_type": "markdown",
   "metadata": {
    "tags": []
   },
   "source": [
    "### Scaling the data"
   ]
  },
  {
   "cell_type": "code",
   "execution_count": 26,
   "metadata": {},
   "outputs": [
    {
     "data": {
      "text/html": [
       "<div>\n",
       "<style scoped>\n",
       "    .dataframe tbody tr th:only-of-type {\n",
       "        vertical-align: middle;\n",
       "    }\n",
       "\n",
       "    .dataframe tbody tr th {\n",
       "        vertical-align: top;\n",
       "    }\n",
       "\n",
       "    .dataframe thead th {\n",
       "        text-align: right;\n",
       "    }\n",
       "</style>\n",
       "<table border=\"1\" class=\"dataframe\">\n",
       "  <thead>\n",
       "    <tr style=\"text-align: right;\">\n",
       "      <th></th>\n",
       "      <th>target</th>\n",
       "      <th>var_0</th>\n",
       "      <th>var_1</th>\n",
       "      <th>var_2</th>\n",
       "      <th>var_3</th>\n",
       "    </tr>\n",
       "  </thead>\n",
       "  <tbody>\n",
       "    <tr>\n",
       "      <th>count</th>\n",
       "      <td>160000.000000</td>\n",
       "      <td>160000.000000</td>\n",
       "      <td>160000.000000</td>\n",
       "      <td>160000.000000</td>\n",
       "      <td>160000.000000</td>\n",
       "    </tr>\n",
       "    <tr>\n",
       "      <th>mean</th>\n",
       "      <td>0.100006</td>\n",
       "      <td>10.682738</td>\n",
       "      <td>-1.627696</td>\n",
       "      <td>10.717273</td>\n",
       "      <td>6.798320</td>\n",
       "    </tr>\n",
       "    <tr>\n",
       "      <th>std</th>\n",
       "      <td>0.300009</td>\n",
       "      <td>3.038333</td>\n",
       "      <td>4.048081</td>\n",
       "      <td>2.638754</td>\n",
       "      <td>2.047802</td>\n",
       "    </tr>\n",
       "    <tr>\n",
       "      <th>min</th>\n",
       "      <td>0.000000</td>\n",
       "      <td>0.452800</td>\n",
       "      <td>-15.043400</td>\n",
       "      <td>2.117100</td>\n",
       "      <td>-0.040200</td>\n",
       "    </tr>\n",
       "    <tr>\n",
       "      <th>25%</th>\n",
       "      <td>0.000000</td>\n",
       "      <td>8.457575</td>\n",
       "      <td>-4.739725</td>\n",
       "      <td>8.725700</td>\n",
       "      <td>5.250900</td>\n",
       "    </tr>\n",
       "    <tr>\n",
       "      <th>50%</th>\n",
       "      <td>0.000000</td>\n",
       "      <td>10.528250</td>\n",
       "      <td>-1.602700</td>\n",
       "      <td>10.585100</td>\n",
       "      <td>6.827800</td>\n",
       "    </tr>\n",
       "    <tr>\n",
       "      <th>75%</th>\n",
       "      <td>0.000000</td>\n",
       "      <td>12.757700</td>\n",
       "      <td>1.355125</td>\n",
       "      <td>12.516800</td>\n",
       "      <td>8.330000</td>\n",
       "    </tr>\n",
       "    <tr>\n",
       "      <th>max</th>\n",
       "      <td>1.000000</td>\n",
       "      <td>20.315000</td>\n",
       "      <td>10.376800</td>\n",
       "      <td>18.652100</td>\n",
       "      <td>13.188300</td>\n",
       "    </tr>\n",
       "  </tbody>\n",
       "</table>\n",
       "</div>"
      ],
      "text/plain": [
       "              target          var_0          var_1          var_2  \\\n",
       "count  160000.000000  160000.000000  160000.000000  160000.000000   \n",
       "mean        0.100006      10.682738      -1.627696      10.717273   \n",
       "std         0.300009       3.038333       4.048081       2.638754   \n",
       "min         0.000000       0.452800     -15.043400       2.117100   \n",
       "25%         0.000000       8.457575      -4.739725       8.725700   \n",
       "50%         0.000000      10.528250      -1.602700      10.585100   \n",
       "75%         0.000000      12.757700       1.355125      12.516800   \n",
       "max         1.000000      20.315000      10.376800      18.652100   \n",
       "\n",
       "               var_3  \n",
       "count  160000.000000  \n",
       "mean        6.798320  \n",
       "std         2.047802  \n",
       "min        -0.040200  \n",
       "25%         5.250900  \n",
       "50%         6.827800  \n",
       "75%         8.330000  \n",
       "max        13.188300  "
      ]
     },
     "execution_count": 26,
     "metadata": {},
     "output_type": "execute_result"
    }
   ],
   "source": [
    "df_train.iloc[:, :5].describe() # I set to 5 just to limit bombaring the screen"
   ]
  },
  {
   "cell_type": "code",
   "execution_count": 27,
   "metadata": {},
   "outputs": [],
   "source": [
    "from sklearn.preprocessing import MinMaxScaler\n",
    "\n",
    "mms = MinMaxScaler()\n",
    "X_train = mms.fit_transform(X_train)\n",
    "X_val = mms.transform(X_val)\n",
    "X_test = mms.transform(X_test)"
   ]
  },
  {
   "cell_type": "code",
   "execution_count": 28,
   "metadata": {},
   "outputs": [
    {
     "data": {
      "text/html": [
       "<div>\n",
       "<style scoped>\n",
       "    .dataframe tbody tr th:only-of-type {\n",
       "        vertical-align: middle;\n",
       "    }\n",
       "\n",
       "    .dataframe tbody tr th {\n",
       "        vertical-align: top;\n",
       "    }\n",
       "\n",
       "    .dataframe thead th {\n",
       "        text-align: right;\n",
       "    }\n",
       "</style>\n",
       "<table border=\"1\" class=\"dataframe\">\n",
       "  <thead>\n",
       "    <tr style=\"text-align: right;\">\n",
       "      <th></th>\n",
       "      <th>0</th>\n",
       "      <th>1</th>\n",
       "      <th>2</th>\n",
       "      <th>3</th>\n",
       "      <th>4</th>\n",
       "    </tr>\n",
       "  </thead>\n",
       "  <tbody>\n",
       "    <tr>\n",
       "      <th>count</th>\n",
       "      <td>400000.000000</td>\n",
       "      <td>400000.000000</td>\n",
       "      <td>400000.000000</td>\n",
       "      <td>400000.000000</td>\n",
       "      <td>400000.000000</td>\n",
       "    </tr>\n",
       "    <tr>\n",
       "      <th>mean</th>\n",
       "      <td>0.514370</td>\n",
       "      <td>0.527827</td>\n",
       "      <td>0.520194</td>\n",
       "      <td>0.505936</td>\n",
       "      <td>0.469485</td>\n",
       "    </tr>\n",
       "    <tr>\n",
       "      <th>std</th>\n",
       "      <td>0.152974</td>\n",
       "      <td>0.159136</td>\n",
       "      <td>0.144428</td>\n",
       "      <td>0.142751</td>\n",
       "      <td>0.174465</td>\n",
       "    </tr>\n",
       "    <tr>\n",
       "      <th>min</th>\n",
       "      <td>-0.013297</td>\n",
       "      <td>0.000000</td>\n",
       "      <td>-0.084706</td>\n",
       "      <td>-0.027517</td>\n",
       "      <td>-0.025384</td>\n",
       "    </tr>\n",
       "    <tr>\n",
       "      <th>25%</th>\n",
       "      <td>0.402579</td>\n",
       "      <td>0.406079</td>\n",
       "      <td>0.415434</td>\n",
       "      <td>0.403526</td>\n",
       "      <td>0.336362</td>\n",
       "    </tr>\n",
       "    <tr>\n",
       "      <th>50%</th>\n",
       "      <td>0.506799</td>\n",
       "      <td>0.528871</td>\n",
       "      <td>0.522993</td>\n",
       "      <td>0.508377</td>\n",
       "      <td>0.468403</td>\n",
       "    </tr>\n",
       "    <tr>\n",
       "      <th>75%</th>\n",
       "      <td>0.619036</td>\n",
       "      <td>0.644898</td>\n",
       "      <td>0.624893</td>\n",
       "      <td>0.610529</td>\n",
       "      <td>0.604859</td>\n",
       "    </tr>\n",
       "    <tr>\n",
       "      <th>max</th>\n",
       "      <td>1.101117</td>\n",
       "      <td>1.000000</td>\n",
       "      <td>1.040518</td>\n",
       "      <td>1.000000</td>\n",
       "      <td>1.024560</td>\n",
       "    </tr>\n",
       "  </tbody>\n",
       "</table>\n",
       "</div>"
      ],
      "text/plain": [
       "                   0              1              2              3  \\\n",
       "count  400000.000000  400000.000000  400000.000000  400000.000000   \n",
       "mean        0.514370       0.527827       0.520194       0.505936   \n",
       "std         0.152974       0.159136       0.144428       0.142751   \n",
       "min        -0.013297       0.000000      -0.084706      -0.027517   \n",
       "25%         0.402579       0.406079       0.415434       0.403526   \n",
       "50%         0.506799       0.528871       0.522993       0.508377   \n",
       "75%         0.619036       0.644898       0.624893       0.610529   \n",
       "max         1.101117       1.000000       1.040518       1.000000   \n",
       "\n",
       "                   4  \n",
       "count  400000.000000  \n",
       "mean        0.469485  \n",
       "std         0.174465  \n",
       "min        -0.025384  \n",
       "25%         0.336362  \n",
       "50%         0.468403  \n",
       "75%         0.604859  \n",
       "max         1.024560  "
      ]
     },
     "execution_count": 28,
     "metadata": {},
     "output_type": "execute_result"
    }
   ],
   "source": [
    "tmp_df = pd.DataFrame(np.vstack([X_train, X_val, X_test]))\n",
    "tmp_df.iloc[:, :5].describe()"
   ]
  },
  {
   "cell_type": "markdown",
   "metadata": {},
   "source": [
    "#### Comparing the table prior to and after scaling, the first and the second order moment appears to be consistent across the features. Hence the scaling is complete"
   ]
  },
  {
   "cell_type": "code",
   "execution_count": null,
   "metadata": {},
   "outputs": [],
   "source": []
  },
  {
   "cell_type": "markdown",
   "metadata": {
    "jp-MarkdownHeadingCollapsed": true,
    "tags": []
   },
   "source": [
    "# Handling Class-Imbalance"
   ]
  },
  {
   "cell_type": "code",
   "execution_count": 29,
   "metadata": {},
   "outputs": [
    {
     "data": {
      "text/plain": [
       "(400000, 201)"
      ]
     },
     "execution_count": 29,
     "metadata": {},
     "output_type": "execute_result"
    }
   ],
   "source": [
    "df.shape"
   ]
  },
  {
   "cell_type": "code",
   "execution_count": 30,
   "metadata": {},
   "outputs": [
    {
     "data": {
      "text/html": [
       "<div>\n",
       "<style scoped>\n",
       "    .dataframe tbody tr th:only-of-type {\n",
       "        vertical-align: middle;\n",
       "    }\n",
       "\n",
       "    .dataframe tbody tr th {\n",
       "        vertical-align: top;\n",
       "    }\n",
       "\n",
       "    .dataframe thead th {\n",
       "        text-align: right;\n",
       "    }\n",
       "</style>\n",
       "<table border=\"1\" class=\"dataframe\">\n",
       "  <thead>\n",
       "    <tr style=\"text-align: right;\">\n",
       "      <th></th>\n",
       "      <th>0</th>\n",
       "      <th>1</th>\n",
       "      <th>2</th>\n",
       "      <th>3</th>\n",
       "      <th>4</th>\n",
       "    </tr>\n",
       "  </thead>\n",
       "  <tbody>\n",
       "    <tr>\n",
       "      <th>count</th>\n",
       "      <td>400000.000000</td>\n",
       "      <td>400000.000000</td>\n",
       "      <td>400000.000000</td>\n",
       "      <td>400000.000000</td>\n",
       "      <td>400000.000000</td>\n",
       "    </tr>\n",
       "    <tr>\n",
       "      <th>mean</th>\n",
       "      <td>0.514370</td>\n",
       "      <td>0.527827</td>\n",
       "      <td>0.520194</td>\n",
       "      <td>0.505936</td>\n",
       "      <td>0.469485</td>\n",
       "    </tr>\n",
       "    <tr>\n",
       "      <th>std</th>\n",
       "      <td>0.152974</td>\n",
       "      <td>0.159136</td>\n",
       "      <td>0.144428</td>\n",
       "      <td>0.142751</td>\n",
       "      <td>0.174465</td>\n",
       "    </tr>\n",
       "    <tr>\n",
       "      <th>min</th>\n",
       "      <td>-0.013297</td>\n",
       "      <td>0.000000</td>\n",
       "      <td>-0.084706</td>\n",
       "      <td>-0.027517</td>\n",
       "      <td>-0.025384</td>\n",
       "    </tr>\n",
       "    <tr>\n",
       "      <th>25%</th>\n",
       "      <td>0.402579</td>\n",
       "      <td>0.406079</td>\n",
       "      <td>0.415434</td>\n",
       "      <td>0.403526</td>\n",
       "      <td>0.336362</td>\n",
       "    </tr>\n",
       "    <tr>\n",
       "      <th>50%</th>\n",
       "      <td>0.506799</td>\n",
       "      <td>0.528871</td>\n",
       "      <td>0.522993</td>\n",
       "      <td>0.508377</td>\n",
       "      <td>0.468403</td>\n",
       "    </tr>\n",
       "    <tr>\n",
       "      <th>75%</th>\n",
       "      <td>0.619036</td>\n",
       "      <td>0.644898</td>\n",
       "      <td>0.624893</td>\n",
       "      <td>0.610529</td>\n",
       "      <td>0.604859</td>\n",
       "    </tr>\n",
       "    <tr>\n",
       "      <th>max</th>\n",
       "      <td>1.101117</td>\n",
       "      <td>1.000000</td>\n",
       "      <td>1.040518</td>\n",
       "      <td>1.000000</td>\n",
       "      <td>1.024560</td>\n",
       "    </tr>\n",
       "  </tbody>\n",
       "</table>\n",
       "</div>"
      ],
      "text/plain": [
       "                   0              1              2              3  \\\n",
       "count  400000.000000  400000.000000  400000.000000  400000.000000   \n",
       "mean        0.514370       0.527827       0.520194       0.505936   \n",
       "std         0.152974       0.159136       0.144428       0.142751   \n",
       "min        -0.013297       0.000000      -0.084706      -0.027517   \n",
       "25%         0.402579       0.406079       0.415434       0.403526   \n",
       "50%         0.506799       0.528871       0.522993       0.508377   \n",
       "75%         0.619036       0.644898       0.624893       0.610529   \n",
       "max         1.101117       1.000000       1.040518       1.000000   \n",
       "\n",
       "                   4  \n",
       "count  400000.000000  \n",
       "mean        0.469485  \n",
       "std         0.174465  \n",
       "min        -0.025384  \n",
       "25%         0.336362  \n",
       "50%         0.468403  \n",
       "75%         0.604859  \n",
       "max         1.024560  "
      ]
     },
     "execution_count": 30,
     "metadata": {},
     "output_type": "execute_result"
    }
   ],
   "source": [
    "tmp_df.iloc[:, :5].describe()"
   ]
  },
  {
   "cell_type": "code",
   "execution_count": 31,
   "metadata": {},
   "outputs": [],
   "source": [
    "tmp_y = np.hstack([y_train, y_val, y_test])"
   ]
  },
  {
   "cell_type": "code",
   "execution_count": 32,
   "metadata": {},
   "outputs": [],
   "source": [
    "# import seaborn as sns\n",
    "\n",
    "# fig, axes = plt.subplots(2, 2)\n",
    "# sns.scatterplot(data=pd.DataFrame({'X':tmp_df.iloc[:, 0], 'Y':tmp_df.iloc[:, 1], 'target':tmp_y}), x='X', y='Y', hue='target', ax=axes[0, 0])\n",
    "# sns.scatterplot(data=pd.DataFrame({'X':tmp_df.iloc[:, 3], 'Y':tmp_df.iloc[:, 4], 'target':tmp_y}), x='X', y='Y', hue='target', ax=axes[0, 1])\n",
    "# sns.scatterplot(data=pd.DataFrame({'X':tmp_df.iloc[:, 1], 'Y':tmp_df.iloc[:, 28], 'target':tmp_y}), x='X', y='Y', hue='target', ax=axes[1, 0])\n",
    "# sns.scatterplot(data=pd.DataFrame({'X':tmp_df.iloc[:, 100], 'Y':tmp_df.iloc[:, 180], 'target':tmp_y}), x='X', y='Y', hue='target', ax=axes[1, 1])\n",
    "# plt.show()"
   ]
  },
  {
   "cell_type": "code",
   "execution_count": 33,
   "metadata": {},
   "outputs": [
    {
     "data": {
      "image/png": "[encoded data removed]",
      "text/plain": [
       "<Figure size 432x288 with 1 Axes>"
      ]
     },
     "metadata": {
      "needs_background": "light"
     },
     "output_type": "display_data"
    }
   ],
   "source": [
    "import seaborn as sns\n",
    "plt.figure()\n",
    "sns.histplot(pd.DataFrame({'target':tmp_y}))\n",
    "plt.show()"
   ]
  },
  {
   "cell_type": "markdown",
   "metadata": {
    "tags": []
   },
   "source": [
    "### SMOTE to handle class-imbalance"
   ]
  },
  {
   "cell_type": "markdown",
   "metadata": {},
   "source": [
    "#### Before we use SMOTE, we need to find out the K that is best to estimate the features"
   ]
  },
  {
   "cell_type": "code",
   "execution_count": 34,
   "metadata": {},
   "outputs": [
    {
     "name": "stdout",
     "output_type": "stream",
     "text": [
      "1=143999 2=16001\n"
     ]
    }
   ],
   "source": [
    "print(f'1={np.sum(y_train==0)} 2={np.sum(y_train==1)}')"
   ]
  },
  {
   "cell_type": "code",
   "execution_count": 35,
   "metadata": {},
   "outputs": [],
   "source": [
    "X = np.vstack([X_train, X_val])\n",
    "y = np.hstack([y_train, y_val])"
   ]
  },
  {
   "cell_type": "code",
   "execution_count": 173,
   "metadata": {},
   "outputs": [],
   "source": [
    "from sklearn.model_selection import GridSearchCV\n",
    "from sklearn.neighbors import KNeighborsClassifier\n",
    "\n",
    "knn = KNeighborsClassifier()\n",
    "\n",
    "k_range = [10, 20, 30, 40, 50, 100]\n",
    "param_grid = {'n_neighbors':k_range}\n",
    "grid_cv = GridSearchCV(knn, param_grid, cv=10, scoring='f1_weighted', n_jobs=-1,\n",
    "                       return_train_score=True)\n",
    "grid_cv = grid_cv.fit(X, y)"
   ]
  },
  {
   "cell_type": "code",
   "execution_count": null,
   "metadata": {},
   "outputs": [],
   "source": [
    "print(f'Best score: {grid_cv.best_score_} Best K: {grid_cv.best_params_}')"
   ]
  },
  {
   "cell_type": "code",
   "execution_count": 36,
   "metadata": {},
   "outputs": [
    {
     "name": "stdout",
     "output_type": "stream",
     "text": [
      "1=179902 2=20098\n"
     ]
    }
   ],
   "source": [
    "print(f'1={np.sum(y==0)} 2={np.sum(y==1)}')"
   ]
  },
  {
   "cell_type": "code",
   "execution_count": 37,
   "metadata": {
    "scrolled": true,
    "tags": []
   },
   "outputs": [],
   "source": [
    "try:\n",
    "    import imblearn\n",
    "except:\n",
    "    !pip install imblearn\n",
    "    import imblearn"
   ]
  },
  {
   "cell_type": "code",
   "execution_count": 38,
   "metadata": {},
   "outputs": [],
   "source": [
    "from imblearn.over_sampling import SMOTE\n",
    "\n",
    "sm = SMOTE(random_state=random_seed, sampling_strategy=1, \n",
    "           k_neighbors=grid_cv.best_params_['n_neighbors'],\n",
    "           n_jobs=-1)\n",
    "X, y = sm.fit_resample(X, y)"
   ]
  },
  {
   "cell_type": "code",
   "execution_count": 39,
   "metadata": {},
   "outputs": [
    {
     "name": "stdout",
     "output_type": "stream",
     "text": [
      "1=179902 2=179902\n"
     ]
    }
   ],
   "source": [
    "print(f'1={np.sum(y==0)} 2={np.sum(y==1)}')"
   ]
  },
  {
   "cell_type": "code",
   "execution_count": 40,
   "metadata": {},
   "outputs": [
    {
     "data": {
      "image/png": "[encoded data removed]",
      "text/plain": [
       "<Figure size 432x288 with 1 Axes>"
      ]
     },
     "metadata": {
      "needs_background": "light"
     },
     "output_type": "display_data"
    }
   ],
   "source": [
    "plt.figure()\n",
    "sns.histplot(pd.DataFrame({'target':y}))\n",
    "plt.show()"
   ]
  },
  {
   "cell_type": "markdown",
   "metadata": {},
   "source": [
    "### Split the data into training, and validation subsets"
   ]
  },
  {
   "cell_type": "code",
   "execution_count": 41,
   "metadata": {},
   "outputs": [],
   "source": [
    "indices = list(range(X.shape[0]))\n",
    "tr_indices, vl_indices = train_test_split(indices, train_size=0.8, random_state=random_seed)"
   ]
  },
  {
   "cell_type": "code",
   "execution_count": 42,
   "metadata": {},
   "outputs": [],
   "source": [
    "X_train = X[tr_indices]\n",
    "X_val = X[vl_indices]\n",
    "\n",
    "y_train = y[tr_indices]\n",
    "y_val = y[vl_indices]"
   ]
  },
  {
   "cell_type": "code",
   "execution_count": 43,
   "metadata": {},
   "outputs": [
    {
     "data": {
      "text/html": [
       "<div>\n",
       "<style scoped>\n",
       "    .dataframe tbody tr th:only-of-type {\n",
       "        vertical-align: middle;\n",
       "    }\n",
       "\n",
       "    .dataframe tbody tr th {\n",
       "        vertical-align: top;\n",
       "    }\n",
       "\n",
       "    .dataframe thead th {\n",
       "        text-align: right;\n",
       "    }\n",
       "</style>\n",
       "<table border=\"1\" class=\"dataframe\">\n",
       "  <thead>\n",
       "    <tr style=\"text-align: right;\">\n",
       "      <th></th>\n",
       "      <th>0</th>\n",
       "      <th>1</th>\n",
       "      <th>2</th>\n",
       "      <th>3</th>\n",
       "      <th>4</th>\n",
       "    </tr>\n",
       "  </thead>\n",
       "  <tbody>\n",
       "    <tr>\n",
       "      <th>count</th>\n",
       "      <td>359804.000000</td>\n",
       "      <td>359804.000000</td>\n",
       "      <td>359804.000000</td>\n",
       "      <td>359804.000000</td>\n",
       "      <td>359804.000000</td>\n",
       "    </tr>\n",
       "    <tr>\n",
       "      <th>mean</th>\n",
       "      <td>0.524495</td>\n",
       "      <td>0.445618</td>\n",
       "      <td>0.534990</td>\n",
       "      <td>0.502361</td>\n",
       "      <td>0.443075</td>\n",
       "    </tr>\n",
       "    <tr>\n",
       "      <th>std</th>\n",
       "      <td>0.146722</td>\n",
       "      <td>0.136476</td>\n",
       "      <td>0.151133</td>\n",
       "      <td>0.142063</td>\n",
       "      <td>0.144700</td>\n",
       "    </tr>\n",
       "    <tr>\n",
       "      <th>min</th>\n",
       "      <td>-0.002235</td>\n",
       "      <td>0.000000</td>\n",
       "      <td>0.000000</td>\n",
       "      <td>0.000000</td>\n",
       "      <td>-0.000470</td>\n",
       "    </tr>\n",
       "    <tr>\n",
       "      <th>25%</th>\n",
       "      <td>0.417647</td>\n",
       "      <td>0.346597</td>\n",
       "      <td>0.422382</td>\n",
       "      <td>0.398661</td>\n",
       "      <td>0.345255</td>\n",
       "    </tr>\n",
       "    <tr>\n",
       "      <th>50%</th>\n",
       "      <td>0.518236</td>\n",
       "      <td>0.440846</td>\n",
       "      <td>0.535944</td>\n",
       "      <td>0.504205</td>\n",
       "      <td>0.450634</td>\n",
       "    </tr>\n",
       "    <tr>\n",
       "      <th>75%</th>\n",
       "      <td>0.624488</td>\n",
       "      <td>0.542217</td>\n",
       "      <td>0.646570</td>\n",
       "      <td>0.605642</td>\n",
       "      <td>0.546272</td>\n",
       "    </tr>\n",
       "    <tr>\n",
       "      <th>max</th>\n",
       "      <td>1.000000</td>\n",
       "      <td>1.000000</td>\n",
       "      <td>1.000000</td>\n",
       "      <td>1.002390</td>\n",
       "      <td>1.000000</td>\n",
       "    </tr>\n",
       "  </tbody>\n",
       "</table>\n",
       "</div>"
      ],
      "text/plain": [
       "                   0              1              2              3  \\\n",
       "count  359804.000000  359804.000000  359804.000000  359804.000000   \n",
       "mean        0.524495       0.445618       0.534990       0.502361   \n",
       "std         0.146722       0.136476       0.151133       0.142063   \n",
       "min        -0.002235       0.000000       0.000000       0.000000   \n",
       "25%         0.417647       0.346597       0.422382       0.398661   \n",
       "50%         0.518236       0.440846       0.535944       0.504205   \n",
       "75%         0.624488       0.542217       0.646570       0.605642   \n",
       "max         1.000000       1.000000       1.000000       1.002390   \n",
       "\n",
       "                   4  \n",
       "count  359804.000000  \n",
       "mean        0.443075  \n",
       "std         0.144700  \n",
       "min        -0.000470  \n",
       "25%         0.345255  \n",
       "50%         0.450634  \n",
       "75%         0.546272  \n",
       "max         1.000000  "
      ]
     },
     "execution_count": 43,
     "metadata": {},
     "output_type": "execute_result"
    }
   ],
   "source": [
    "pd.DataFrame(X[:, [0, 10, 120, 150, 180]]).describe()"
   ]
  },
  {
   "cell_type": "markdown",
   "metadata": {
    "id": "Of56ObPGe31x",
    "jp-MarkdownHeadingCollapsed": true,
    "pycharm": {
     "name": "#%% md\n"
    },
    "tags": []
   },
   "source": [
    "# Hyperparameter Tuning"
   ]
  },
  {
   "cell_type": "code",
   "execution_count": 91,
   "metadata": {},
   "outputs": [],
   "source": [
    "from sklearn.linear_model import LogisticRegression\n",
    "from sklearn.neural_network import MLPClassifier\n",
    "\n",
    "models = {'lr': LogisticRegression(class_weight='balanced', random_state=random_seed),\n",
    "          'mlpc': MLPClassifier(early_stopping=True, random_state=random_seed)}"
   ]
  },
  {
   "cell_type": "code",
   "execution_count": 92,
   "metadata": {},
   "outputs": [],
   "source": [
    "from sklearn.pipeline import Pipeline\n",
    "\n",
    "pipes = {}\n",
    "\n",
    "for acronym, model in models.items():\n",
    "    pipes[acronym] = Pipeline([('model', model)])"
   ]
  },
  {
   "cell_type": "code",
   "execution_count": 93,
   "metadata": {},
   "outputs": [],
   "source": [
    "# Get the:\n",
    "# feature matrix and target velctor in the combined training and validation data\n",
    "# target vector in the combined training and validation data\n",
    "# PredefinedSplit\n",
    "# See the implementation in pmlm_utilities.ipynb\n",
    "X_train_val, y_train_val, ps = get_train_val_ps(X_train, y_train, X_val, y_val)"
   ]
  },
  {
   "cell_type": "code",
   "execution_count": 94,
   "metadata": {},
   "outputs": [],
   "source": [
    "param_grids = {}"
   ]
  },
  {
   "cell_type": "code",
   "execution_count": 95,
   "metadata": {},
   "outputs": [],
   "source": [
    "# The parameter grid of tol\n",
    "tol_grid = [10 ** -5, 10 ** -4, 10 ** -3]\n",
    "\n",
    "# The parameter grid of C\n",
    "C_grid = [0.1, 1, 10]\n",
    "\n",
    "# Update param_grids\n",
    "param_grids['lr'] = [{'model__tol': tol_grid,\n",
    "                      'model__C': C_grid}]"
   ]
  },
  {
   "cell_type": "code",
   "execution_count": 96,
   "metadata": {},
   "outputs": [],
   "source": [
    "# The grids for alpha\n",
    "alpha_grids = [10 ** i for i in range(-5, -2)]\n",
    "\n",
    "# The grids for learning_rate_init\n",
    "learning_rate_init_grids = [10 ** i for i in range(-4, -1)]\n",
    "\n",
    "# Update param_grids\n",
    "param_grids['mlpc'] = [{'model__alpha': alpha_grids,\n",
    "                        'model__learning_rate_init': learning_rate_init_grids}]"
   ]
  },
  {
   "cell_type": "code",
   "execution_count": 98,
   "metadata": {},
   "outputs": [],
   "source": [
    "# Make directory\n",
    "directory = os.path.dirname(abspath_curr + 'result/mnist/cv_results/GridSearchCV/')\n",
    "if not os.path.exists(directory):\n",
    "    os.makedirs(directory)"
   ]
  },
  {
   "cell_type": "code",
   "execution_count": 99,
   "metadata": {},
   "outputs": [
    {
     "data": {
      "text/html": [
       "<div>\n",
       "<style scoped>\n",
       "    .dataframe tbody tr th:only-of-type {\n",
       "        vertical-align: middle;\n",
       "    }\n",
       "\n",
       "    .dataframe tbody tr th {\n",
       "        vertical-align: top;\n",
       "    }\n",
       "\n",
       "    .dataframe thead th {\n",
       "        text-align: right;\n",
       "    }\n",
       "</style>\n",
       "<table border=\"1\" class=\"dataframe\">\n",
       "  <thead>\n",
       "    <tr style=\"text-align: right;\">\n",
       "      <th></th>\n",
       "      <th>best_score</th>\n",
       "      <th>best_param</th>\n",
       "      <th>best_estimator</th>\n",
       "    </tr>\n",
       "  </thead>\n",
       "  <tbody>\n",
       "    <tr>\n",
       "      <th>0</th>\n",
       "      <td>0.878906</td>\n",
       "      <td>{'model__alpha': 0.001, 'model__learning_rate_...</td>\n",
       "      <td>(MLPClassifier(alpha=0.001, early_stopping=Tru...</td>\n",
       "    </tr>\n",
       "    <tr>\n",
       "      <th>1</th>\n",
       "      <td>0.801510</td>\n",
       "      <td>{'model__C': 0.1, 'model__tol': 1e-05}</td>\n",
       "      <td>(LogisticRegression(C=0.1, class_weight='balan...</td>\n",
       "    </tr>\n",
       "  </tbody>\n",
       "</table>\n",
       "</div>"
      ],
      "text/plain": [
       "   best_score                                         best_param  \\\n",
       "0    0.878906  {'model__alpha': 0.001, 'model__learning_rate_...   \n",
       "1    0.801510             {'model__C': 0.1, 'model__tol': 1e-05}   \n",
       "\n",
       "                                      best_estimator  \n",
       "0  (MLPClassifier(alpha=0.001, early_stopping=Tru...  \n",
       "1  (LogisticRegression(C=0.1, class_weight='balan...  "
      ]
     },
     "execution_count": 99,
     "metadata": {},
     "output_type": "execute_result"
    }
   ],
   "source": [
    "from sklearn.model_selection import GridSearchCV\n",
    "\n",
    "# The list of [best_score_, best_params_, best_estimator_] obtained by GridSearchCV\n",
    "best_score_params_estimator_gs = []\n",
    "\n",
    "# For each model\n",
    "for acronym in pipes.keys():\n",
    "    # GridSearchCV\n",
    "    gs = GridSearchCV(estimator=pipes[acronym],\n",
    "                      param_grid=param_grids[acronym],\n",
    "                      scoring='f1_macro',\n",
    "                      n_jobs=-1,\n",
    "                      cv=ps,\n",
    "                      return_train_score=True)\n",
    "        \n",
    "    # Fit the pipeline\n",
    "    gs = gs.fit(X_train_val, y_train_val)\n",
    "    \n",
    "    # Update best_score_params_estimator_gs\n",
    "    best_score_params_estimator_gs.append([gs.best_score_, gs.best_params_, gs.best_estimator_])\n",
    "    \n",
    "    # Sort cv_results in ascending order of 'rank_test_score' and 'std_test_score'\n",
    "    cv_results = pd.DataFrame.from_dict(gs.cv_results_).sort_values(by=['rank_test_score', 'std_test_score'])\n",
    "    \n",
    "    # Get the important columns in cv_results\n",
    "    important_columns = ['rank_test_score',\n",
    "                         'mean_test_score', \n",
    "                         'std_test_score', \n",
    "                         'mean_train_score', \n",
    "                         'std_train_score',\n",
    "                         'mean_fit_time', \n",
    "                         'std_fit_time',                        \n",
    "                         'mean_score_time', \n",
    "                         'std_score_time']\n",
    "    \n",
    "    # Move the important columns ahead\n",
    "    cv_results = cv_results[important_columns + sorted(list(set(cv_results.columns) - set(important_columns)))]\n",
    "\n",
    "    # Write cv_results file\n",
    "    cv_results.to_csv(path_or_buf=abspath_curr + 'result/mnist/cv_results/GridSearchCV/' + acronym + '.csv', index=False)\n",
    "\n",
    "# Sort best_score_params_estimator_gs in descending order of the best_score_\n",
    "best_score_params_estimator_gs = sorted(best_score_params_estimator_gs, key=lambda x : x[0], reverse=True)\n",
    "\n",
    "# Print best_score_params_estimator_gs\n",
    "pd.DataFrame(best_score_params_estimator_gs, columns=['best_score', 'best_param', 'best_estimator'])"
   ]
  },
  {
   "cell_type": "code",
   "execution_count": 105,
   "metadata": {},
   "outputs": [
    {
     "data": {
      "text/html": [
       "<style>#sk-container-id-1 {color: black;background-color: white;}#sk-container-id-1 pre{padding: 0;}#sk-container-id-1 div.sk-toggleable {background-color: white;}#sk-container-id-1 label.sk-toggleable__label {cursor: pointer;display: block;width: 100%;margin-bottom: 0;padding: 0.3em;box-sizing: border-box;text-align: center;}#sk-container-id-1 label.sk-toggleable__label-arrow:before {content: \"▸\";float: left;margin-right: 0.25em;color: #696969;}#sk-container-id-1 label.sk-toggleable__label-arrow:hover:before {color: black;}#sk-container-id-1 div.sk-estimator:hover label.sk-toggleable__label-arrow:before {color: black;}#sk-container-id-1 div.sk-toggleable__content {max-height: 0;max-width: 0;overflow: hidden;text-align: left;background-color: #f0f8ff;}#sk-container-id-1 div.sk-toggleable__content pre {margin: 0.2em;color: black;border-radius: 0.25em;background-color: #f0f8ff;}#sk-container-id-1 input.sk-toggleable__control:checked~div.sk-toggleable__content {max-height: 200px;max-width: 100%;overflow: auto;}#sk-container-id-1 input.sk-toggleable__control:checked~label.sk-toggleable__label-arrow:before {content: \"▾\";}#sk-container-id-1 div.sk-estimator input.sk-toggleable__control:checked~label.sk-toggleable__label {background-color: #d4ebff;}#sk-container-id-1 div.sk-label input.sk-toggleable__control:checked~label.sk-toggleable__label {background-color: #d4ebff;}#sk-container-id-1 input.sk-hidden--visually {border: 0;clip: rect(1px 1px 1px 1px);clip: rect(1px, 1px, 1px, 1px);height: 1px;margin: -1px;overflow: hidden;padding: 0;position: absolute;width: 1px;}#sk-container-id-1 div.sk-estimator {font-family: monospace;background-color: #f0f8ff;border: 1px dotted black;border-radius: 0.25em;box-sizing: border-box;margin-bottom: 0.5em;}#sk-container-id-1 div.sk-estimator:hover {background-color: #d4ebff;}#sk-container-id-1 div.sk-parallel-item::after {content: \"\";width: 100%;border-bottom: 1px solid gray;flex-grow: 1;}#sk-container-id-1 div.sk-label:hover label.sk-toggleable__label {background-color: #d4ebff;}#sk-container-id-1 div.sk-serial::before {content: \"\";position: absolute;border-left: 1px solid gray;box-sizing: border-box;top: 0;bottom: 0;left: 50%;z-index: 0;}#sk-container-id-1 div.sk-serial {display: flex;flex-direction: column;align-items: center;background-color: white;padding-right: 0.2em;padding-left: 0.2em;position: relative;}#sk-container-id-1 div.sk-item {position: relative;z-index: 1;}#sk-container-id-1 div.sk-parallel {display: flex;align-items: stretch;justify-content: center;background-color: white;position: relative;}#sk-container-id-1 div.sk-item::before, #sk-container-id-1 div.sk-parallel-item::before {content: \"\";position: absolute;border-left: 1px solid gray;box-sizing: border-box;top: 0;bottom: 0;left: 50%;z-index: -1;}#sk-container-id-1 div.sk-parallel-item {display: flex;flex-direction: column;z-index: 1;position: relative;background-color: white;}#sk-container-id-1 div.sk-parallel-item:first-child::after {align-self: flex-end;width: 50%;}#sk-container-id-1 div.sk-parallel-item:last-child::after {align-self: flex-start;width: 50%;}#sk-container-id-1 div.sk-parallel-item:only-child::after {width: 0;}#sk-container-id-1 div.sk-dashed-wrapped {border: 1px dashed gray;margin: 0 0.4em 0.5em 0.4em;box-sizing: border-box;padding-bottom: 0.4em;background-color: white;}#sk-container-id-1 div.sk-label label {font-family: monospace;font-weight: bold;display: inline-block;line-height: 1.2em;}#sk-container-id-1 div.sk-label-container {text-align: center;}#sk-container-id-1 div.sk-container {/* jupyter's `normalize.less` sets `[hidden] { display: none; }` but bootstrap.min.css set `[hidden] { display: none !important; }` so we also need the `!important` here to be able to override the default hidden behavior on the sphinx rendered scikit-learn.org. See: https://github.com/scikit-learn/scikit-learn/issues/21755 */display: inline-block !important;position: relative;}#sk-container-id-1 div.sk-text-repr-fallback {display: none;}</style><div id=\"sk-container-id-1\" class=\"sk-top-container\"><div class=\"sk-text-repr-fallback\"><pre>Pipeline(steps=[(&#x27;model&#x27;,\n",
       "                 MLPClassifier(alpha=0.001, early_stopping=True,\n",
       "                               learning_rate_init=0.0001, random_state=42))])</pre><b>In a Jupyter environment, please rerun this cell to show the HTML representation or trust the notebook. <br />On GitHub, the HTML representation is unable to render, please try loading this page with nbviewer.org.</b></div><div class=\"sk-container\" hidden><div class=\"sk-item sk-dashed-wrapped\"><div class=\"sk-label-container\"><div class=\"sk-label sk-toggleable\"><input class=\"sk-toggleable__control sk-hidden--visually\" id=\"sk-estimator-id-1\" type=\"checkbox\" ><label for=\"sk-estimator-id-1\" class=\"sk-toggleable__label sk-toggleable__label-arrow\">Pipeline</label><div class=\"sk-toggleable__content\"><pre>Pipeline(steps=[(&#x27;model&#x27;,\n",
       "                 MLPClassifier(alpha=0.001, early_stopping=True,\n",
       "                               learning_rate_init=0.0001, random_state=42))])</pre></div></div></div><div class=\"sk-serial\"><div class=\"sk-item\"><div class=\"sk-estimator sk-toggleable\"><input class=\"sk-toggleable__control sk-hidden--visually\" id=\"sk-estimator-id-2\" type=\"checkbox\" ><label for=\"sk-estimator-id-2\" class=\"sk-toggleable__label sk-toggleable__label-arrow\">MLPClassifier</label><div class=\"sk-toggleable__content\"><pre>MLPClassifier(alpha=0.001, early_stopping=True, learning_rate_init=0.0001,\n",
       "              random_state=42)</pre></div></div></div></div></div></div></div>"
      ],
      "text/plain": [
       "Pipeline(steps=[('model',\n",
       "                 MLPClassifier(alpha=0.001, early_stopping=True,\n",
       "                               learning_rate_init=0.0001, random_state=42))])"
      ]
     },
     "execution_count": 105,
     "metadata": {},
     "output_type": "execute_result"
    }
   ],
   "source": [
    "best_score_params_estimator_gs[0][2]"
   ]
  },
  {
   "cell_type": "markdown",
   "metadata": {
    "jp-MarkdownHeadingCollapsed": true,
    "tags": []
   },
   "source": [
    "# TensorFlow"
   ]
  },
  {
   "cell_type": "markdown",
   "metadata": {
    "id": "2ICnjl3Olx_I",
    "pycharm": {
     "name": "#%%\n"
    }
   },
   "source": [
    "##### I need to make some conscious decisions in tuning the hyper-parameters of the FNN model. As you may already know, tuning hyper-parameters such as the number of layers, and the number of neurons in a network is an expensive process."
   ]
  },
  {
   "cell_type": "markdown",
   "metadata": {
    "tags": []
   },
   "source": [
    "## Early stopping callback"
   ]
  },
  {
   "cell_type": "code",
   "execution_count": 44,
   "metadata": {},
   "outputs": [],
   "source": [
    "es_callback = tf.keras.callbacks.EarlyStopping(monitor='val_loss',\n",
    "                                                min_delta=1e-4,\n",
    "                                                patience=50,\n",
    "                                                verbose=1,\n",
    "                                                mode='min',\n",
    "                                                baseline=None,\n",
    "                                                restore_best_weights=True # This should be expensive\n",
    "                                              )"
   ]
  },
  {
   "cell_type": "markdown",
   "metadata": {},
   "source": [
    "## Terminate on NaN"
   ]
  },
  {
   "cell_type": "code",
   "execution_count": 45,
   "metadata": {},
   "outputs": [],
   "source": [
    "terminate_on_nan = tf.keras.callbacks.TerminateOnNaN()"
   ]
  },
  {
   "cell_type": "code",
   "execution_count": 46,
   "metadata": {},
   "outputs": [
    {
     "name": "stdout",
     "output_type": "stream",
     "text": [
      "Total number of classes in the target: 2\n"
     ]
    }
   ],
   "source": [
    "n_classes = len(df.target.unique())\n",
    "print(f'Total number of classes in the target: {n_classes}')"
   ]
  },
  {
   "cell_type": "markdown",
   "metadata": {
    "tags": []
   },
   "source": [
    "## Metrics"
   ]
  },
  {
   "cell_type": "code",
   "execution_count": 47,
   "metadata": {},
   "outputs": [],
   "source": [
    "def get_cm(y_true, y_pred):\n",
    "    cm = np.zeros([n_classes, n_classes])\n",
    "    for i in range(len(y_true)):\n",
    "        actual = y_true[i]\n",
    "        pred = y_pred[i]\n",
    "        cm[actual, pred] += 1\n",
    "    return cm\n",
    "\n",
    "def get_precision_macro(cm):\n",
    "    p_pos = cm[0,0]/(cm[0,0] + cm[1,0])\n",
    "    p_neg = cm[1,1]/(cm[1,1] + cm[0,1])\n",
    "    p_macro = 0.5 * (p_pos + p_neg)\n",
    "    return p_macro\n",
    "\n",
    "def get_recall_macro(cm):\n",
    "    r_pos = (cm[0,0]+1e-2)/(cm[0,0] + cm[0,1])\n",
    "    r_neg = (cm[1,1]+1e-2)/(cm[1,1] + cm[1,0])\n",
    "    r_macro = 0.5 * (r_pos + r_neg)\n",
    "    return r_macro\n",
    "\n",
    "def f1_score(y_true, y_pred):\n",
    "    cm = get_cm(y_true, y_pred)\n",
    "    p_macro = get_precision_macro(cm)\n",
    "    r_macro = get_recall_macro(cm)\n",
    "    return (2*p_macro*r_macro)/(p_macro + r_macro)\n",
    "\n",
    "def get_class(prob, threshold):\n",
    "    pos_indices = prob >= threshold\n",
    "    neg_indices = prob < threshold\n",
    "    class_labels = np.array(prob)\n",
    "    class_labels[pos_indices] = 1\n",
    "    class_labels[neg_indices] = 0\n",
    "    return class_labels.astype(np.int)"
   ]
  },
  {
   "cell_type": "code",
   "execution_count": 61,
   "metadata": {},
   "outputs": [],
   "source": [
    "def get_performance_metrics(models, hist_list, X, y):\n",
    "    threshold_grid = np.linspace(0.2, 0.73, 50)\n",
    "    lowest_score_across_models = []\n",
    "    f1_perf_of_each_model = {}\n",
    "    for model_idx, (model, curr_hist) in enumerate(zip(models, hist_list)):\n",
    "        vl_predicted = model.predict(X_val)\n",
    "        f1_val = []\n",
    "        best_f1_across_thres = 0\n",
    "        hist_of_best_f1 = None\n",
    "        best_threshold = None\n",
    "        for threshold in threshold_grid:\n",
    "            tmp_pred = get_class(vl_predicted[:, 0], threshold)\n",
    "            f1_val.append(f1_score(y_val, tmp_pred))\n",
    "            max_f1_curr_thres = np.max(f1_val)\n",
    "            if max_f1_curr_thres > best_f1_across_thres:\n",
    "                best_f1_across_thres = max_f1_curr_thres\n",
    "                f1_perf_of_each_model[model_idx] = best_f1_across_thres\n",
    "                hist_of_best_f1 = curr_hist\n",
    "                best_threshold = threshold\n",
    "    best_model_idx = max(f1_perf_of_each_model, key=f1_perf_of_each_model.get)\n",
    "    print(f'Best model: {best_model_idx} best f1 macro score: {f1_perf_of_each_model[best_model_idx]}')\n",
    "    return best_model_idx, f1_perf_of_each_model[best_model_idx], \\\n",
    "           hist_of_best_f1, f1_perf_of_each_model, best_threshold\n",
    "            "
   ]
  },
  {
   "cell_type": "code",
   "execution_count": 68,
   "metadata": {},
   "outputs": [],
   "source": [
    "def plot_perf_hist(hist_list, markers):\n",
    "    plt.figure(figsize=(8, 6))\n",
    "    for i, (hist, marker) in enumerate(zip(hist_list, markers)):\n",
    "        plt.plot(list(range(len(hist.history['val_loss']))), \n",
    "                 hist.history['val_loss'], marker, label=f'Model{i+1}')\n",
    "    plt.xlabel('Epochs')\n",
    "    plt.ylabel('BCE Loss')\n",
    "    plt.title('BCE comparison across models')\n",
    "    plt.legend()\n",
    "    plt.show()"
   ]
  },
  {
   "cell_type": "markdown",
   "metadata": {
    "tags": []
   },
   "source": [
    "### Model"
   ]
  },
  {
   "cell_type": "code",
   "execution_count": 50,
   "metadata": {},
   "outputs": [],
   "source": [
    "from tensorflow.keras.regularizers import L1\n",
    "rmsprop = tf.keras.optimizers.RMSprop(learning_rate=1e-5)"
   ]
  },
  {
   "cell_type": "code",
   "execution_count": 51,
   "metadata": {},
   "outputs": [],
   "source": [
    "tr_steps_per_epoch = 5\n",
    "vl_steps_per_epoch = 2"
   ]
  },
  {
   "cell_type": "code",
   "execution_count": 52,
   "metadata": {
    "scrolled": true,
    "tags": []
   },
   "outputs": [
    {
     "name": "stderr",
     "output_type": "stream",
     "text": [
      "2022-10-18 13:24:07.822449: I tensorflow/stream_executor/cuda/cuda_gpu_executor.cc:961] could not open file to read NUMA node: /sys/bus/pci/devices/0000:42:00.0/numa_node\n",
      "Your kernel may have been built without NUMA support.\n",
      "2022-10-18 13:24:07.832341: I tensorflow/stream_executor/cuda/cuda_gpu_executor.cc:961] could not open file to read NUMA node: /sys/bus/pci/devices/0000:42:00.0/numa_node\n",
      "Your kernel may have been built without NUMA support.\n",
      "2022-10-18 13:24:07.832721: I tensorflow/stream_executor/cuda/cuda_gpu_executor.cc:961] could not open file to read NUMA node: /sys/bus/pci/devices/0000:42:00.0/numa_node\n",
      "Your kernel may have been built without NUMA support.\n",
      "2022-10-18 13:24:07.834029: I tensorflow/core/platform/cpu_feature_guard.cc:193] This TensorFlow binary is optimized with oneAPI Deep Neural Network Library (oneDNN) to use the following CPU instructions in performance-critical operations:  AVX2 FMA\n",
      "To enable them in other operations, rebuild TensorFlow with the appropriate compiler flags.\n",
      "2022-10-18 13:24:07.841836: I tensorflow/stream_executor/cuda/cuda_gpu_executor.cc:961] could not open file to read NUMA node: /sys/bus/pci/devices/0000:42:00.0/numa_node\n",
      "Your kernel may have been built without NUMA support.\n",
      "2022-10-18 13:24:07.842313: I tensorflow/stream_executor/cuda/cuda_gpu_executor.cc:961] could not open file to read NUMA node: /sys/bus/pci/devices/0000:42:00.0/numa_node\n",
      "Your kernel may have been built without NUMA support.\n",
      "2022-10-18 13:24:07.842696: I tensorflow/stream_executor/cuda/cuda_gpu_executor.cc:961] could not open file to read NUMA node: /sys/bus/pci/devices/0000:42:00.0/numa_node\n",
      "Your kernel may have been built without NUMA support.\n",
      "2022-10-18 13:24:08.538526: I tensorflow/stream_executor/cuda/cuda_gpu_executor.cc:961] could not open file to read NUMA node: /sys/bus/pci/devices/0000:42:00.0/numa_node\n",
      "Your kernel may have been built without NUMA support.\n",
      "2022-10-18 13:24:08.539393: I tensorflow/stream_executor/cuda/cuda_gpu_executor.cc:961] could not open file to read NUMA node: /sys/bus/pci/devices/0000:42:00.0/numa_node\n",
      "Your kernel may have been built without NUMA support.\n",
      "2022-10-18 13:24:08.539414: I tensorflow/core/common_runtime/gpu/gpu_device.cc:1616] Could not identify NUMA node of platform GPU id 0, defaulting to 0.  Your kernel may not have been built with NUMA support.\n",
      "2022-10-18 13:24:08.540154: I tensorflow/stream_executor/cuda/cuda_gpu_executor.cc:961] could not open file to read NUMA node: /sys/bus/pci/devices/0000:42:00.0/numa_node\n",
      "Your kernel may have been built without NUMA support.\n",
      "2022-10-18 13:24:08.540192: W tensorflow/core/common_runtime/gpu/gpu_bfc_allocator.cc:42] Overriding orig_value setting because the TF_FORCE_GPU_ALLOW_GROWTH environment variable is set. Original config value was 0.\n",
      "2022-10-18 13:24:08.540228: I tensorflow/core/common_runtime/gpu/gpu_device.cc:1532] Created device /job:localhost/replica:0/task:0/device:GPU:0 with 3920 MB memory:  -> device: 0, name: NVIDIA GeForce RTX 2060, pci bus id: 0000:42:00.0, compute capability: 7.5\n"
     ]
    }
   ],
   "source": [
    "model = Sequential([Dense(64, activation='selu', input_shape=[X_train.shape[1]]),\n",
    "                    Dense(10, activation='selu'),\n",
    "                    Dense(1, activation='sigmoid')])\n",
    "\n",
    "model.compile(optimizer=rmsprop, loss='binary_crossentropy')\n",
    "hist = model.fit(x=X_train, y=y_train, validation_data=(X_val, y_val), \n",
    "                  steps_per_epoch=tr_steps_per_epoch,\n",
    "                  validation_steps=vl_steps_per_epoch,\n",
    "                  epochs=5000, callbacks=[es_callback, terminate_on_nan],\n",
    "                  verbose=0)"
   ]
  },
  {
   "cell_type": "code",
   "execution_count": 53,
   "metadata": {
    "scrolled": true,
    "tags": []
   },
   "outputs": [],
   "source": [
    "model2 = Sequential([Dense(128, activation='selu', input_shape=[X_train.shape[1]]),\n",
    "                    Dense(10, activation='selu'),\n",
    "                    Dense(1, activation='sigmoid')])\n",
    "\n",
    "model2.compile(optimizer=rmsprop, loss='binary_crossentropy')\n",
    "hist2 = model2.fit(x=X_train, y=y_train, validation_data=(X_val, y_val), \n",
    "                  steps_per_epoch=tr_steps_per_epoch,\n",
    "                  validation_steps=vl_steps_per_epoch,\n",
    "                  epochs=5000, callbacks=[es_callback, terminate_on_nan],\n",
    "                  verbose=0)"
   ]
  },
  {
   "cell_type": "code",
   "execution_count": 54,
   "metadata": {
    "scrolled": true,
    "tags": []
   },
   "outputs": [
    {
     "name": "stdout",
     "output_type": "stream",
     "text": [
      "Restoring model weights from the end of the best epoch: 2892.\n",
      "Epoch 2942: early stopping\n"
     ]
    }
   ],
   "source": [
    "model3 = Sequential([Dense(256, activation='selu', input_shape=[X_train.shape[1]]),\n",
    "                     Dense(128, activation='selu'),\n",
    "                     Dense(10, activation='selu'),\n",
    "                     Dense(1, activation='sigmoid')])\n",
    "\n",
    "model3.compile(optimizer=rmsprop, loss='binary_crossentropy')\n",
    "hist3 = model3.fit(x=X_train, y=y_train, validation_data=(X_val, y_val), \n",
    "                  steps_per_epoch=tr_steps_per_epoch,\n",
    "                  validation_steps=vl_steps_per_epoch,\n",
    "                  epochs=5000, callbacks=[es_callback, terminate_on_nan],\n",
    "                  verbose=0)"
   ]
  },
  {
   "cell_type": "code",
   "execution_count": 55,
   "metadata": {
    "scrolled": true,
    "tags": []
   },
   "outputs": [
    {
     "name": "stdout",
     "output_type": "stream",
     "text": [
      "Restoring model weights from the end of the best epoch: 1390.\n",
      "Epoch 1440: early stopping\n"
     ]
    }
   ],
   "source": [
    "model4 = Sequential([Dense(512, activation='selu', input_shape=[X_train.shape[1]]),\n",
    "                     Dense(256, activation='selu'),\n",
    "                     Dense(128, activation='selu'),\n",
    "                     Dense(10, activation='selu'),\n",
    "                     Dense(1, activation='sigmoid')])\n",
    "\n",
    "model4.compile(optimizer=rmsprop, loss='binary_crossentropy')\n",
    "hist4 = model4.fit(x=X_train, y=y_train, validation_data=(X_val, y_val), \n",
    "                  steps_per_epoch=tr_steps_per_epoch,\n",
    "                  validation_steps=vl_steps_per_epoch,\n",
    "                  epochs=5000, callbacks=[es_callback, terminate_on_nan],\n",
    "                  verbose=0)"
   ]
  },
  {
   "cell_type": "code",
   "execution_count": 56,
   "metadata": {
    "scrolled": true,
    "tags": []
   },
   "outputs": [
    {
     "name": "stdout",
     "output_type": "stream",
     "text": [
      "Restoring model weights from the end of the best epoch: 756.\n",
      "Epoch 806: early stopping\n"
     ]
    }
   ],
   "source": [
    "model5 = Sequential([Dense(1024, activation='selu', input_shape=[X_train.shape[1]]),\n",
    "                     Dense(512, activation='selu'),\n",
    "                     Dense(256, activation='selu'),\n",
    "                     Dense(128, activation='selu'),\n",
    "                     Dense(10, activation='selu'),\n",
    "                     Dense(1, activation='sigmoid')])\n",
    "\n",
    "model5.compile(optimizer=rmsprop, loss='binary_crossentropy')\n",
    "hist5 = model5.fit(x=X_train, y=y_train, validation_data=(X_val, y_val), \n",
    "                  steps_per_epoch=tr_steps_per_epoch,\n",
    "                  validation_steps=vl_steps_per_epoch,\n",
    "                  epochs=5000, callbacks=[es_callback, terminate_on_nan],\n",
    "                  verbose=0)"
   ]
  },
  {
   "cell_type": "code",
   "execution_count": 69,
   "metadata": {},
   "outputs": [
    {
     "data": {
      "image/png": "[encoded data removed]",
      "text/plain": [
       "<Figure size 576x432 with 1 Axes>"
      ]
     },
     "metadata": {
      "needs_background": "light"
     },
     "output_type": "display_data"
    }
   ],
   "source": [
    "plot_perf_hist([hist, hist2, hist3, hist4], ['-b', '-r', '-m', '-g'])"
   ]
  },
  {
   "cell_type": "code",
   "execution_count": 70,
   "metadata": {},
   "outputs": [
    {
     "data": {
      "image/png": "[encoded data removed]",
      "text/plain": [
       "<Figure size 576x432 with 1 Axes>"
      ]
     },
     "metadata": {
      "needs_background": "light"
     },
     "output_type": "display_data"
    }
   ],
   "source": [
    "plot_perf_hist([hist, hist2, hist3, hist4, hist5], ['-b', '-r', '-m', '-g', '-k'])"
   ]
  },
  {
   "cell_type": "code",
   "execution_count": 59,
   "metadata": {
    "scrolled": true,
    "tags": []
   },
   "outputs": [
    {
     "name": "stdout",
     "output_type": "stream",
     "text": [
      "2249/2249 [==============================] - 5s 2ms/step\n",
      "2249/2249 [==============================] - 5s 2ms/step\n",
      "2249/2249 [==============================] - 6s 2ms/step\n",
      "2249/2249 [==============================] - 6s 3ms/step\n",
      "2249/2249 [==============================] - 8s 3ms/step\n",
      "Best model: 4 best f1 macro score: 0.8573084011454466\n"
     ]
    }
   ],
   "source": [
    "models = [model, model2, model3, model4, model5]\n",
    "hist_list = [hist, hist2, hist3, hist4, hist5]\n",
    "best_model_idx, best_score, best_hist, f1_perf_of_each_model = get_performance_metrics(models, hist_list, \n",
    "                                                                                       X_val, y_val)"
   ]
  },
  {
   "cell_type": "markdown",
   "metadata": {
    "tags": []
   },
   "source": [
    "### Learning Rate Callback"
   ]
  },
  {
   "cell_type": "code",
   "execution_count": 60,
   "metadata": {},
   "outputs": [],
   "source": [
    "lr_callback = tf.keras.callbacks.ReduceLROnPlateau(\n",
    "                                                    monitor='val_loss',\n",
    "                                                    factor=0.1,\n",
    "                                                    patience=10,\n",
    "                                                    verbose=1,\n",
    "                                                    mode='min',\n",
    "                                                    min_delta=1e-4,\n",
    "                                                    cooldown=0,\n",
    "                                                    min_lr=1e-7)"
   ]
  },
  {
   "cell_type": "markdown",
   "metadata": {},
   "source": [
    "##### Observing from the plot that makes BCE comparson across models, it appears model5 that starts with 1024 neurons, if my understanding is correct, suffers from higher learning rate. In order to observe further if the training can be improved, I wish to try implementing learning rate callback to observe it's effectiveness in offering anything to the betterment of the learning process"
   ]
  },
  {
   "cell_type": "code",
   "execution_count": 71,
   "metadata": {},
   "outputs": [],
   "source": [
    "rmsprop2 = tf.keras.optimizers.RMSprop(learning_rate=1e-6)"
   ]
  },
  {
   "cell_type": "code",
   "execution_count": 73,
   "metadata": {},
   "outputs": [
    {
     "name": "stdout",
     "output_type": "stream",
     "text": [
      "Restoring model weights from the end of the best epoch: 8340.\n",
      "Epoch 8390: early stopping\n"
     ]
    }
   ],
   "source": [
    "model4_1 = Sequential([Dense(512, activation='selu', input_shape=[X_train.shape[1]]),\n",
    "                       Dense(256, activation='selu'),\n",
    "                       Dense(128, activation='selu'),\n",
    "                       Dense(10, activation='selu'),\n",
    "                       Dense(1, activation='sigmoid')])\n",
    "\n",
    "model4_1.compile(optimizer=rmsprop2, loss='binary_crossentropy')\n",
    "hist4_1 = model4_1.fit(x=X_train, y=y_train, validation_data=(X_val, y_val), \n",
    "                       steps_per_epoch=tr_steps_per_epoch,\n",
    "                       validation_steps=vl_steps_per_epoch,\n",
    "                       epochs=10000, callbacks=[es_callback, terminate_on_nan],\n",
    "                       verbose=0)"
   ]
  },
  {
   "cell_type": "code",
   "execution_count": 83,
   "metadata": {},
   "outputs": [
    {
     "data": {
      "image/png": "[encoded data removed]",
      "text/plain": [
       "<Figure size 432x288 with 1 Axes>"
      ]
     },
     "metadata": {
      "needs_background": "light"
     },
     "output_type": "display_data"
    }
   ],
   "source": [
    "plt.figure()\n",
    "plt.plot(list(range(len(hist4_1.history['loss']))), hist4_1.history['loss'], '-', color='blue', label='Training')\n",
    "plt.plot(list(range(len(hist4_1.history['val_loss']))), hist4_1.history['val_loss'], '-', color='red', label='Validation')\n",
    "plt.xlabel('Epochs')\n",
    "plt.ylabel('BCE Loss')\n",
    "plt.title('Model 4 with lower learning rate')\n",
    "plt.legend()\n",
    "plt.show()"
   ]
  },
  {
   "cell_type": "code",
   "execution_count": 81,
   "metadata": {},
   "outputs": [
    {
     "name": "stdout",
     "output_type": "stream",
     "text": [
      "2249/2249 [==============================] - 7s 3ms/step\n",
      "Best model: 0 best f1 macro score: 0.8682833283110027\n"
     ]
    }
   ],
   "source": [
    "models = [model4_1]\n",
    "hist_list = [hist4_1]\n",
    "best_model_idx, best_score, best_hist, f1_perf_of_each_model, best_threshold = get_performance_metrics(models, hist_list, X_val, y_val)"
   ]
  },
  {
   "cell_type": "code",
   "execution_count": 82,
   "metadata": {},
   "outputs": [
    {
     "name": "stdout",
     "output_type": "stream",
     "text": [
      "Best threshold: 0.546122448979592\n"
     ]
    }
   ],
   "source": [
    "print(f'Best threshold: {best_threshold}')"
   ]
  },
  {
   "cell_type": "code",
   "execution_count": 74,
   "metadata": {
    "scrolled": true,
    "tags": []
   },
   "outputs": [
    {
     "name": "stdout",
     "output_type": "stream",
     "text": [
      "\n",
      "Epoch 1910: ReduceLROnPlateau reducing learning rate to 1e-07.\n",
      "Restoring model weights from the end of the best epoch: 6850.\n",
      "Epoch 6900: early stopping\n"
     ]
    }
   ],
   "source": [
    "model5_1 = Sequential([Dense(1024, activation='selu', input_shape=[X_train.shape[1]]),\n",
    "                       Dense(512, activation='selu'),\n",
    "                       Dense(256, activation='selu'),\n",
    "                       Dense(128, activation='selu'),\n",
    "                       Dense(10, activation='selu'),\n",
    "                       Dense(1, activation='sigmoid')])\n",
    "\n",
    "model5_1.compile(optimizer=rmsprop2, loss='binary_crossentropy')\n",
    "hist5_1 = model5_1.fit(x=X_train, y=y_train, validation_data=(X_val, y_val), \n",
    "                       steps_per_epoch=tr_steps_per_epoch,\n",
    "                       validation_steps=vl_steps_per_epoch,\n",
    "                       epochs=10000, callbacks=[es_callback, terminate_on_nan, lr_callback],\n",
    "                       verbose=0)"
   ]
  },
  {
   "cell_type": "code",
   "execution_count": 84,
   "metadata": {},
   "outputs": [
    {
     "data": {
      "image/png": "[encoded data removed]",
      "text/plain": [
       "<Figure size 432x288 with 1 Axes>"
      ]
     },
     "metadata": {
      "needs_background": "light"
     },
     "output_type": "display_data"
    }
   ],
   "source": [
    "plt.figure()\n",
    "plt.plot(list(range(len(hist5_1.history['loss']))), hist5_1.history['loss'], '-', color='blue', label='Training')\n",
    "plt.plot(list(range(len(hist5_1.history['val_loss']))), hist5_1.history['val_loss'], '-', color='red', label='Testing')\n",
    "plt.xlabel('Epochs')\n",
    "plt.ylabel('BCE Loss')\n",
    "plt.title('Model 5 with lower learning rate')\n",
    "plt.legend()\n",
    "plt.show()"
   ]
  },
  {
   "cell_type": "code",
   "execution_count": 79,
   "metadata": {},
   "outputs": [
    {
     "name": "stdout",
     "output_type": "stream",
     "text": [
      "2249/2249 [==============================] - 7s 3ms/step\n",
      "2249/2249 [==============================] - 7s 3ms/step\n",
      "Best model: 1 best f1 macro score: 0.8737092236537625\n"
     ]
    }
   ],
   "source": [
    "# Just for Model 5- DELETE AFTER INSPECTING.......\n",
    "\n",
    "models = [model4_1, model5_1]\n",
    "hist_list = [hist4_1, hist5_1]\n",
    "best_model_idx, best_score, best_hist, f1_perf_of_each_model, best_threshold = get_performance_metrics(models, hist_list, X_val, y_val)"
   ]
  },
  {
   "cell_type": "markdown",
   "metadata": {
    "tags": []
   },
   "source": [
    "##### The index shown in the output of the previous cell starts from model4_1 = 0, to n models\n",
    "##### Hence model 1 represets mode5_1"
   ]
  },
  {
   "cell_type": "code",
   "execution_count": 80,
   "metadata": {},
   "outputs": [
    {
     "name": "stdout",
     "output_type": "stream",
     "text": [
      "Best threshold: 0.546122448979592\n"
     ]
    }
   ],
   "source": [
    "print(f'Best threshold: {best_threshold}')"
   ]
  },
  {
   "cell_type": "code",
   "execution_count": 87,
   "metadata": {},
   "outputs": [
    {
     "name": "stdout",
     "output_type": "stream",
     "text": [
      "2249/2249 [==============================] - 6s 2ms/step\n",
      "2249/2249 [==============================] - 6s 2ms/step\n",
      "2249/2249 [==============================] - 6s 3ms/step\n",
      "2249/2249 [==============================] - 6s 3ms/step\n",
      "2249/2249 [==============================] - 6s 3ms/step\n",
      "2249/2249 [==============================] - 6s 3ms/step\n",
      "2249/2249 [==============================] - 6s 3ms/step\n",
      "Best model: 6 best f1 macro score: 0.8737092236537625\n"
     ]
    }
   ],
   "source": [
    "models = [model, model2, model3, model4, model5, model4_1, model5_1]\n",
    "hist_list = [hist, hist2, hist3, hist4, hist5, hist4_1, hist5_1]\n",
    "best_model_idx, best_score, best_hist, f1_perf_of_each_model, best_threshold = get_performance_metrics(models, hist_list, \n",
    "                                                                                                       X_val, y_val)"
   ]
  },
  {
   "cell_type": "code",
   "execution_count": 88,
   "metadata": {},
   "outputs": [
    {
     "data": {
      "image/png": "[encoded data removed]",
      "text/plain": [
       "<Figure size 576x432 with 1 Axes>"
      ]
     },
     "metadata": {
      "needs_background": "light"
     },
     "output_type": "display_data"
    }
   ],
   "source": [
    "best_m_hist = best_hist.history\n",
    "plt.figure(figsize=(8, 6))\n",
    "plt.plot(list(range(len(best_m_hist['loss']))), best_m_hist['loss'], '-b', label='Training')\n",
    "plt.plot(list(range(len(best_m_hist['val_loss']))), best_m_hist['val_loss'], '-r', label='Validation')\n",
    "plt.xlabel('Epochs')\n",
    "plt.ylabel('BCE Loss')\n",
    "plt.title('Training and Validation performance on best model')\n",
    "plt.legend()\n",
    "plt.grid()\n",
    "plt.show()"
   ]
  },
  {
   "cell_type": "code",
   "execution_count": 89,
   "metadata": {},
   "outputs": [
    {
     "data": {
      "image/png": "[encoded data removed]",
      "text/plain": [
       "<Figure size 576x432 with 1 Axes>"
      ]
     },
     "metadata": {
      "needs_background": "light"
     },
     "output_type": "display_data"
    }
   ],
   "source": [
    "plot_perf_hist([hist, hist2, hist3, hist4, hist4_1, hist5_1], ['-b', '-y', '-m', '-g', '-k', 'r'])"
   ]
  },
  {
   "cell_type": "markdown",
   "metadata": {
    "id": "kOF6id8le32I",
    "pycharm": {
     "name": "#%% md\n"
    },
    "tags": []
   },
   "source": [
    "# Model Selection"
   ]
  },
  {
   "cell_type": "markdown",
   "metadata": {
    "id": "c2O8-Fv9lx_J",
    "pycharm": {
     "name": "#%%\n"
    }
   },
   "source": [
    "#### Combine the Validation and the training set"
   ]
  },
  {
   "cell_type": "code",
   "execution_count": 121,
   "metadata": {},
   "outputs": [],
   "source": [
    "def learning_rate_sch(epoch):\n",
    "    if epoch >= 1910:\n",
    "        return 1e-7\n",
    "    else:\n",
    "        return 1e-6\n",
    "\n",
    "cus_lr_callback = tf.keras.callbacks.LearningRateScheduler(learning_rate_sch, verbose=0)"
   ]
  },
  {
   "cell_type": "code",
   "execution_count": 124,
   "metadata": {},
   "outputs": [],
   "source": [
    "best_model = Sequential([Dense(1024, activation='selu', input_shape=[X_train.shape[1]]),\n",
    "                         Dense(512, activation='selu'),\n",
    "                         Dense(256, activation='selu'),\n",
    "                         Dense(128, activation='selu'),\n",
    "                         Dense(10, activation='selu'),\n",
    "                         Dense(1, activation='sigmoid')])\n",
    "\n",
    "best_model.compile(optimizer=rmsprop2, loss='binary_crossentropy')\n",
    "best_model_hist = best_model.fit(x=X_train_val, y=y_train_val, \n",
    "                            steps_per_epoch=tr_steps_per_epoch,\n",
    "                            epochs=6900, callbacks=[terminate_on_nan, cus_lr_callback],\n",
    "                            verbose=0)"
   ]
  },
  {
   "cell_type": "code",
   "execution_count": 125,
   "metadata": {},
   "outputs": [
    {
     "data": {
      "text/plain": [
       "<keras.engine.sequential.Sequential at 0x7fed801b7610>"
      ]
     },
     "execution_count": 125,
     "metadata": {},
     "output_type": "execute_result"
    }
   ],
   "source": [
    "best_model"
   ]
  },
  {
   "cell_type": "markdown",
   "metadata": {
    "id": "fiEBpqc_e32K",
    "pycharm": {
     "name": "#%% md\n"
    },
    "tags": []
   },
   "source": [
    "# Generating the Submission File\n",
    "Use the best model selected earlier to generate the submission file for this kaggle competition."
   ]
  },
  {
   "cell_type": "markdown",
   "metadata": {
    "id": "Aw5WYTRGz65s",
    "pycharm": {
     "name": "#%% md\n"
    },
    "tags": []
   },
   "source": [
    "## Creating the directory for the submission file"
   ]
  },
  {
   "cell_type": "code",
   "execution_count": null,
   "metadata": {
    "id": "z0oLcggN0C9W",
    "pycharm": {
     "name": "#%%\n"
    }
   },
   "outputs": [],
   "source": [
    "# Make directory\n",
    "directory = os.path.dirname(abspath_curr + '/result/submission/')\n",
    "if not os.path.exists(directory):\n",
    "    os.makedirs(directory)"
   ]
  },
  {
   "cell_type": "markdown",
   "metadata": {
    "id": "y-Qf_8VM0Tt9",
    "pycharm": {
     "name": "#%% md\n"
    },
    "tags": []
   },
   "source": [
    "## Generating the submission file"
   ]
  },
  {
   "cell_type": "code",
   "execution_count": null,
   "metadata": {},
   "outputs": [],
   "source": [
    "y_test_pred = best_model(X_test)\n",
    "\n",
    "# Transform y_test_pred back to the original class=\n",
    "y_test_pred = get_class(y_test_pred, best_threshold)\n",
    "\n",
    "# Get the submission dataframe\n",
    "df_submit = pd.DataFrame(np.hstack((df_raw_test[['ID_code']], y_test_pred.reshape(-1, 1))),\n",
    "                         columns=['ID_code', target])                                                                                     \n",
    "\n",
    "# Generate the submission file\n",
    "df_submit.to_csv(abspath_curr + '/result/submission/submission.csv', index=False)"
   ]
  }
 ],
 "metadata": {
  "colab": {
   "collapsed_sections": [],
   "name": "Homework_2.ipynb",
   "provenance": []
  },
  "kernelspec": {
   "display_name": "Python 3 (ipykernel)",
   "language": "python",
   "name": "python3"
  },
  "language_info": {
   "codemirror_mode": {
    "name": "ipython",
    "version": 3
   },
   "file_extension": ".py",
   "mimetype": "text/x-python",
   "name": "python",
   "nbconvert_exporter": "python",
   "pygments_lexer": "ipython3",
   "version": "3.8.10"
  },
  "toc": {
   "base_numbering": 1,
   "nav_menu": {},
   "number_sections": true,
   "sideBar": true,
   "skip_h1_title": false,
   "title_cell": "Table of Contents",
   "title_sidebar": "Contents",
   "toc_cell": true,
   "toc_position": {},
   "toc_section_display": true,
   "toc_window_display": false
  }
 },
 "nbformat": 4,
 "nbformat_minor": 4
}
