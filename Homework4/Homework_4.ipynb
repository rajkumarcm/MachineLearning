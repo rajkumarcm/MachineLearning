{
 "cells": [
  {
   "cell_type": "markdown",
   "metadata": {
    "id": "cMSn67px4ANI",
    "toc": true
   },
   "source": [
    "<h1>Table of Contents<span class=\"tocSkip\"></span></h1>\n",
    "<div class=\"toc\"><ul class=\"toc-item\"><li><span><a href=\"#Overview\" data-toc-modified-id=\"Overview-1\"><span class=\"toc-item-num\">1&nbsp;&nbsp;</span>Overview</a></span></li><li><span><a href=\"#Notebook-Configuration\" data-toc-modified-id=\"Notebook-Configuration-2\"><span class=\"toc-item-num\">2&nbsp;&nbsp;</span>Notebook Configuration</a></span><ul class=\"toc-item\"><li><span><a href=\"#Google-drive\" data-toc-modified-id=\"Google-drive-2.1\"><span class=\"toc-item-num\">2.1&nbsp;&nbsp;</span>Google drive</a></span></li><li><span><a href=\"#Warning\" data-toc-modified-id=\"Warning-2.2\"><span class=\"toc-item-num\">2.2&nbsp;&nbsp;</span>Warning</a></span></li><li><span><a href=\"#Matplotlib\" data-toc-modified-id=\"Matplotlib-2.3\"><span class=\"toc-item-num\">2.3&nbsp;&nbsp;</span>Matplotlib</a></span></li><li><span><a href=\"#TensorFlow\" data-toc-modified-id=\"TensorFlow-2.4\"><span class=\"toc-item-num\">2.4&nbsp;&nbsp;</span>TensorFlow</a></span></li><li><span><a href=\"#Random-seed\" data-toc-modified-id=\"Random-seed-2.5\"><span class=\"toc-item-num\">2.5&nbsp;&nbsp;</span>Random seed</a></span></li></ul></li><li><span><a href=\"#Data-Preprocessing\" data-toc-modified-id=\"Data-Preprocessing-3\"><span class=\"toc-item-num\">3&nbsp;&nbsp;</span>Data Preprocessing</a></span></li><li><span><a href=\"#Training\" data-toc-modified-id=\"Training-4\"><span class=\"toc-item-num\">4&nbsp;&nbsp;</span>Training</a></span></li><li><span><a href=\"#Testing-the-Best-Model\" data-toc-modified-id=\"Testing-the-Best-Model-5\"><span class=\"toc-item-num\">5&nbsp;&nbsp;</span>Testing the Best Model</a></span></li></ul></div>"
   ]
  },
  {
   "cell_type": "markdown",
   "metadata": {
    "id": "42yc1zUrzlEh"
   },
   "source": [
    "<b>\n",
    "<p>\n",
    "<center>\n",
    "<font size=\"5\">\n",
    "Popular Machine Learning Methods: Idea, Practice and Math\n",
    "</font>\n",
    "</center>\n",
    "</p>\n",
    "\n",
    "<p>\n",
    "<center>\n",
    "<font size=\"4\">\n",
    "Part 3, Chapter 2, Section 2: Training Deep Neural Networks\n",
    "</font>\n",
    "</center>\n",
    "</p>\n",
    "    \n",
    "<p>\n",
    "<center>\n",
    "<font size=\"4\">\n",
    "Homework 4\n",
    "</font>\n",
    "</center>\n",
    "</p>\n",
    "\n",
    "<p>\n",
    "<center>\n",
    "<font size=\"3\">\n",
    "Data Science, Columbian College of Arts & Sciences, George Washington University\n",
    "</font>\n",
    "</center>\n",
    "</p>\n",
    "\n",
    "<p>\n",
    "<center>\n",
    "<font size=\"3\">\n",
    "Yuxiao Huang\n",
    "</font>\n",
    "</center>\n",
    "</p>\n",
    "</b>"
   ]
  },
  {
   "cell_type": "markdown",
   "metadata": {
    "id": "rT2SKHw2zlEi"
   },
   "source": [
    "# Overview"
   ]
  },
  {
   "cell_type": "markdown",
   "metadata": {
    "id": "asZWLrJKzlEj"
   },
   "source": [
    "- This notebook includes homework 4 for Training Deep Neural Networks (Part 3, Chapter 2, Section 2).\n",
    "- See the accompanied slides in our [github repository](https://github.com/yuxiaohuang/teaching/tree/master/gwu/machine_learning_I/fall_2022/slides/p3_deep_learning/p3_c2_supervised_learning/p3_c2_s2_training_deep_neural_networks).\n",
    "- Here we will work on TensorFlow Dataset [cifar10](https://www.tensorflow.org/datasets/catalog/cifar10).\n",
    "- The goal of this homework is tweaking the pipeline (including data preprocessing, building, compiling and training DNNs) implemented in [/p3 c2 s2 training_deep_neural_networks/case_study](https://github.com/yuxiaohuang/teaching/blob/master/gwu/machine_learning_I/fall_2022/code/p3_deep_learning/p3_c2_supervised_learning/p3_c2_s2_training_deep_neural_networks/case_study/case_study.ipynb) to make it work for the new dataset mentioned above.\n",
    "- Complete the missing parts indicated by # Implement me.\n",
    "- Particularly, the code should\n",
    "    - be bug-free (note that the output produced by your solution may not necessarily be the same as the provided output, due to version issues)\n",
    "    - be commented\n",
    "- **The baseline for this assignment is 0.4871. As per the grading rubrics (section 15 of the syllabus), if the test score of your best model is lower than or the same as the baseline, you will only receive 80% of the full mark. See more details in the grading rubrics.**\n",
    "- Submit an ipynb file named homework_4.ipynb to [blackboard](https://blackboard.gwu.edu) folder /Assignments/Homework_4/."
   ]
  },
  {
   "cell_type": "markdown",
   "metadata": {
    "id": "WJ-IbZqAgILJ"
   },
   "source": [
    "# Notebook Configuration"
   ]
  },
  {
   "cell_type": "markdown",
   "metadata": {
    "id": "H3yB94KtgMHu"
   },
   "source": [
    "## Google drive"
   ]
  },
  {
   "cell_type": "code",
   "execution_count": 7,
   "metadata": {
    "colab": {
     "base_uri": "https://localhost:8080/"
    },
    "executionInfo": {
     "elapsed": 16106,
     "status": "ok",
     "timestamp": 1604282316196,
     "user": {
      "displayName": "Huang Yuxiao",
      "photoUrl": "",
      "userId": "05167076769245149404"
     },
     "user_tz": 300
    },
    "id": "jWmYBTOwgNs-",
    "outputId": "7834ce54-f096-4d40-8a24-6e328173cd7b",
    "scrolled": true
   },
   "outputs": [],
   "source": [
    "# from google.colab import drive\n",
    "import sys\n",
    "\n",
    "# Mount Google Drive\n",
    "# drive.mount('/content/drive')\n",
    "\n",
    "# Get the absolute path of the current folder\n",
    "abspath_curr = ''\n",
    "\n",
    "# Get the absolute path of the deep utilities folder\n",
    "abspath_util_deep = '/content/drive/My Drive/Colab Notebooks/teaching/gwu/machine_learning_I/code/utilities/p3_deep_learning/'"
   ]
  },
  {
   "cell_type": "markdown",
   "metadata": {
    "id": "bYZhU1Wqgmqx"
   },
   "source": [
    "## Warning"
   ]
  },
  {
   "cell_type": "code",
   "execution_count": 8,
   "metadata": {
    "id": "MUl4k83e4ANR"
   },
   "outputs": [],
   "source": [
    "import warnings\n",
    "\n",
    "# Ignore warnings\n",
    "warnings.filterwarnings('ignore')"
   ]
  },
  {
   "cell_type": "markdown",
   "metadata": {
    "id": "6WMODpPfgn2U"
   },
   "source": [
    "## Matplotlib"
   ]
  },
  {
   "cell_type": "code",
   "execution_count": 9,
   "metadata": {
    "id": "DBRVH9SB4ANb"
   },
   "outputs": [],
   "source": [
    "import matplotlib.pyplot as plt\n",
    "%matplotlib inline \n",
    "\n",
    "# Set matplotlib sizes\n",
    "plt.rc('font', size=20)\n",
    "plt.rc('axes', titlesize=20)\n",
    "plt.rc('axes', labelsize=20)\n",
    "plt.rc('xtick', labelsize=20)\n",
    "plt.rc('ytick', labelsize=20)\n",
    "plt.rc('legend', fontsize=20)\n",
    "plt.rc('figure', titlesize=20)"
   ]
  },
  {
   "cell_type": "markdown",
   "metadata": {
    "id": "n-wNDk5nZhhO"
   },
   "source": [
    "## TensorFlow"
   ]
  },
  {
   "cell_type": "code",
   "execution_count": 10,
   "metadata": {
    "id": "LjG43tEnZkfE"
   },
   "outputs": [],
   "source": [
    "# The magic below allows us to use tensorflow version 2.x\n",
    "# %tensorflow_version 2.x \n",
    "import os\n",
    "os.environ['CUDA_VISIBLE_DEVICES']='1'\n",
    "os.environ['TF_FORCE_GPU_ALLOW_GROWTH']='true'\n",
    "import tensorflow as tf\n",
    "from tensorflow import keras"
   ]
  },
  {
   "cell_type": "markdown",
   "metadata": {
    "id": "40FN3UNfO2Z7"
   },
   "source": [
    "## Random seed"
   ]
  },
  {
   "cell_type": "code",
   "execution_count": 11,
   "metadata": {
    "id": "uSADk0hJP71d"
   },
   "outputs": [],
   "source": [
    "# The random seed\n",
    "random_seed = 42\n",
    "\n",
    "# Set random seed in tensorflow\n",
    "tf.random.set_seed(random_seed)\n",
    "\n",
    "# Set random seed in numpy\n",
    "import numpy as np\n",
    "np.random.seed(random_seed)"
   ]
  },
  {
   "cell_type": "markdown",
   "metadata": {
    "id": "1eOpQpPu4ANk"
   },
   "source": [
    "# Data Preprocessing"
   ]
  },
  {
   "cell_type": "code",
   "execution_count": 12,
   "metadata": {
    "colab": {
     "base_uri": "https://localhost:8080/"
    },
    "executionInfo": {
     "elapsed": 18172,
     "status": "ok",
     "timestamp": 1604282318292,
     "user": {
      "displayName": "Huang Yuxiao",
      "photoUrl": "",
      "userId": "05167076769245149404"
     },
     "user_tz": 300
    },
    "id": "D-Mwc6MczlFD",
    "outputId": "299ab316-4d4d-4859-cacd-96d008382b8e"
   },
   "outputs": [],
   "source": [
    "# Change working directory to the absolute path of the deep utilities folder\n",
    "# %cd $abspath_util_deep\n",
    "\n",
    "# Import the deep utitilities\n",
    "%run pmlm_utilities_deep.ipynb"
   ]
  },
  {
   "cell_type": "markdown",
   "metadata": {
    "id": "xnJAfR784ANl"
   },
   "source": [
    "## Loading the data"
   ]
  },
  {
   "cell_type": "markdown",
   "metadata": {
    "id": "LM_WKAmO4ANm"
   },
   "source": [
    "In this code example, we will work on the [Fashion-MNIST dataset](https://www.tensorflow.org/datasets/catalog/fashion_mnist)."
   ]
  },
  {
   "cell_type": "markdown",
   "metadata": {
    "id": "IEjvHlLB8X0z"
   },
   "source": [
    "### Creating the directory for the data"
   ]
  },
  {
   "cell_type": "code",
   "execution_count": 13,
   "metadata": {
    "executionInfo": {
     "elapsed": 24514,
     "status": "ok",
     "timestamp": 1604934941769,
     "user": {
      "displayName": "Huang Yuxiao",
      "photoUrl": "",
      "userId": "05167076769245149404"
     },
     "user_tz": 300
    },
    "id": "reijpcaf8UgO"
   },
   "outputs": [],
   "source": [
    "import os\n",
    "\n",
    "# Make directory\n",
    "directory = os.path.dirname(abspath_curr + 'data/')\n",
    "if not os.path.exists(directory):\n",
    "    os.makedirs(directory)"
   ]
  },
  {
   "cell_type": "markdown",
   "metadata": {
    "id": "-sDdbhok2i7C"
   },
   "source": [
    "### Downloading the data to the directory"
   ]
  },
  {
   "cell_type": "code",
   "execution_count": 14,
   "metadata": {
    "scrolled": true,
    "tags": []
   },
   "outputs": [
    {
     "name": "stdout",
     "output_type": "stream",
     "text": [
      "Defaulting to user installation because normal site-packages is not writeable\n",
      "Requirement already satisfied: tensorflow-datasets in /home/rajkumarcm/.local/lib/python3.8/site-packages (4.7.0)\n",
      "Requirement already satisfied: toml in /home/rajkumarcm/.local/lib/python3.8/site-packages (from tensorflow-datasets) (0.10.2)\n",
      "Requirement already satisfied: promise in /home/rajkumarcm/.local/lib/python3.8/site-packages (from tensorflow-datasets) (2.3)\n",
      "Requirement already satisfied: termcolor in /usr/local/lib/python3.8/dist-packages (from tensorflow-datasets) (1.1.0)\n",
      "Requirement already satisfied: tqdm in /home/rajkumarcm/.local/lib/python3.8/site-packages (from tensorflow-datasets) (4.64.1)\n",
      "Requirement already satisfied: numpy in /usr/local/lib/python3.8/dist-packages (from tensorflow-datasets) (1.22.4)\n",
      "Requirement already satisfied: requests>=2.19.0 in /usr/lib/python3/dist-packages (from tensorflow-datasets) (2.22.0)\n",
      "Requirement already satisfied: etils[epath] in /home/rajkumarcm/.local/lib/python3.8/site-packages (from tensorflow-datasets) (0.9.0)\n",
      "Requirement already satisfied: six in /usr/lib/python3/dist-packages (from tensorflow-datasets) (1.14.0)\n",
      "Requirement already satisfied: dill in /home/rajkumarcm/.local/lib/python3.8/site-packages (from tensorflow-datasets) (0.3.6)\n",
      "Requirement already satisfied: absl-py in /usr/local/lib/python3.8/dist-packages (from tensorflow-datasets) (1.0.0)\n",
      "Requirement already satisfied: tensorflow-metadata in /home/rajkumarcm/.local/lib/python3.8/site-packages (from tensorflow-datasets) (1.11.0)\n",
      "Requirement already satisfied: importlib-resources in /home/rajkumarcm/.local/lib/python3.8/site-packages (from tensorflow-datasets) (5.8.0)\n",
      "Requirement already satisfied: protobuf>=3.12.2 in /usr/local/lib/python3.8/dist-packages (from tensorflow-datasets) (3.19.4)\n",
      "Requirement already satisfied: typing_extensions in /usr/local/lib/python3.8/dist-packages (from etils[epath]->tensorflow-datasets) (4.2.0)\n",
      "Requirement already satisfied: zipp in /usr/local/lib/python3.8/dist-packages (from etils[epath]->tensorflow-datasets) (3.8.0)\n",
      "Requirement already satisfied: googleapis-common-protos<2,>=1.52.0 in /home/rajkumarcm/.local/lib/python3.8/site-packages (from tensorflow-metadata->tensorflow-datasets) (1.56.4)\n",
      "--- Logging error ---\n",
      "Traceback (most recent call last):\n",
      "  File \"/home/rajkumarcm/.local/lib/python3.8/site-packages/pip/_internal/utils/logging.py\", line 177, in emit\n",
      "    self.console.print(renderable, overflow=\"ignore\", crop=False, style=style)\n",
      "  File \"/home/rajkumarcm/.local/lib/python3.8/site-packages/pip/_vendor/rich/console.py\", line 1752, in print\n",
      "    extend(render(renderable, render_options))\n",
      "  File \"/home/rajkumarcm/.local/lib/python3.8/site-packages/pip/_vendor/rich/console.py\", line 1390, in render\n",
      "    for render_output in iter_render:\n",
      "  File \"/home/rajkumarcm/.local/lib/python3.8/site-packages/pip/_internal/utils/logging.py\", line 134, in __rich_console__\n",
      "    for line in lines:\n",
      "  File \"/home/rajkumarcm/.local/lib/python3.8/site-packages/pip/_vendor/rich/segment.py\", line 245, in split_lines\n",
      "    for segment in segments:\n",
      "  File \"/home/rajkumarcm/.local/lib/python3.8/site-packages/pip/_vendor/rich/console.py\", line 1368, in render\n",
      "    renderable = rich_cast(renderable)\n",
      "  File \"/home/rajkumarcm/.local/lib/python3.8/site-packages/pip/_vendor/rich/protocol.py\", line 36, in rich_cast\n",
      "    renderable = cast_method()\n",
      "  File \"/home/rajkumarcm/.local/lib/python3.8/site-packages/pip/_internal/self_outdated_check.py\", line 130, in __rich__\n",
      "    pip_cmd = get_best_invocation_for_this_pip()\n",
      "  File \"/home/rajkumarcm/.local/lib/python3.8/site-packages/pip/_internal/utils/entrypoints.py\", line 58, in get_best_invocation_for_this_pip\n",
      "    if found_executable and os.path.samefile(\n",
      "  File \"/usr/lib/python3.8/genericpath.py\", line 101, in samefile\n",
      "    s2 = os.stat(f2)\n",
      "FileNotFoundError: [Errno 2] No such file or directory: '/usr/bin/pip3.8'\n",
      "Call stack:\n",
      "  File \"/home/rajkumarcm/.local/bin/pip\", line 8, in <module>\n",
      "    sys.exit(main())\n",
      "  File \"/home/rajkumarcm/.local/lib/python3.8/site-packages/pip/_internal/cli/main.py\", line 70, in main\n",
      "    return command.main(cmd_args)\n",
      "  File \"/home/rajkumarcm/.local/lib/python3.8/site-packages/pip/_internal/cli/base_command.py\", line 101, in main\n",
      "    return self._main(args)\n",
      "  File \"/home/rajkumarcm/.local/lib/python3.8/site-packages/pip/_internal/cli/base_command.py\", line 223, in _main\n",
      "    self.handle_pip_version_check(options)\n",
      "  File \"/home/rajkumarcm/.local/lib/python3.8/site-packages/pip/_internal/cli/req_command.py\", line 148, in handle_pip_version_check\n",
      "    pip_self_version_check(session, options)\n",
      "  File \"/home/rajkumarcm/.local/lib/python3.8/site-packages/pip/_internal/self_outdated_check.py\", line 237, in pip_self_version_check\n",
      "    logger.info(\"[present-rich] %s\", upgrade_prompt)\n",
      "  File \"/usr/lib/python3.8/logging/__init__.py\", line 1446, in info\n",
      "    self._log(INFO, msg, args, **kwargs)\n",
      "  File \"/usr/lib/python3.8/logging/__init__.py\", line 1589, in _log\n",
      "    self.handle(record)\n",
      "  File \"/usr/lib/python3.8/logging/__init__.py\", line 1599, in handle\n",
      "    self.callHandlers(record)\n",
      "  File \"/usr/lib/python3.8/logging/__init__.py\", line 1661, in callHandlers\n",
      "    hdlr.handle(record)\n",
      "  File \"/usr/lib/python3.8/logging/__init__.py\", line 954, in handle\n",
      "    self.emit(record)\n",
      "  File \"/home/rajkumarcm/.local/lib/python3.8/site-packages/pip/_internal/utils/logging.py\", line 179, in emit\n",
      "    self.handleError(record)\n",
      "Message: '[present-rich] %s'\n",
      "Arguments: (UpgradePrompt(old='22.1.2', new='22.3.1'),)\n"
     ]
    }
   ],
   "source": [
    "!pip install tensorflow-datasets"
   ]
  },
  {
   "cell_type": "code",
   "execution_count": 15,
   "metadata": {
    "executionInfo": {
     "elapsed": 32550,
     "status": "ok",
     "timestamp": 1604934949806,
     "user": {
      "displayName": "Huang Yuxiao",
      "photoUrl": "",
      "userId": "05167076769245149404"
     },
     "user_tz": 300
    },
    "id": "6onKpDeL4ANn",
    "scrolled": true
   },
   "outputs": [
    {
     "name": "stderr",
     "output_type": "stream",
     "text": [
      "2022-11-14 18:55:02.576649: I tensorflow/stream_executor/cuda/cuda_gpu_executor.cc:961] could not open file to read NUMA node: /sys/bus/pci/devices/0000:42:00.0/numa_node\n",
      "Your kernel may have been built without NUMA support.\n",
      "2022-11-14 18:55:02.584482: I tensorflow/stream_executor/cuda/cuda_gpu_executor.cc:961] could not open file to read NUMA node: /sys/bus/pci/devices/0000:42:00.0/numa_node\n",
      "Your kernel may have been built without NUMA support.\n",
      "2022-11-14 18:55:02.584940: I tensorflow/stream_executor/cuda/cuda_gpu_executor.cc:961] could not open file to read NUMA node: /sys/bus/pci/devices/0000:42:00.0/numa_node\n",
      "Your kernel may have been built without NUMA support.\n",
      "2022-11-14 18:55:02.586220: I tensorflow/core/platform/cpu_feature_guard.cc:193] This TensorFlow binary is optimized with oneAPI Deep Neural Network Library (oneDNN) to use the following CPU instructions in performance-critical operations:  AVX2 FMA\n",
      "To enable them in other operations, rebuild TensorFlow with the appropriate compiler flags.\n",
      "2022-11-14 18:55:02.591641: I tensorflow/stream_executor/cuda/cuda_gpu_executor.cc:961] could not open file to read NUMA node: /sys/bus/pci/devices/0000:42:00.0/numa_node\n",
      "Your kernel may have been built without NUMA support.\n",
      "2022-11-14 18:55:02.592030: I tensorflow/stream_executor/cuda/cuda_gpu_executor.cc:961] could not open file to read NUMA node: /sys/bus/pci/devices/0000:42:00.0/numa_node\n",
      "Your kernel may have been built without NUMA support.\n",
      "2022-11-14 18:55:02.592384: I tensorflow/stream_executor/cuda/cuda_gpu_executor.cc:961] could not open file to read NUMA node: /sys/bus/pci/devices/0000:42:00.0/numa_node\n",
      "Your kernel may have been built without NUMA support.\n",
      "2022-11-14 18:55:03.352754: I tensorflow/stream_executor/cuda/cuda_gpu_executor.cc:961] could not open file to read NUMA node: /sys/bus/pci/devices/0000:42:00.0/numa_node\n",
      "Your kernel may have been built without NUMA support.\n",
      "2022-11-14 18:55:03.353106: I tensorflow/stream_executor/cuda/cuda_gpu_executor.cc:961] could not open file to read NUMA node: /sys/bus/pci/devices/0000:42:00.0/numa_node\n",
      "Your kernel may have been built without NUMA support.\n",
      "2022-11-14 18:55:03.353121: I tensorflow/core/common_runtime/gpu/gpu_device.cc:1616] Could not identify NUMA node of platform GPU id 0, defaulting to 0.  Your kernel may not have been built with NUMA support.\n",
      "2022-11-14 18:55:03.353451: I tensorflow/stream_executor/cuda/cuda_gpu_executor.cc:961] could not open file to read NUMA node: /sys/bus/pci/devices/0000:42:00.0/numa_node\n",
      "Your kernel may have been built without NUMA support.\n",
      "2022-11-14 18:55:03.353475: W tensorflow/core/common_runtime/gpu/gpu_bfc_allocator.cc:42] Overriding orig_value setting because the TF_FORCE_GPU_ALLOW_GROWTH environment variable is set. Original config value was 0.\n",
      "2022-11-14 18:55:03.353502: I tensorflow/core/common_runtime/gpu/gpu_device.cc:1532] Created device /job:localhost/replica:0/task:0/device:GPU:0 with 3920 MB memory:  -> device: 0, name: NVIDIA GeForce RTX 2060, pci bus id: 0000:42:00.0, compute capability: 7.5\n"
     ]
    }
   ],
   "source": [
    "import tensorflow_datasets as tfds\n",
    "\n",
    "# Get the name of the data\n",
    "data_name = 'cifar10'\n",
    "\n",
    "# Load data\n",
    "data, info = tfds.load(name=data_name,\n",
    "                       data_dir=abspath_curr + 'data/',\n",
    "                       as_supervised=True,\n",
    "                       with_info=True)"
   ]
  },
  {
   "cell_type": "markdown",
   "metadata": {
    "id": "yvIqSuZUVBb8"
   },
   "source": [
    "## Getting the name of the target"
   ]
  },
  {
   "cell_type": "code",
   "execution_count": 16,
   "metadata": {
    "executionInfo": {
     "elapsed": 32552,
     "status": "ok",
     "timestamp": 1604934949809,
     "user": {
      "displayName": "Huang Yuxiao",
      "photoUrl": "",
      "userId": "05167076769245149404"
     },
     "user_tz": 300
    },
    "id": "AF5gbpOWVElL"
   },
   "outputs": [],
   "source": [
    "target = 'label'"
   ]
  },
  {
   "cell_type": "markdown",
   "metadata": {
    "id": "ugddFhUgVGWq"
   },
   "source": [
    "## Getting the info"
   ]
  },
  {
   "cell_type": "code",
   "execution_count": 17,
   "metadata": {
    "colab": {
     "base_uri": "https://localhost:8080/"
    },
    "executionInfo": {
     "elapsed": 32538,
     "status": "ok",
     "timestamp": 1604934949809,
     "user": {
      "displayName": "Huang Yuxiao",
      "photoUrl": "",
      "userId": "05167076769245149404"
     },
     "user_tz": 300
    },
    "id": "A85zWEqMjP5E",
    "outputId": "46d88e5d-d2d2-4e28-bafb-f4cd7283fd84"
   },
   "outputs": [
    {
     "data": {
      "text/plain": [
       "{'train': <SplitInfo num_examples=50000, num_shards=1>,\n",
       " 'test': <SplitInfo num_examples=10000, num_shards=1>}"
      ]
     },
     "execution_count": 17,
     "metadata": {},
     "output_type": "execute_result"
    }
   ],
   "source": [
    "# Print the splits\n",
    "info.splits"
   ]
  },
  {
   "cell_type": "code",
   "execution_count": 18,
   "metadata": {},
   "outputs": [
    {
     "data": {
      "text/plain": [
       "tfds.core.DatasetInfo(\n",
       "    name='cifar10',\n",
       "    full_name='cifar10/3.0.2',\n",
       "    description=\"\"\"\n",
       "    The CIFAR-10 dataset consists of 60000 32x32 colour images in 10 classes, with 6000 images per class. There are 50000 training images and 10000 test images.\n",
       "    \"\"\",\n",
       "    homepage='https://www.cs.toronto.edu/~kriz/cifar.html',\n",
       "    data_path='data/cifar10/3.0.2',\n",
       "    file_format=tfrecord,\n",
       "    download_size=162.17 MiB,\n",
       "    dataset_size=132.40 MiB,\n",
       "    features=FeaturesDict({\n",
       "        'id': Text(shape=(), dtype=tf.string),\n",
       "        'image': Image(shape=(32, 32, 3), dtype=tf.uint8),\n",
       "        'label': ClassLabel(shape=(), dtype=tf.int64, num_classes=10),\n",
       "    }),\n",
       "    supervised_keys=('image', 'label'),\n",
       "    disable_shuffling=False,\n",
       "    splits={\n",
       "        'test': <SplitInfo num_examples=10000, num_shards=1>,\n",
       "        'train': <SplitInfo num_examples=50000, num_shards=1>,\n",
       "    },\n",
       "    citation=\"\"\"@TECHREPORT{Krizhevsky09learningmultiple,\n",
       "        author = {Alex Krizhevsky},\n",
       "        title = {Learning multiple layers of features from tiny images},\n",
       "        institution = {},\n",
       "        year = {2009}\n",
       "    }\"\"\",\n",
       ")"
      ]
     },
     "execution_count": 18,
     "metadata": {},
     "output_type": "execute_result"
    }
   ],
   "source": [
    "info"
   ]
  },
  {
   "cell_type": "code",
   "execution_count": 19,
   "metadata": {
    "colab": {
     "base_uri": "https://localhost:8080/"
    },
    "executionInfo": {
     "elapsed": 32524,
     "status": "ok",
     "timestamp": 1604934949809,
     "user": {
      "displayName": "Huang Yuxiao",
      "photoUrl": "",
      "userId": "05167076769245149404"
     },
     "user_tz": 300
    },
    "id": "vsSHR38vjL1G",
    "outputId": "93c724a2-ba38-4d71-adea-9481624af83a"
   },
   "outputs": [
    {
     "data": {
      "text/plain": [
       "['airplane',\n",
       " 'automobile',\n",
       " 'bird',\n",
       " 'cat',\n",
       " 'deer',\n",
       " 'dog',\n",
       " 'frog',\n",
       " 'horse',\n",
       " 'ship',\n",
       " 'truck']"
      ]
     },
     "execution_count": 19,
     "metadata": {},
     "output_type": "execute_result"
    }
   ],
   "source": [
    "# Get the classes\n",
    "classes = info.features['label'].names\n",
    "\n",
    "# Print the classes\n",
    "classes"
   ]
  },
  {
   "cell_type": "code",
   "execution_count": 20,
   "metadata": {
    "colab": {
     "base_uri": "https://localhost:8080/"
    },
    "executionInfo": {
     "elapsed": 32510,
     "status": "ok",
     "timestamp": 1604934949809,
     "user": {
      "displayName": "Huang Yuxiao",
      "photoUrl": "",
      "userId": "05167076769245149404"
     },
     "user_tz": 300
    },
    "id": "hD0wa74kS_53",
    "outputId": "57db9651-1e4c-450e-86ff-747056dc106c"
   },
   "outputs": [
    {
     "data": {
      "text/plain": [
       "10"
      ]
     },
     "execution_count": 20,
     "metadata": {},
     "output_type": "execute_result"
    }
   ],
   "source": [
    "# Get the number of classes\n",
    "n_classes = info.features['label'].num_classes\n",
    "\n",
    "# Print the number of classes\n",
    "info.features['label'].num_classes"
   ]
  },
  {
   "cell_type": "markdown",
   "metadata": {
    "id": "jGLoCbmO4AN9",
    "tags": []
   },
   "source": [
    "## Getting the training, validation and test data"
   ]
  },
  {
   "cell_type": "code",
   "execution_count": 15,
   "metadata": {
    "executionInfo": {
     "elapsed": 32510,
     "status": "ok",
     "timestamp": 1604934949810,
     "user": {
      "displayName": "Huang Yuxiao",
      "photoUrl": "",
      "userId": "05167076769245149404"
     },
     "user_tz": 300
    },
    "id": "a2P4L1vS4AN_"
   },
   "outputs": [],
   "source": [
    "# Set the training, validation and test split\n",
    "split_train, split_valid, split_test = 'train[:70%]', 'train[70%:]', 'test'\n",
    "\n",
    "# Get the training data\n",
    "data_train = tfds.load(name=data_name,\n",
    "                       split=split_train,\n",
    "                       data_dir=abspath_curr + 'data/',\n",
    "                       as_supervised=True)\n",
    "\n",
    "# Get the validation data\n",
    "data_valid = tfds.load(name=data_name,\n",
    "                       split=split_valid,\n",
    "                       data_dir=abspath_curr + 'data/',\n",
    "                       as_supervised=True)\n",
    "\n",
    "# Get the test data\n",
    "data_test = tfds.load(name=data_name,\n",
    "                      split=split_test,\n",
    "                      data_dir=abspath_curr + 'data/',\n",
    "                      as_supervised=True)"
   ]
  },
  {
   "cell_type": "markdown",
   "metadata": {
    "id": "e9oPQZ7limeD"
   },
   "source": [
    "## Shuffling, batching and prefetching the data"
   ]
  },
  {
   "cell_type": "code",
   "execution_count": 16,
   "metadata": {},
   "outputs": [],
   "source": [
    "tr_size = info.splits['train'].num_examples\n",
    "ts_size = info.splits['test'].num_examples"
   ]
  },
  {
   "cell_type": "code",
   "execution_count": 17,
   "metadata": {},
   "outputs": [],
   "source": [
    "tr_size = int(0.7 * tr_size)\n",
    "vl_size = info.splits['train'].num_examples - tr_size"
   ]
  },
  {
   "cell_type": "code",
   "execution_count": 18,
   "metadata": {
    "executionInfo": {
     "elapsed": 32508,
     "status": "ok",
     "timestamp": 1604934949810,
     "user": {
      "displayName": "Huang Yuxiao",
      "photoUrl": "",
      "userId": "05167076769245149404"
     },
     "user_tz": 300
    },
    "id": "p95Fq3PFbaAL"
   },
   "outputs": [],
   "source": [
    "# Shuffling the training data\n",
    "data_train = data_train.shuffle(buffer_size=1000, seed=random_seed)\n",
    "\n",
    "# Set the batch size\n",
    "batch_size = 16\n",
    "\n",
    "# \\/\\/\\/\\/\\/\\/\\/\\\\/\\/\\\\/\\\\/\\/\\/---REVERT WHILE TRANSFERRING TO COLAB\\-\\-\\-\\-\\-\\-\n",
    "\n",
    "# Batch and prefetch the training data\n",
    "data_train = data_train.batch(tr_size).prefetch(1)\n",
    "\n",
    "# Batch and prefetch the validation data\n",
    "data_valid = data_valid.batch(vl_size).prefetch(1)\n",
    "\n",
    "# Batch and prefetch the test data\n",
    "data_test = data_test.batch(ts_size).prefetch(1)"
   ]
  },
  {
   "cell_type": "markdown",
   "metadata": {
    "id": "rMLlv9xK4AO9"
   },
   "source": [
    "# Training (Without Callback)"
   ]
  },
  {
   "cell_type": "markdown",
   "metadata": {
    "id": "tadOFNHsaCCj"
   },
   "source": [
    "## Building the model"
   ]
  },
  {
   "cell_type": "markdown",
   "metadata": {
    "id": "MrmKev8JaBXc"
   },
   "source": [
    " ### A step by step approach"
   ]
  },
  {
   "cell_type": "code",
   "execution_count": 19,
   "metadata": {
    "executionInfo": {
     "elapsed": 32507,
     "status": "ok",
     "timestamp": 1604934949810,
     "user": {
      "displayName": "Huang Yuxiao",
      "photoUrl": "",
      "userId": "05167076769245149404"
     },
     "user_tz": 300
    },
    "id": "lYq-8ZYia_dL"
   },
   "outputs": [],
   "source": [
    "# A sequential dnn with two hidden layers\n",
    "model = keras.models.Sequential([keras.layers.Flatten(input_shape=[32,32,3]),\n",
    "                                 keras.layers.Dense(50, activation='relu'),\n",
    "                                 keras.layers.Dense(50, activation='relu'),\n",
    "                                 keras.layers.Dense(10, activation='softmax')])"
   ]
  },
  {
   "cell_type": "code",
   "execution_count": 20,
   "metadata": {
    "id": "iNHmyvdOSeMn"
   },
   "outputs": [
    {
     "name": "stdout",
     "output_type": "stream",
     "text": [
      "Model: \"sequential\"\n",
      "_________________________________________________________________\n",
      " Layer (type)                Output Shape              Param #   \n",
      "=================================================================\n",
      " flatten (Flatten)           (None, 3072)              0         \n",
      "                                                                 \n",
      " dense (Dense)               (None, 50)                153650    \n",
      "                                                                 \n",
      " dense_1 (Dense)             (None, 50)                2550      \n",
      "                                                                 \n",
      " dense_2 (Dense)             (None, 10)                510       \n",
      "                                                                 \n",
      "=================================================================\n",
      "Total params: 156,710\n",
      "Trainable params: 156,710\n",
      "Non-trainable params: 0\n",
      "_________________________________________________________________\n"
     ]
    }
   ],
   "source": [
    "model.summary()"
   ]
  },
  {
   "cell_type": "markdown",
   "metadata": {
    "id": "iGISytqvZ_C0"
   },
   "source": [
    "## Compiling the model"
   ]
  },
  {
   "cell_type": "code",
   "execution_count": 21,
   "metadata": {
    "executionInfo": {
     "elapsed": 32492,
     "status": "ok",
     "timestamp": 1604934949811,
     "user": {
      "displayName": "Huang Yuxiao",
      "photoUrl": "",
      "userId": "05167076769245149404"
     },
     "user_tz": 300
    },
    "id": "aaMjBK2kZ-WX"
   },
   "outputs": [],
   "source": [
    "# Compile the model\n",
    "model.compile(optimizer=keras.optimizers.SGD(),\n",
    "              loss='sparse_categorical_crossentropy',\n",
    "              metrics=['accuracy'])"
   ]
  },
  {
   "cell_type": "markdown",
   "metadata": {
    "id": "ba6nZQcO7Wjv"
   },
   "source": [
    "## Training the model"
   ]
  },
  {
   "cell_type": "code",
   "execution_count": 22,
   "metadata": {
    "colab": {
     "base_uri": "https://localhost:8080/"
    },
    "executionInfo": {
     "elapsed": 119800,
     "status": "ok",
     "timestamp": 1604935037133,
     "user": {
      "displayName": "Huang Yuxiao",
      "photoUrl": "",
      "userId": "05167076769245149404"
     },
     "user_tz": 300
    },
    "id": "WPC7Obrq7ZDy",
    "outputId": "4cc678f0-b08c-4718-bc43-e3b2f5fb4757",
    "tags": []
   },
   "outputs": [
    {
     "name": "stdout",
     "output_type": "stream",
     "text": [
      "Epoch 1/10\n",
      "1/1 [==============================] - 6s 6s/step - loss: 178.4877 - accuracy: 0.0875 - val_loss: 47101.5039 - val_accuracy: 0.0961\n",
      "Epoch 2/10\n",
      "1/1 [==============================] - 2s 2s/step - loss: 46715.7578 - accuracy: 0.1017 - val_loss: 51442592.0000 - val_accuracy: 0.1027\n",
      "Epoch 3/10\n",
      "1/1 [==============================] - 2s 2s/step - loss: 53456384.0000 - accuracy: 0.0988 - val_loss: 146211376.0000 - val_accuracy: 0.1049\n",
      "Epoch 4/10\n",
      "1/1 [==============================] - 2s 2s/step - loss: 144568064.0000 - accuracy: 0.0979 - val_loss: 3.7669 - val_accuracy: 0.0961\n",
      "Epoch 5/10\n",
      "1/1 [==============================] - 2s 2s/step - loss: 3.6612 - accuracy: 0.1017 - val_loss: 2.3026 - val_accuracy: 0.0999\n",
      "Epoch 6/10\n",
      "1/1 [==============================] - 2s 2s/step - loss: 2.3026 - accuracy: 0.1000 - val_loss: 2.3026 - val_accuracy: 0.0999\n",
      "Epoch 7/10\n",
      "1/1 [==============================] - 2s 2s/step - loss: 2.3026 - accuracy: 0.1000 - val_loss: 2.3026 - val_accuracy: 0.0999\n",
      "Epoch 8/10\n",
      "1/1 [==============================] - 2s 2s/step - loss: 2.3026 - accuracy: 0.1000 - val_loss: 2.3026 - val_accuracy: 0.0999\n",
      "Epoch 9/10\n",
      "1/1 [==============================] - 2s 2s/step - loss: 2.3026 - accuracy: 0.1000 - val_loss: 2.3026 - val_accuracy: 0.0999\n",
      "Epoch 10/10\n",
      "1/1 [==============================] - 2s 2s/step - loss: 2.3026 - accuracy: 0.1000 - val_loss: 2.3026 - val_accuracy: 0.0999\n"
     ]
    }
   ],
   "source": [
    "# Train and evaluate the model\n",
    "history = model.fit(data_train,\n",
    "                    epochs=10,\n",
    "                    validation_data=data_valid)"
   ]
  },
  {
   "cell_type": "markdown",
   "metadata": {
    "id": "kNN6M5wH7vis",
    "tags": []
   },
   "source": [
    "## Plotting the learning curve"
   ]
  },
  {
   "cell_type": "markdown",
   "metadata": {
    "id": "YXGVkBFl78Cr"
   },
   "source": [
    "### Creating the directory for the figure"
   ]
  },
  {
   "cell_type": "code",
   "execution_count": 23,
   "metadata": {
    "executionInfo": {
     "elapsed": 119798,
     "status": "ok",
     "timestamp": 1604935037133,
     "user": {
      "displayName": "Huang Yuxiao",
      "photoUrl": "",
      "userId": "05167076769245149404"
     },
     "user_tz": 300
    },
    "id": "96NjNOfw7xK3"
   },
   "outputs": [],
   "source": [
    "# Make directory\n",
    "directory = os.path.dirname(abspath_curr + 'result/figure/')\n",
    "if not os.path.exists(directory):\n",
    "    os.makedirs(directory)"
   ]
  },
  {
   "cell_type": "markdown",
   "metadata": {
    "id": "MAg4LlUjb1Uz"
   },
   "source": [
    "### Plotting the figure"
   ]
  },
  {
   "cell_type": "code",
   "execution_count": 24,
   "metadata": {
    "colab": {
     "base_uri": "https://localhost:8080/",
     "height": 348
    },
    "executionInfo": {
     "elapsed": 122060,
     "status": "ok",
     "timestamp": 1604935039409,
     "user": {
      "displayName": "Huang Yuxiao",
      "photoUrl": "",
      "userId": "05167076769245149404"
     },
     "user_tz": 300
    },
    "id": "-1AWpDxk8fqM",
    "outputId": "5c09a2bc-20ce-4218-9c25-ebbc21a93042"
   },
   "outputs": [
    {
     "data": {
      "image/png": "[encoded data removed]",
      "text/plain": [
       "<Figure size 864x360 with 2 Axes>"
      ]
     },
     "metadata": {
      "needs_background": "light"
     },
     "output_type": "display_data"
    }
   ],
   "source": [
    "import pandas as pd\n",
    "\n",
    "# Create a figure\n",
    "# pd.DataFrame(history.history).plot(figsize=(8, 5))\n",
    "fig, axes = plt.subplots(1, 2, figsize=(12, 5))\n",
    "hist = history.history\n",
    "axes[0].plot(hist['loss'], '-b', label='Training Loss')\n",
    "axes[0].plot(hist['val_loss'], '-r', label='Validation Loss')\n",
    "axes[0].set_xlabel('Epoch')\n",
    "axes[0].set_ylabel('Cross Entropy')\n",
    "axes[0].set_title('Performance in terms of loss')\n",
    "axes[0].legend()\n",
    "\n",
    "axes[1].plot(hist['accuracy'], '-b', label='Training Accuracy')\n",
    "axes[1].plot(hist['val_accuracy'], '-r', label='Validation Accuracy')\n",
    "axes[1].set_xlabel('Epoch')\n",
    "axes[1].set_ylabel('Accuracy')\n",
    "axes[1].set_title('Performance in terms of accuracy')\n",
    "axes[1].legend()\n",
    "\n",
    "plt.tight_layout()\n",
    "plt.savefig(abspath_curr + 'result/figure/learning_curve_without_callback_10.pdf')\n",
    "plt.show()"
   ]
  },
  {
   "cell_type": "markdown",
   "metadata": {
    "id": "YddKUU4Y9j7w"
   },
   "source": [
    "# Training (With ModelCheckpoint callback to Save the Model)"
   ]
  },
  {
   "cell_type": "markdown",
   "metadata": {
    "id": "Bgnj4lj3cUCt"
   },
   "source": [
    "## Creating the directory for the saved model"
   ]
  },
  {
   "cell_type": "code",
   "execution_count": 25,
   "metadata": {
    "executionInfo": {
     "elapsed": 162886,
     "status": "ok",
     "timestamp": 1604935080265,
     "user": {
      "displayName": "Huang Yuxiao",
      "photoUrl": "",
      "userId": "05167076769245149404"
     },
     "user_tz": 300
    },
    "id": "mL8IheVrcVWh"
   },
   "outputs": [],
   "source": [
    "# Make directory\n",
    "directory = os.path.dirname(abspath_curr + 'result/model/')\n",
    "if not os.path.exists(directory):\n",
    "    os.makedirs(directory)"
   ]
  },
  {
   "cell_type": "markdown",
   "metadata": {
    "id": "MZXkv8srb1IS"
   },
   "source": [
    "## Building the model"
   ]
  },
  {
   "cell_type": "code",
   "execution_count": 26,
   "metadata": {
    "colab": {
     "base_uri": "https://localhost:8080/"
    },
    "executionInfo": {
     "elapsed": 162873,
     "status": "ok",
     "timestamp": 1604935080266,
     "user": {
      "displayName": "Huang Yuxiao",
      "photoUrl": "",
      "userId": "05167076769245149404"
     },
     "user_tz": 300
    },
    "id": "aIR5sQVsb5Yh",
    "outputId": "f7194196-b96b-44ec-c1ea-1e14fc7a2a40"
   },
   "outputs": [
    {
     "name": "stdout",
     "output_type": "stream",
     "text": [
      "Model: \"sequential_1\"\n",
      "_________________________________________________________________\n",
      " Layer (type)                Output Shape              Param #   \n",
      "=================================================================\n",
      " flatten_1 (Flatten)         (None, 3072)              0         \n",
      "                                                                 \n",
      " dense_3 (Dense)             (None, 50)                153650    \n",
      "                                                                 \n",
      " dense_4 (Dense)             (None, 50)                2550      \n",
      "                                                                 \n",
      " dense_5 (Dense)             (None, 10)                510       \n",
      "                                                                 \n",
      "=================================================================\n",
      "Total params: 156,710\n",
      "Trainable params: 156,710\n",
      "Non-trainable params: 0\n",
      "_________________________________________________________________\n"
     ]
    }
   ],
   "source": [
    "# A sequential dnn\n",
    "model = keras.models.Sequential()\n",
    "\n",
    "# Add the input layer\n",
    "model.add(keras.layers.Flatten(input_shape=[32, 32, 3]))\n",
    "\n",
    "# Add two hidden layers\n",
    "model.add(keras.layers.Dense(50, activation='relu'))\n",
    "model.add(keras.layers.Dense(50, activation='relu'))\n",
    "\n",
    "# Add the output layer\n",
    "model.add(keras.layers.Dense(10, activation='softmax'))\n",
    "\n",
    "# The model summary\n",
    "model.summary()"
   ]
  },
  {
   "cell_type": "markdown",
   "metadata": {
    "id": "9u4FMgAsMcgN"
   },
   "source": [
    "## Compiling the model"
   ]
  },
  {
   "cell_type": "code",
   "execution_count": 27,
   "metadata": {
    "executionInfo": {
     "elapsed": 162872,
     "status": "ok",
     "timestamp": 1604935080266,
     "user": {
      "displayName": "Huang Yuxiao",
      "photoUrl": "",
      "userId": "05167076769245149404"
     },
     "user_tz": 300
    },
    "id": "R4oQfnVpMdo-"
   },
   "outputs": [],
   "source": [
    "# Compile the model\n",
    "model.compile(optimizer=keras.optimizers.SGD(),\n",
    "              loss='sparse_categorical_crossentropy',\n",
    "              metrics=['accuracy'])"
   ]
  },
  {
   "cell_type": "markdown",
   "metadata": {
    "id": "gLdyw9n_VzUb"
   },
   "source": [
    "## Training the model"
   ]
  },
  {
   "cell_type": "markdown",
   "metadata": {
    "id": "u9KTlbBT8EXs"
   },
   "source": [
    "### Setting callbacks"
   ]
  },
  {
   "cell_type": "code",
   "execution_count": 30,
   "metadata": {
    "executionInfo": {
     "elapsed": 162871,
     "status": "ok",
     "timestamp": 1604935080266,
     "user": {
      "displayName": "Huang Yuxiao",
      "photoUrl": "",
      "userId": "05167076769245149404"
     },
     "user_tz": 300
    },
    "id": "5_iUDJLP8K44"
   },
   "outputs": [],
   "source": [
    "# ModelCheckpoint callback\n",
    "model_checkpoint_cb = keras.callbacks.ModelCheckpoint(filepath=abspath_curr + 'result/model/model.h5',\n",
    "                                                      save_weights_only=True)"
   ]
  },
  {
   "cell_type": "markdown",
   "metadata": {
    "id": "3ylOeFwqb1U8"
   },
   "source": [
    "### Training, evaluating and saving the model"
   ]
  },
  {
   "cell_type": "code",
   "execution_count": 29,
   "metadata": {
    "colab": {
     "base_uri": "https://localhost:8080/"
    },
    "executionInfo": {
     "elapsed": 249798,
     "status": "ok",
     "timestamp": 1604935167207,
     "user": {
      "displayName": "Huang Yuxiao",
      "photoUrl": "",
      "userId": "05167076769245149404"
     },
     "user_tz": 300
    },
    "id": "0lES5CBZV176",
    "outputId": "6ebef0dd-d9a8-4173-d62e-48dd68201b72"
   },
   "outputs": [
    {
     "name": "stdout",
     "output_type": "stream",
     "text": [
      "Epoch 1/10\n",
      "1/1 [==============================] - 2s 2s/step - loss: 195.2127 - accuracy: 0.1002 - val_loss: 58371.4648 - val_accuracy: 0.0995\n",
      "Epoch 2/10\n",
      "1/1 [==============================] - 2s 2s/step - loss: 58282.3086 - accuracy: 0.1002 - val_loss: 858254464.0000 - val_accuracy: 0.0961\n",
      "Epoch 3/10\n",
      "1/1 [==============================] - 2s 2s/step - loss: 861582848.0000 - accuracy: 0.1017 - val_loss: 2610820.0000 - val_accuracy: 0.1027\n",
      "Epoch 4/10\n",
      "1/1 [==============================] - 2s 2s/step - loss: 2726285.5000 - accuracy: 0.0988 - val_loss: 38145372.0000 - val_accuracy: 0.1027\n",
      "Epoch 5/10\n",
      "1/1 [==============================] - 2s 2s/step - loss: 39772156.0000 - accuracy: 0.0988 - val_loss: 2.6920 - val_accuracy: 0.0961\n",
      "Epoch 6/10\n",
      "1/1 [==============================] - 2s 2s/step - loss: 2.6649 - accuracy: 0.1017 - val_loss: 2.3954 - val_accuracy: 0.1013\n",
      "Epoch 7/10\n",
      "1/1 [==============================] - 2s 2s/step - loss: 2.3796 - accuracy: 0.0994 - val_loss: 2.3441 - val_accuracy: 0.1013\n",
      "Epoch 8/10\n",
      "1/1 [==============================] - 2s 2s/step - loss: 2.3314 - accuracy: 0.0994 - val_loss: 2.3216 - val_accuracy: 0.1013\n",
      "Epoch 9/10\n",
      "1/1 [==============================] - 2s 2s/step - loss: 2.3110 - accuracy: 0.0994 - val_loss: 2.3179 - val_accuracy: 0.1013\n",
      "Epoch 10/10\n",
      "1/1 [==============================] - 2s 2s/step - loss: 2.3079 - accuracy: 0.0994 - val_loss: 2.3158 - val_accuracy: 0.1013\n"
     ]
    }
   ],
   "source": [
    "history = model.fit(data_train,\n",
    "                    epochs=10,\n",
    "                    validation_data=data_valid,\n",
    "                    callbacks=[model_checkpoint_cb])"
   ]
  },
  {
   "cell_type": "markdown",
   "metadata": {
    "id": "IzuVOyb4MDsO"
   },
   "source": [
    "## Loading the saved model"
   ]
  },
  {
   "cell_type": "code",
   "execution_count": 30,
   "metadata": {},
   "outputs": [],
   "source": [
    "# A sequential dnn\n",
    "model = keras.models.Sequential()\n",
    "\n",
    "# Add the input layer\n",
    "model.add(keras.layers.Flatten(input_shape=[32, 32, 3]))\n",
    "\n",
    "# Add two hidden layers\n",
    "model.add(keras.layers.Dense(50, activation='relu'))\n",
    "model.add(keras.layers.Dense(50, activation='relu'))\n",
    "\n",
    "# Add the output layer\n",
    "model.add(keras.layers.Dense(10, activation='softmax'))\n",
    "\n",
    "# The model summary\n",
    "# Compile the model\n",
    "model.compile(optimizer=keras.optimizers.SGD(),\n",
    "              loss='sparse_categorical_crossentropy',\n",
    "              metrics=['accuracy'])"
   ]
  },
  {
   "cell_type": "code",
   "execution_count": 31,
   "metadata": {
    "executionInfo": {
     "elapsed": 250506,
     "status": "ok",
     "timestamp": 1604935167930,
     "user": {
      "displayName": "Huang Yuxiao",
      "photoUrl": "",
      "userId": "05167076769245149404"
     },
     "user_tz": 300
    },
    "id": "gG-RcICvMHSC"
   },
   "outputs": [],
   "source": [
    "# Load the saved model\n",
    "model.load_weights(filepath=abspath_curr + 'result/model/model.h5')"
   ]
  },
  {
   "cell_type": "code",
   "execution_count": 32,
   "metadata": {},
   "outputs": [
    {
     "name": "stdout",
     "output_type": "stream",
     "text": [
      "1/1 [==============================] - 1s 646ms/step - loss: 2.3158 - accuracy: 0.1013\n"
     ]
    },
    {
     "data": {
      "text/plain": [
       "[2.315795660018921, 0.10133333504199982]"
      ]
     },
     "execution_count": 32,
     "metadata": {},
     "output_type": "execute_result"
    }
   ],
   "source": [
    "model.evaluate(data_valid)"
   ]
  },
  {
   "cell_type": "markdown",
   "metadata": {},
   "source": [
    "# Training (With ModelCheckpoint callback to Save the Best Model)"
   ]
  },
  {
   "cell_type": "markdown",
   "metadata": {
    "id": "Y6iqu0kUez-E"
   },
   "source": [
    "# Training"
   ]
  },
  {
   "cell_type": "code",
   "execution_count": 33,
   "metadata": {
    "id": "aowuD9CnSeMn",
    "scrolled": true,
    "tags": []
   },
   "outputs": [
    {
     "name": "stdout",
     "output_type": "stream",
     "text": [
      "Epoch 1/20\n",
      "1/1 [==============================] - 2s 2s/step - loss: 176.0899 - accuracy: 0.1003 - val_loss: 67232.1406 - val_accuracy: 0.0999\n",
      "Epoch 2/20\n",
      "1/1 [==============================] - 2s 2s/step - loss: 67768.6875 - accuracy: 0.1000 - val_loss: 119600288.0000 - val_accuracy: 0.0961\n",
      "Epoch 3/20\n",
      "1/1 [==============================] - 2s 2s/step - loss: 120259072.0000 - accuracy: 0.1017 - val_loss: 25585.7305 - val_accuracy: 0.1027\n",
      "Epoch 4/20\n",
      "1/1 [==============================] - 2s 2s/step - loss: 25951.4141 - accuracy: 0.0988 - val_loss: 2.4123 - val_accuracy: 0.1049\n",
      "Epoch 5/20\n",
      "1/1 [==============================] - 2s 2s/step - loss: 3.2065 - accuracy: 0.0979 - val_loss: 2.3240 - val_accuracy: 0.1049\n",
      "Epoch 6/20\n",
      "1/1 [==============================] - 2s 2s/step - loss: 2.3286 - accuracy: 0.0979 - val_loss: 2.3028 - val_accuracy: 0.1049\n",
      "Epoch 7/20\n",
      "1/1 [==============================] - 2s 2s/step - loss: 2.3026 - accuracy: 0.0979 - val_loss: 2.3027 - val_accuracy: 0.1049\n",
      "Epoch 8/20\n",
      "1/1 [==============================] - 2s 2s/step - loss: 2.3026 - accuracy: 0.0979 - val_loss: 2.3027 - val_accuracy: 0.1049\n",
      "Epoch 9/20\n",
      "1/1 [==============================] - 2s 2s/step - loss: 2.3026 - accuracy: 0.0979 - val_loss: 2.3027 - val_accuracy: 0.1049\n",
      "Epoch 10/20\n",
      "1/1 [==============================] - 2s 2s/step - loss: 2.3026 - accuracy: 0.0979 - val_loss: 2.3027 - val_accuracy: 0.1049\n",
      "Epoch 11/20\n",
      "1/1 [==============================] - 2s 2s/step - loss: 2.3026 - accuracy: 0.0979 - val_loss: 2.3027 - val_accuracy: 0.1049\n",
      "Epoch 12/20\n",
      "1/1 [==============================] - 2s 2s/step - loss: 2.3026 - accuracy: 0.0979 - val_loss: 2.3027 - val_accuracy: 0.1049\n",
      "Epoch 13/20\n",
      "1/1 [==============================] - 2s 2s/step - loss: 2.3026 - accuracy: 0.0979 - val_loss: 2.3027 - val_accuracy: 0.1049\n",
      "Epoch 14/20\n",
      "1/1 [==============================] - 2s 2s/step - loss: 2.3026 - accuracy: 0.0979 - val_loss: 2.3027 - val_accuracy: 0.1049\n",
      "Epoch 15/20\n",
      "1/1 [==============================] - 2s 2s/step - loss: 2.3026 - accuracy: 0.0979 - val_loss: 2.3027 - val_accuracy: 0.1049\n",
      "Epoch 16/20\n",
      "1/1 [==============================] - 2s 2s/step - loss: 2.3026 - accuracy: 0.0979 - val_loss: 2.3027 - val_accuracy: 0.1049\n",
      "Epoch 17/20\n",
      "1/1 [==============================] - 2s 2s/step - loss: 2.3026 - accuracy: 0.0979 - val_loss: 2.3027 - val_accuracy: 0.1049\n",
      "Epoch 18/20\n",
      "1/1 [==============================] - 2s 2s/step - loss: 2.3026 - accuracy: 0.0979 - val_loss: 2.3027 - val_accuracy: 0.1049\n",
      "Epoch 19/20\n",
      "1/1 [==============================] - 2s 2s/step - loss: 2.3026 - accuracy: 0.0979 - val_loss: 2.3027 - val_accuracy: 0.1049\n",
      "Epoch 20/20\n",
      "1/1 [==============================] - 2s 2s/step - loss: 2.3026 - accuracy: 0.0979 - val_loss: 2.3027 - val_accuracy: 0.1049\n"
     ]
    }
   ],
   "source": [
    "# A sequential dnn\n",
    "model = keras.models.Sequential()\n",
    "\n",
    "# Add the input layer\n",
    "model.add(keras.layers.Flatten(input_shape=[32, 32, 3]))\n",
    "\n",
    "# Add two hidden layers\n",
    "model.add(keras.layers.Dense(50, activation='relu'))\n",
    "model.add(keras.layers.Dense(50, activation='relu'))\n",
    "\n",
    "# Add the output layer\n",
    "model.add(keras.layers.Dense(10, activation='softmax'))\n",
    "\n",
    "# The model summary\n",
    "model.compile(optimizer=keras.optimizers.SGD(),\n",
    "              loss='sparse_categorical_crossentropy',\n",
    "              metrics=['accuracy'])\n",
    "model_checkpoint_cb = keras.callbacks.ModelCheckpoint(filepath=abspath_curr + 'result/model/model.h5',\n",
    "                                                      save_best_only=True,\n",
    "                                                      save_weights_only=True)\n",
    "history = model.fit(data_train,\n",
    "                    epochs=20,\n",
    "                    validation_data=data_valid,\n",
    "                    callbacks=[model_checkpoint_cb])"
   ]
  },
  {
   "cell_type": "code",
   "execution_count": 34,
   "metadata": {},
   "outputs": [
    {
     "data": {
      "image/png": "[encoded data removed]",
      "text/plain": [
       "<Figure size 864x360 with 2 Axes>"
      ]
     },
     "metadata": {
      "needs_background": "light"
     },
     "output_type": "display_data"
    }
   ],
   "source": [
    "fig, axes = plt.subplots(1, 2, figsize=(12, 5))\n",
    "hist = history.history\n",
    "axes[0].plot(hist['loss'], '-b', label='Training Loss')\n",
    "axes[0].plot(hist['val_loss'], '-r', label='Validation Loss')\n",
    "axes[0].set_xlabel('Epoch')\n",
    "axes[0].set_ylabel('Cross Entropy')\n",
    "axes[0].set_title('Performance in terms of loss')\n",
    "axes[0].legend()\n",
    "\n",
    "axes[1].plot(hist['accuracy'], '-b', label='Training Accuracy')\n",
    "axes[1].plot(hist['val_accuracy'], '-r', label='Validation Accuracy')\n",
    "axes[1].set_xlabel('Epoch')\n",
    "axes[1].set_ylabel('Accuracy')\n",
    "axes[1].set_title('Performance in terms of accuracy')\n",
    "axes[1].legend()\n",
    "\n",
    "plt.tight_layout()\n",
    "plt.savefig(abspath_curr + 'result/figure/learning_curve_without_callback_10.pdf')\n",
    "plt.show()"
   ]
  },
  {
   "cell_type": "markdown",
   "metadata": {
    "id": "wUW8TGCUNAn0",
    "tags": []
   },
   "source": [
    "# Training (With ModelCheckpoint and EarlyStopping)"
   ]
  },
  {
   "cell_type": "markdown",
   "metadata": {
    "id": "X4gb9xducnlO"
   },
   "source": [
    "## Building the model"
   ]
  },
  {
   "cell_type": "code",
   "execution_count": 35,
   "metadata": {
    "colab": {
     "base_uri": "https://localhost:8080/"
    },
    "executionInfo": {
     "elapsed": 460932,
     "status": "ok",
     "timestamp": 1604935378439,
     "user": {
      "displayName": "Huang Yuxiao",
      "photoUrl": "",
      "userId": "05167076769245149404"
     },
     "user_tz": 300
    },
    "id": "X1DlY50Wcm0B",
    "outputId": "2ffd2f81-477e-4434-8646-17889556e2b9"
   },
   "outputs": [
    {
     "name": "stdout",
     "output_type": "stream",
     "text": [
      "Model: \"sequential_4\"\n",
      "_________________________________________________________________\n",
      " Layer (type)                Output Shape              Param #   \n",
      "=================================================================\n",
      " flatten_4 (Flatten)         (None, 3072)              0         \n",
      "                                                                 \n",
      " dense_12 (Dense)            (None, 50)                153650    \n",
      "                                                                 \n",
      " dense_13 (Dense)            (None, 50)                2550      \n",
      "                                                                 \n",
      " dense_14 (Dense)            (None, 10)                510       \n",
      "                                                                 \n",
      "=================================================================\n",
      "Total params: 156,710\n",
      "Trainable params: 156,710\n",
      "Non-trainable params: 0\n",
      "_________________________________________________________________\n"
     ]
    }
   ],
   "source": [
    "# A sequential dnn\n",
    "model = keras.models.Sequential()\n",
    "\n",
    "# Add the input layer\n",
    "model.add(keras.layers.Flatten(input_shape=[32, 32, 3]))\n",
    "\n",
    "# Add two hidden layers\n",
    "model.add(keras.layers.Dense(50, activation='relu'))\n",
    "model.add(keras.layers.Dense(50, activation='relu'))\n",
    "\n",
    "# Add the output layer\n",
    "model.add(keras.layers.Dense(10, activation='softmax'))\n",
    "\n",
    "# The model summary\n",
    "model.summary()"
   ]
  },
  {
   "cell_type": "markdown",
   "metadata": {
    "id": "5l9DbmVzNQR7"
   },
   "source": [
    "## Compiling the model"
   ]
  },
  {
   "cell_type": "code",
   "execution_count": 36,
   "metadata": {
    "executionInfo": {
     "elapsed": 460931,
     "status": "ok",
     "timestamp": 1604935378440,
     "user": {
      "displayName": "Huang Yuxiao",
      "photoUrl": "",
      "userId": "05167076769245149404"
     },
     "user_tz": 300
    },
    "id": "_e7LoJ-KNRo4"
   },
   "outputs": [],
   "source": [
    "# Compile the model\n",
    "model.compile(optimizer=keras.optimizers.SGD(),\n",
    "              loss='sparse_categorical_crossentropy',\n",
    "              metrics=['accuracy'])"
   ]
  },
  {
   "cell_type": "markdown",
   "metadata": {
    "id": "p5GGitWVNj0m"
   },
   "source": [
    "## Training the model"
   ]
  },
  {
   "cell_type": "markdown",
   "metadata": {
    "id": "8b69RD7fNVDx"
   },
   "source": [
    "### Setting callbacks"
   ]
  },
  {
   "cell_type": "code",
   "execution_count": 54,
   "metadata": {
    "executionInfo": {
     "elapsed": 460930,
     "status": "ok",
     "timestamp": 1604935378440,
     "user": {
      "displayName": "Huang Yuxiao",
      "photoUrl": "",
      "userId": "05167076769245149404"
     },
     "user_tz": 300
    },
    "id": "hZEE71ajNWGb"
   },
   "outputs": [],
   "source": [
    "# ModelCheckpoint callback\n",
    "model_checkpoint_cb = keras.callbacks.ModelCheckpoint(filepath=abspath_curr + 'result/model/model.h5',\n",
    "                                                      save_best_only=True,\n",
    "                                                      save_weights_only=True)\n",
    "\n",
    "# EarlyStopping callback\n",
    "early_stopping_cb = keras.callbacks.EarlyStopping(patience=5,\n",
    "                                                  restore_best_weights=True,\n",
    "                                                  verbose=1)"
   ]
  },
  {
   "cell_type": "markdown",
   "metadata": {
    "id": "5LFhN5y-b1Vh"
   },
   "source": [
    "### Training, evaluating and saving the best model"
   ]
  },
  {
   "cell_type": "code",
   "execution_count": 38,
   "metadata": {
    "colab": {
     "base_uri": "https://localhost:8080/"
    },
    "executionInfo": {
     "elapsed": 630042,
     "status": "ok",
     "timestamp": 1604935547565,
     "user": {
      "displayName": "Huang Yuxiao",
      "photoUrl": "",
      "userId": "05167076769245149404"
     },
     "user_tz": 300
    },
    "id": "4ZS7h4WENqLt",
    "outputId": "4cacacee-eb08-4ad4-9e39-9608facc3cfe",
    "scrolled": true,
    "tags": []
   },
   "outputs": [
    {
     "name": "stdout",
     "output_type": "stream",
     "text": [
      "Epoch 1/20\n",
      "1/1 [==============================] - 2s 2s/step - loss: 137.3422 - accuracy: 0.1038 - val_loss: 42023.3047 - val_accuracy: 0.0961\n",
      "Epoch 2/20\n",
      "1/1 [==============================] - 2s 2s/step - loss: 40607.7695 - accuracy: 0.1017 - val_loss: 88580328.0000 - val_accuracy: 0.1027\n",
      "Epoch 3/20\n",
      "1/1 [==============================] - 2s 2s/step - loss: 92156392.0000 - accuracy: 0.0988 - val_loss: 10407.6436 - val_accuracy: 0.0773\n",
      "Epoch 4/20\n",
      "1/1 [==============================] - 2s 2s/step - loss: 11104.8135 - accuracy: 0.0779 - val_loss: 874.2431 - val_accuracy: 0.1022\n",
      "Epoch 5/20\n",
      "1/1 [==============================] - 2s 2s/step - loss: 1101.5089 - accuracy: 0.0984 - val_loss: 2.3027 - val_accuracy: 0.0995\n",
      "Epoch 6/20\n",
      "1/1 [==============================] - 2s 2s/step - loss: 2.3026 - accuracy: 0.1002 - val_loss: 2.3027 - val_accuracy: 0.0995\n",
      "Epoch 7/20\n",
      "1/1 [==============================] - 2s 2s/step - loss: 2.3026 - accuracy: 0.1002 - val_loss: 2.3027 - val_accuracy: 0.0995\n",
      "Epoch 8/20\n",
      "1/1 [==============================] - 2s 2s/step - loss: 2.3026 - accuracy: 0.1002 - val_loss: 2.3027 - val_accuracy: 0.0995\n",
      "Epoch 9/20\n",
      "1/1 [==============================] - 2s 2s/step - loss: 2.3026 - accuracy: 0.1002 - val_loss: 2.3027 - val_accuracy: 0.0995\n",
      "Epoch 10/20\n",
      "1/1 [==============================] - 2s 2s/step - loss: 2.3026 - accuracy: 0.1002 - val_loss: 2.3027 - val_accuracy: 0.0995\n"
     ]
    }
   ],
   "source": [
    "# Train, evaluate and save the best model\n",
    "history = model.fit(data_train,\n",
    "                    epochs=20,\n",
    "                    validation_data=data_valid,\n",
    "                    callbacks=[model_checkpoint_cb, early_stopping_cb])"
   ]
  },
  {
   "cell_type": "markdown",
   "metadata": {
    "id": "NJoCcgsIR-TE"
   },
   "source": [
    "## Plotting the learning curve"
   ]
  },
  {
   "cell_type": "code",
   "execution_count": 39,
   "metadata": {
    "colab": {
     "base_uri": "https://localhost:8080/",
     "height": 348
    },
    "executionInfo": {
     "elapsed": 630029,
     "status": "ok",
     "timestamp": 1604935547565,
     "user": {
      "displayName": "Huang Yuxiao",
      "photoUrl": "",
      "userId": "05167076769245149404"
     },
     "user_tz": 300
    },
    "id": "Z9f7MA8xSA4f",
    "outputId": "9164b068-071e-47d5-8cf0-725536aec56f"
   },
   "outputs": [
    {
     "data": {
      "image/png": "[encoded data removed]",
      "text/plain": [
       "<Figure size 864x360 with 2 Axes>"
      ]
     },
     "metadata": {
      "needs_background": "light"
     },
     "output_type": "display_data"
    }
   ],
   "source": [
    "fig, axes = plt.subplots(1, 2, figsize=(12, 5))\n",
    "hist = history.history\n",
    "axes[0].plot(hist['loss'], '-b', label='Training Loss')\n",
    "axes[0].plot(hist['val_loss'], '-r', label='Validation Loss')\n",
    "axes[0].set_xlabel('Epoch')\n",
    "axes[0].set_ylabel('Cross Entropy')\n",
    "axes[0].set_title('Performance in terms of loss')\n",
    "axes[0].legend()\n",
    "\n",
    "axes[1].plot(hist['accuracy'], '-b', label='Training Accuracy')\n",
    "axes[1].plot(hist['val_accuracy'], '-r', label='Validation Accuracy')\n",
    "axes[1].set_xlabel('Epoch')\n",
    "axes[1].set_ylabel('Accuracy')\n",
    "axes[1].set_title('Performance in terms of accuracy')\n",
    "axes[1].legend()\n",
    "\n",
    "plt.tight_layout()\n",
    "plt.savefig(abspath_curr + 'result/figure/learning_curve_without_callback_10.pdf')\n",
    "plt.show()"
   ]
  },
  {
   "cell_type": "markdown",
   "metadata": {},
   "source": [
    "# Experiment"
   ]
  },
  {
   "cell_type": "code",
   "execution_count": 22,
   "metadata": {
    "executionInfo": {
     "elapsed": 32510,
     "status": "ok",
     "timestamp": 1604934949810,
     "user": {
      "displayName": "Huang Yuxiao",
      "photoUrl": "",
      "userId": "05167076769245149404"
     },
     "user_tz": 300
    },
    "id": "a2P4L1vS4AN_"
   },
   "outputs": [],
   "source": [
    "# Set the training, validation and test split\n",
    "split_train, split_valid, split_test = 'train[:70%]', 'train[70%:]', 'test'\n",
    "\n",
    "# Get the training data\n",
    "data_train = tfds.load(name=data_name,\n",
    "                       split=split_train,\n",
    "                       data_dir=abspath_curr + 'data/',\n",
    "                       as_supervised=True)\n",
    "\n",
    "# Get the validation data\n",
    "data_valid = tfds.load(name=data_name,\n",
    "                       split=split_valid,\n",
    "                       data_dir=abspath_curr + 'data/',\n",
    "                       as_supervised=True)\n",
    "\n",
    "# Get the test data\n",
    "data_test = tfds.load(name=data_name,\n",
    "                      split=split_test,\n",
    "                      data_dir=abspath_curr + 'data/',\n",
    "                      as_supervised=True)"
   ]
  },
  {
   "cell_type": "markdown",
   "metadata": {
    "id": "e9oPQZ7limeD"
   },
   "source": [
    "## Shuffling, batching and prefetching the data"
   ]
  },
  {
   "cell_type": "code",
   "execution_count": 23,
   "metadata": {
    "executionInfo": {
     "elapsed": 32508,
     "status": "ok",
     "timestamp": 1604934949810,
     "user": {
      "displayName": "Huang Yuxiao",
      "photoUrl": "",
      "userId": "05167076769245149404"
     },
     "user_tz": 300
    },
    "id": "p95Fq3PFbaAL"
   },
   "outputs": [],
   "source": [
    "# Shuffling the training data\n",
    "data_train = data_train.shuffle(buffer_size=1000, seed=random_seed)\n",
    "\n",
    "# Set the batch size\n",
    "batch_size = 100\n",
    "\n",
    "# Batch and prefetch the training data\n",
    "data_train = data_train.batch(batch_size).prefetch(1)\n",
    "\n",
    "# Batch and prefetch the validation data\n",
    "data_valid = data_valid.batch(batch_size).prefetch(1)\n",
    "\n",
    "# Batch and prefetch the test data\n",
    "data_test = data_test.batch(batch_size).prefetch(1)"
   ]
  },
  {
   "cell_type": "code",
   "execution_count": 24,
   "metadata": {},
   "outputs": [],
   "source": [
    "from tensorflow.keras.layers import *\n",
    "from tensorflow.keras import Sequential"
   ]
  },
  {
   "cell_type": "code",
   "execution_count": 55,
   "metadata": {},
   "outputs": [],
   "source": [
    "model1_config = [InputLayer(input_shape=[32,32,3], batch_size=None),\n",
    "                 Conv2D(filters=16, kernel_size=5, \n",
    "                        activation='relu', padding='valid'), # 28 x 28\n",
    "                 MaxPool2D(), # 14x14\n",
    "                 Conv2D(filters=32, kernel_size=3, \n",
    "                        activation='relu', padding='valid'), # 12x12\n",
    "                 MaxPool2D(), # 6x6\n",
    "                 Conv2D(filters=10, kernel_size=6,\n",
    "                        activation='softmax', padding='valid'),\n",
    "                 Reshape([10])]\n",
    "\n",
    "model1 = Sequential(model1_config)"
   ]
  },
  {
   "cell_type": "code",
   "execution_count": 56,
   "metadata": {},
   "outputs": [
    {
     "name": "stdout",
     "output_type": "stream",
     "text": [
      "Model: \"sequential_4\"\n",
      "_________________________________________________________________\n",
      " Layer (type)                Output Shape              Param #   \n",
      "=================================================================\n",
      " conv2d_12 (Conv2D)          (None, 28, 28, 16)        1216      \n",
      "                                                                 \n",
      " max_pooling2d_8 (MaxPooling  (None, 14, 14, 16)       0         \n",
      " 2D)                                                             \n",
      "                                                                 \n",
      " conv2d_13 (Conv2D)          (None, 12, 12, 32)        4640      \n",
      "                                                                 \n",
      " max_pooling2d_9 (MaxPooling  (None, 6, 6, 32)         0         \n",
      " 2D)                                                             \n",
      "                                                                 \n",
      " conv2d_14 (Conv2D)          (None, 1, 1, 10)          11530     \n",
      "                                                                 \n",
      " reshape_4 (Reshape)         (None, 10)                0         \n",
      "                                                                 \n",
      "=================================================================\n",
      "Total params: 17,386\n",
      "Trainable params: 17,386\n",
      "Non-trainable params: 0\n",
      "_________________________________________________________________\n"
     ]
    }
   ],
   "source": [
    "model1.summary()"
   ]
  },
  {
   "cell_type": "code",
   "execution_count": 57,
   "metadata": {},
   "outputs": [],
   "source": [
    "model1.compile(optimizer=tf.keras.optimizers.RMSprop(learning_rate=1e-3),\n",
    "              loss='sparse_categorical_crossentropy',\n",
    "              metrics=['accuracy'])"
   ]
  },
  {
   "cell_type": "code",
   "execution_count": 58,
   "metadata": {},
   "outputs": [],
   "source": [
    "terminate_on_nan = tf.keras.callbacks.TerminateOnNaN()"
   ]
  },
  {
   "cell_type": "code",
   "execution_count": 59,
   "metadata": {
    "scrolled": true,
    "tags": []
   },
   "outputs": [
    {
     "name": "stdout",
     "output_type": "stream",
     "text": [
      "Epoch 1/1000\n",
      "350/350 [==============================] - 6s 15ms/step - loss: 14.4908 - accuracy: 0.1009 - val_loss: 14.5374 - val_accuracy: 0.0981\n",
      "Epoch 2/1000\n",
      "350/350 [==============================] - 5s 15ms/step - loss: 14.4937 - accuracy: 0.1008 - val_loss: 14.5369 - val_accuracy: 0.0981\n",
      "Epoch 3/1000\n",
      "350/350 [==============================] - 6s 16ms/step - loss: 9.2980 - accuracy: 0.1157 - val_loss: 2.3135 - val_accuracy: 0.1414\n",
      "Epoch 4/1000\n",
      "350/350 [==============================] - 6s 16ms/step - loss: 2.1648 - accuracy: 0.2324 - val_loss: 1.9640 - val_accuracy: 0.2923\n",
      "Epoch 5/1000\n",
      "350/350 [==============================] - 5s 15ms/step - loss: 1.9840 - accuracy: 0.3117 - val_loss: 2.1465 - val_accuracy: 0.2455\n",
      "Epoch 6/1000\n",
      "350/350 [==============================] - 6s 16ms/step - loss: 1.8702 - accuracy: 0.3438 - val_loss: 1.8215 - val_accuracy: 0.3489\n",
      "Epoch 7/1000\n",
      "350/350 [==============================] - 6s 16ms/step - loss: 1.7680 - accuracy: 0.3804 - val_loss: 1.9693 - val_accuracy: 0.3369\n",
      "Epoch 8/1000\n",
      "350/350 [==============================] - 6s 16ms/step - loss: 1.7254 - accuracy: 0.4048 - val_loss: 1.6939 - val_accuracy: 0.4216\n",
      "Epoch 9/1000\n",
      "350/350 [==============================] - 6s 16ms/step - loss: 1.6772 - accuracy: 0.4222 - val_loss: 1.6729 - val_accuracy: 0.4185\n",
      "Epoch 10/1000\n",
      "350/350 [==============================] - 5s 15ms/step - loss: 1.6219 - accuracy: 0.4446 - val_loss: 1.5445 - val_accuracy: 0.4643\n",
      "Epoch 11/1000\n",
      "350/350 [==============================] - 5s 15ms/step - loss: 1.5716 - accuracy: 0.4576 - val_loss: 1.5467 - val_accuracy: 0.4637\n",
      "Epoch 12/1000\n",
      "350/350 [==============================] - 6s 17ms/step - loss: 1.5484 - accuracy: 0.4690 - val_loss: 1.5409 - val_accuracy: 0.4738\n",
      "Epoch 13/1000\n",
      "350/350 [==============================] - 5s 14ms/step - loss: 1.5388 - accuracy: 0.4792 - val_loss: 1.6602 - val_accuracy: 0.4507\n",
      "Epoch 14/1000\n",
      "350/350 [==============================] - 5s 15ms/step - loss: 1.5087 - accuracy: 0.4822 - val_loss: 1.6219 - val_accuracy: 0.4430\n",
      "Epoch 15/1000\n",
      "350/350 [==============================] - 5s 15ms/step - loss: 1.4842 - accuracy: 0.4898 - val_loss: 1.5900 - val_accuracy: 0.4751\n",
      "Epoch 16/1000\n",
      "350/350 [==============================] - 5s 15ms/step - loss: 1.4681 - accuracy: 0.4958 - val_loss: 1.6111 - val_accuracy: 0.4746\n",
      "Epoch 17/1000\n",
      "350/350 [==============================] - 5s 15ms/step - loss: 1.4575 - accuracy: 0.5002 - val_loss: 1.5078 - val_accuracy: 0.4939\n",
      "Epoch 18/1000\n",
      "350/350 [==============================] - 5s 15ms/step - loss: 1.4441 - accuracy: 0.5049 - val_loss: 1.6626 - val_accuracy: 0.4751\n",
      "Epoch 19/1000\n",
      "350/350 [==============================] - 5s 15ms/step - loss: 1.4630 - accuracy: 0.5064 - val_loss: 1.5459 - val_accuracy: 0.5021\n",
      "Epoch 20/1000\n",
      "350/350 [==============================] - 5s 15ms/step - loss: 1.4305 - accuracy: 0.5094 - val_loss: 1.5719 - val_accuracy: 0.4938\n",
      "Epoch 21/1000\n",
      "350/350 [==============================] - 5s 14ms/step - loss: 1.4286 - accuracy: 0.5153 - val_loss: 1.5560 - val_accuracy: 0.4937\n",
      "Epoch 22/1000\n",
      "350/350 [==============================] - 5s 15ms/step - loss: 1.4100 - accuracy: 0.5195 - val_loss: 1.6280 - val_accuracy: 0.4785\n",
      "Epoch 23/1000\n",
      "350/350 [==============================] - 5s 15ms/step - loss: 1.4045 - accuracy: 0.5175 - val_loss: 1.7972 - val_accuracy: 0.4631\n",
      "Epoch 24/1000\n",
      "350/350 [==============================] - 5s 15ms/step - loss: 1.3968 - accuracy: 0.5234 - val_loss: 1.7828 - val_accuracy: 0.4738\n",
      "Epoch 25/1000\n",
      "350/350 [==============================] - 5s 15ms/step - loss: 1.3990 - accuracy: 0.5209 - val_loss: 1.5974 - val_accuracy: 0.4925\n",
      "Epoch 26/1000\n",
      "350/350 [==============================] - 5s 15ms/step - loss: 1.3963 - accuracy: 0.5249 - val_loss: 1.6338 - val_accuracy: 0.4843\n",
      "Epoch 27/1000\n",
      "347/350 [============================>.] - ETA: 0s - loss: 1.3926 - accuracy: 0.5238Restoring model weights from the end of the best epoch: 17.\n",
      "350/350 [==============================] - 5s 15ms/step - loss: 1.3921 - accuracy: 0.5237 - val_loss: 1.5677 - val_accuracy: 0.4993\n",
      "Epoch 27: early stopping\n"
     ]
    }
   ],
   "source": [
    "history1 = model1.fit(data_train,\n",
    "                      epochs=1000,\n",
    "                      validation_data=data_valid,\n",
    "                      callbacks=[model_checkpoint_cb, \n",
    "                                 early_stopping_cb,\n",
    "                                 terminate_on_nan])"
   ]
  },
  {
   "cell_type": "markdown",
   "metadata": {},
   "source": [
    "## Model2 with more non-linear layers"
   ]
  },
  {
   "cell_type": "code",
   "execution_count": 81,
   "metadata": {},
   "outputs": [
    {
     "name": "stdout",
     "output_type": "stream",
     "text": [
      "Model: \"sequential_11\"\n",
      "_________________________________________________________________\n",
      " Layer (type)                Output Shape              Param #   \n",
      "=================================================================\n",
      " conv2d_45 (Conv2D)          (None, 28, 28, 16)        1216      \n",
      "                                                                 \n",
      " conv2d_46 (Conv2D)          (None, 26, 26, 16)        2320      \n",
      "                                                                 \n",
      " max_pooling2d_22 (MaxPoolin  (None, 13, 13, 16)       0         \n",
      " g2D)                                                            \n",
      "                                                                 \n",
      " conv2d_47 (Conv2D)          (None, 11, 11, 32)        4640      \n",
      "                                                                 \n",
      " conv2d_48 (Conv2D)          (None, 9, 9, 32)          9248      \n",
      "                                                                 \n",
      " max_pooling2d_23 (MaxPoolin  (None, 4, 4, 32)         0         \n",
      " g2D)                                                            \n",
      "                                                                 \n",
      " conv2d_49 (Conv2D)          (None, 1, 1, 10)          5130      \n",
      "                                                                 \n",
      " reshape_11 (Reshape)        (None, 10)                0         \n",
      "                                                                 \n",
      "=================================================================\n",
      "Total params: 22,554\n",
      "Trainable params: 22,554\n",
      "Non-trainable params: 0\n",
      "_________________________________________________________________\n"
     ]
    }
   ],
   "source": [
    "model2_config = [InputLayer(input_shape=[32,32,3], batch_size=None),\n",
    "                 Conv2D(filters=16, kernel_size=5, \n",
    "                        activation='relu', padding='valid'), # 28 x 28\n",
    "                 Conv2D(filters=16, kernel_size=3, \n",
    "                        activation='relu', padding='valid'), # 26 x 26\n",
    "                 MaxPool2D(), # 13x13\n",
    "                 Conv2D(filters=32, kernel_size=3, \n",
    "                        activation='relu', padding='valid'), # 11x11\n",
    "                 Conv2D(filters=32, kernel_size=3, \n",
    "                        activation='relu', padding='valid'), # 9x9\n",
    "                 MaxPool2D(), # 4x4\n",
    "                 Conv2D(filters=10, kernel_size=4,\n",
    "                        activation='softmax', padding='valid'),\n",
    "                 Reshape([10])]\n",
    "\n",
    "model2 = Sequential(model2_config)\n",
    "model2.summary()"
   ]
  },
  {
   "cell_type": "code",
   "execution_count": 82,
   "metadata": {},
   "outputs": [],
   "source": [
    "early_stopping_cb = keras.callbacks.EarlyStopping( monitor='val_loss',\n",
    "                                                    min_delta=1e-3,\n",
    "                                                    patience=10,\n",
    "                                                    verbose=1,\n",
    "                                                    mode='min',\n",
    "                                                    restore_best_weights=True\n",
    "                                                )"
   ]
  },
  {
   "cell_type": "code",
   "execution_count": 83,
   "metadata": {},
   "outputs": [],
   "source": [
    "reduce_lr_cb = tf.keras.callbacks.ReduceLROnPlateau(\n",
    "                                                    monitor='val_loss',\n",
    "                                                    factor=0.1,\n",
    "                                                    patience=10,\n",
    "                                                    verbose=0,\n",
    "                                                    mode='min',\n",
    "                                                    min_lr=1e-3\n",
    "                                                   )\n"
   ]
  },
  {
   "cell_type": "code",
   "execution_count": 84,
   "metadata": {
    "scrolled": true,
    "tags": []
   },
   "outputs": [
    {
     "name": "stdout",
     "output_type": "stream",
     "text": [
      "Epoch 1/1000\n",
      "350/350 [==============================] - 6s 16ms/step - loss: 2.2725 - accuracy: 0.3025 - val_loss: 1.7991 - val_accuracy: 0.3415 - lr: 0.0010\n",
      "Epoch 2/1000\n",
      "350/350 [==============================] - 6s 17ms/step - loss: 1.6184 - accuracy: 0.4226 - val_loss: 1.5172 - val_accuracy: 0.4550 - lr: 0.0010\n",
      "Epoch 3/1000\n",
      "350/350 [==============================] - 6s 16ms/step - loss: 1.4777 - accuracy: 0.4804 - val_loss: 1.4597 - val_accuracy: 0.4827 - lr: 0.0010\n",
      "Epoch 4/1000\n",
      "350/350 [==============================] - 6s 16ms/step - loss: 1.3815 - accuracy: 0.5166 - val_loss: 1.3786 - val_accuracy: 0.5091 - lr: 0.0010\n",
      "Epoch 5/1000\n",
      "350/350 [==============================] - 6s 16ms/step - loss: 1.3137 - accuracy: 0.5427 - val_loss: 1.4526 - val_accuracy: 0.5004 - lr: 0.0010\n",
      "Epoch 6/1000\n",
      "350/350 [==============================] - 6s 16ms/step - loss: 1.2551 - accuracy: 0.5632 - val_loss: 1.4619 - val_accuracy: 0.5094 - lr: 0.0010\n",
      "Epoch 7/1000\n",
      "350/350 [==============================] - 6s 16ms/step - loss: 1.2058 - accuracy: 0.5806 - val_loss: 1.3489 - val_accuracy: 0.5389 - lr: 0.0010\n",
      "Epoch 8/1000\n",
      "350/350 [==============================] - 6s 16ms/step - loss: 1.1656 - accuracy: 0.5950 - val_loss: 1.2624 - val_accuracy: 0.5586 - lr: 0.0010\n",
      "Epoch 9/1000\n",
      "350/350 [==============================] - 6s 17ms/step - loss: 1.1300 - accuracy: 0.6122 - val_loss: 1.2541 - val_accuracy: 0.5667 - lr: 0.0010\n",
      "Epoch 10/1000\n",
      "350/350 [==============================] - 6s 16ms/step - loss: 1.0998 - accuracy: 0.6193 - val_loss: 1.2834 - val_accuracy: 0.5525 - lr: 0.0010\n",
      "Epoch 11/1000\n",
      "350/350 [==============================] - 6s 16ms/step - loss: 1.0684 - accuracy: 0.6295 - val_loss: 1.2769 - val_accuracy: 0.5657 - lr: 0.0010\n",
      "Epoch 12/1000\n",
      "350/350 [==============================] - 6s 16ms/step - loss: 1.0501 - accuracy: 0.6359 - val_loss: 1.2293 - val_accuracy: 0.5769 - lr: 0.0010\n",
      "Epoch 13/1000\n",
      "350/350 [==============================] - 6s 16ms/step - loss: 1.0261 - accuracy: 0.6439 - val_loss: 1.2126 - val_accuracy: 0.5889 - lr: 0.0010\n",
      "Epoch 14/1000\n",
      "350/350 [==============================] - 6s 16ms/step - loss: 1.0051 - accuracy: 0.6491 - val_loss: 1.2554 - val_accuracy: 0.5847 - lr: 0.0010\n",
      "Epoch 15/1000\n",
      "350/350 [==============================] - 6s 16ms/step - loss: 0.9838 - accuracy: 0.6586 - val_loss: 1.2685 - val_accuracy: 0.5780 - lr: 0.0010\n",
      "Epoch 16/1000\n",
      "350/350 [==============================] - 6s 16ms/step - loss: 0.9715 - accuracy: 0.6597 - val_loss: 1.2907 - val_accuracy: 0.5793 - lr: 0.0010\n",
      "Epoch 17/1000\n",
      "350/350 [==============================] - 6s 16ms/step - loss: 0.9562 - accuracy: 0.6662 - val_loss: 1.2822 - val_accuracy: 0.5814 - lr: 0.0010\n",
      "Epoch 18/1000\n",
      "350/350 [==============================] - 6s 16ms/step - loss: 0.9406 - accuracy: 0.6722 - val_loss: 1.2846 - val_accuracy: 0.5812 - lr: 0.0010\n",
      "Epoch 19/1000\n",
      "350/350 [==============================] - 6s 16ms/step - loss: 0.9246 - accuracy: 0.6754 - val_loss: 1.2889 - val_accuracy: 0.5823 - lr: 0.0010\n",
      "Epoch 20/1000\n",
      "350/350 [==============================] - 6s 16ms/step - loss: 0.9119 - accuracy: 0.6839 - val_loss: 1.3376 - val_accuracy: 0.5759 - lr: 0.0010\n",
      "Epoch 21/1000\n",
      "350/350 [==============================] - 6s 16ms/step - loss: 0.8964 - accuracy: 0.6875 - val_loss: 1.5662 - val_accuracy: 0.5239 - lr: 0.0010\n",
      "Epoch 22/1000\n",
      "350/350 [==============================] - 6s 16ms/step - loss: 0.8891 - accuracy: 0.6904 - val_loss: 1.2775 - val_accuracy: 0.5923 - lr: 0.0010\n",
      "Epoch 23/1000\n",
      "348/350 [============================>.] - ETA: 0s - loss: 0.8813 - accuracy: 0.6938Restoring model weights from the end of the best epoch: 13.\n",
      "350/350 [==============================] - 6s 16ms/step - loss: 0.8818 - accuracy: 0.6938 - val_loss: 1.2721 - val_accuracy: 0.5880 - lr: 0.0010\n",
      "Epoch 23: early stopping\n"
     ]
    }
   ],
   "source": [
    "model2.compile(optimizer=tf.keras.optimizers.RMSprop(learning_rate=1e-3),\n",
    "              loss='sparse_categorical_crossentropy',\n",
    "              metrics=['accuracy'])\n",
    "\n",
    "history2 = model2.fit(data_train,\n",
    "                      epochs=1000,\n",
    "                      validation_data=data_valid,\n",
    "                      callbacks=[model_checkpoint_cb, \n",
    "                                 early_stopping_cb,\n",
    "                                 terminate_on_nan,\n",
    "                                 reduce_lr_cb\n",
    "                                ])"
   ]
  },
  {
   "cell_type": "code",
   "execution_count": 85,
   "metadata": {},
   "outputs": [
    {
     "data": {
      "image/png": "[encoded data removed]",
      "text/plain": [
       "<Figure size 864x360 with 2 Axes>"
      ]
     },
     "metadata": {
      "needs_background": "light"
     },
     "output_type": "display_data"
    }
   ],
   "source": [
    "fig, axes = plt.subplots(1, 2, figsize=(12, 5))\n",
    "hist = history2.history\n",
    "axes[0].plot(hist['loss'], '-b', label='Training Loss')\n",
    "axes[0].plot(hist['val_loss'], '-r', label='Validation Loss')\n",
    "axes[0].set_xlabel('Epoch')\n",
    "axes[0].set_ylabel('Cross Entropy')\n",
    "axes[0].set_title('Performance in terms of loss')\n",
    "axes[0].legend()\n",
    "\n",
    "axes[1].plot(hist['accuracy'], '-b', label='Training Accuracy')\n",
    "axes[1].plot(hist['val_accuracy'], '-r', label='Validation Accuracy')\n",
    "axes[1].set_xlabel('Epoch')\n",
    "axes[1].set_ylabel('Accuracy')\n",
    "axes[1].set_title('Performance in terms of accuracy')\n",
    "axes[1].legend()\n",
    "\n",
    "plt.tight_layout()\n",
    "plt.show()"
   ]
  },
  {
   "cell_type": "markdown",
   "metadata": {},
   "source": [
    "## With Batch Normalization"
   ]
  },
  {
   "cell_type": "code",
   "execution_count": 86,
   "metadata": {},
   "outputs": [
    {
     "name": "stdout",
     "output_type": "stream",
     "text": [
      "Model: \"sequential_12\"\n",
      "_________________________________________________________________\n",
      " Layer (type)                Output Shape              Param #   \n",
      "=================================================================\n",
      " conv2d_50 (Conv2D)          (None, 28, 28, 16)        1216      \n",
      "                                                                 \n",
      " batch_normalization_4 (Batc  (None, 28, 28, 16)       64        \n",
      " hNormalization)                                                 \n",
      "                                                                 \n",
      " conv2d_51 (Conv2D)          (None, 26, 26, 16)        2320      \n",
      "                                                                 \n",
      " max_pooling2d_24 (MaxPoolin  (None, 13, 13, 16)       0         \n",
      " g2D)                                                            \n",
      "                                                                 \n",
      " batch_normalization_5 (Batc  (None, 13, 13, 16)       64        \n",
      " hNormalization)                                                 \n",
      "                                                                 \n",
      " conv2d_52 (Conv2D)          (None, 11, 11, 32)        4640      \n",
      "                                                                 \n",
      " batch_normalization_6 (Batc  (None, 11, 11, 32)       128       \n",
      " hNormalization)                                                 \n",
      "                                                                 \n",
      " conv2d_53 (Conv2D)          (None, 9, 9, 32)          9248      \n",
      "                                                                 \n",
      " max_pooling2d_25 (MaxPoolin  (None, 4, 4, 32)         0         \n",
      " g2D)                                                            \n",
      "                                                                 \n",
      " batch_normalization_7 (Batc  (None, 4, 4, 32)         128       \n",
      " hNormalization)                                                 \n",
      "                                                                 \n",
      " conv2d_54 (Conv2D)          (None, 1, 1, 10)          5130      \n",
      "                                                                 \n",
      " reshape_12 (Reshape)        (None, 10)                0         \n",
      "                                                                 \n",
      "=================================================================\n",
      "Total params: 22,938\n",
      "Trainable params: 22,746\n",
      "Non-trainable params: 192\n",
      "_________________________________________________________________\n"
     ]
    }
   ],
   "source": [
    "model3_config = [InputLayer(input_shape=[32,32,3], batch_size=None),\n",
    "                 Conv2D(filters=16, kernel_size=5, \n",
    "                        activation='relu', padding='valid'), # 28 x 28\n",
    "                 BatchNormalization(),\n",
    "                 Conv2D(filters=16, kernel_size=3, \n",
    "                        activation='relu', padding='valid'), # 26 x 26\n",
    "                 MaxPool2D(), # 13x13\n",
    "                 BatchNormalization(),\n",
    "                 Conv2D(filters=32, kernel_size=3, \n",
    "                        activation='relu', padding='valid'), # 11x11\n",
    "                 BatchNormalization(),\n",
    "                 Conv2D(filters=32, kernel_size=3, \n",
    "                        activation='relu', padding='valid'), # 9x9\n",
    "                 MaxPool2D(), # 4x4\n",
    "                 BatchNormalization(),\n",
    "                 Conv2D(filters=10, kernel_size=4,\n",
    "                        activation='softmax', padding='valid'),\n",
    "                 Reshape([10])]\n",
    "\n",
    "model3 = Sequential(model3_config)\n",
    "model3.summary()"
   ]
  },
  {
   "cell_type": "code",
   "execution_count": 87,
   "metadata": {
    "scrolled": true,
    "tags": []
   },
   "outputs": [
    {
     "name": "stdout",
     "output_type": "stream",
     "text": [
      "Epoch 1/1000\n",
      "350/350 [==============================] - 8s 21ms/step - loss: 1.5806 - accuracy: 0.4286 - val_loss: 1.4130 - val_accuracy: 0.4989\n",
      "Epoch 2/1000\n",
      "350/350 [==============================] - 7s 20ms/step - loss: 1.2452 - accuracy: 0.5574 - val_loss: 1.3499 - val_accuracy: 0.5232\n",
      "Epoch 3/1000\n",
      "350/350 [==============================] - 7s 21ms/step - loss: 1.0955 - accuracy: 0.6119 - val_loss: 1.1347 - val_accuracy: 0.6050\n",
      "Epoch 4/1000\n",
      "350/350 [==============================] - 7s 20ms/step - loss: 0.9996 - accuracy: 0.6491 - val_loss: 1.1042 - val_accuracy: 0.6137\n",
      "Epoch 5/1000\n",
      "350/350 [==============================] - 7s 21ms/step - loss: 0.9338 - accuracy: 0.6719 - val_loss: 1.2516 - val_accuracy: 0.5803\n",
      "Epoch 6/1000\n",
      "350/350 [==============================] - 7s 20ms/step - loss: 0.8846 - accuracy: 0.6914 - val_loss: 1.0964 - val_accuracy: 0.6249\n",
      "Epoch 7/1000\n",
      "350/350 [==============================] - 7s 20ms/step - loss: 0.8429 - accuracy: 0.7064 - val_loss: 1.0220 - val_accuracy: 0.6488\n",
      "Epoch 8/1000\n",
      "350/350 [==============================] - 7s 20ms/step - loss: 0.8120 - accuracy: 0.7184 - val_loss: 1.0080 - val_accuracy: 0.6538\n",
      "Epoch 9/1000\n",
      "350/350 [==============================] - 7s 20ms/step - loss: 0.7803 - accuracy: 0.7264 - val_loss: 1.1158 - val_accuracy: 0.6245\n",
      "Epoch 10/1000\n",
      "350/350 [==============================] - 7s 20ms/step - loss: 0.7528 - accuracy: 0.7378 - val_loss: 0.9747 - val_accuracy: 0.6732\n",
      "Epoch 11/1000\n",
      "350/350 [==============================] - 7s 20ms/step - loss: 0.7294 - accuracy: 0.7465 - val_loss: 1.0427 - val_accuracy: 0.6559\n",
      "Epoch 12/1000\n",
      "350/350 [==============================] - 7s 21ms/step - loss: 0.7109 - accuracy: 0.7541 - val_loss: 1.0221 - val_accuracy: 0.6590\n",
      "Epoch 13/1000\n",
      "350/350 [==============================] - 7s 21ms/step - loss: 0.6873 - accuracy: 0.7615 - val_loss: 1.0296 - val_accuracy: 0.6585\n",
      "Epoch 14/1000\n",
      "350/350 [==============================] - 7s 20ms/step - loss: 0.6679 - accuracy: 0.7692 - val_loss: 1.0046 - val_accuracy: 0.6723\n",
      "Epoch 15/1000\n",
      "350/350 [==============================] - 7s 20ms/step - loss: 0.6542 - accuracy: 0.7727 - val_loss: 1.0666 - val_accuracy: 0.6595\n",
      "Epoch 16/1000\n",
      "350/350 [==============================] - 7s 20ms/step - loss: 0.6362 - accuracy: 0.7777 - val_loss: 1.1067 - val_accuracy: 0.6532\n",
      "Epoch 17/1000\n",
      "350/350 [==============================] - 7s 21ms/step - loss: 0.6205 - accuracy: 0.7835 - val_loss: 1.1116 - val_accuracy: 0.6481\n",
      "Epoch 18/1000\n",
      "350/350 [==============================] - 7s 21ms/step - loss: 0.6060 - accuracy: 0.7896 - val_loss: 1.0736 - val_accuracy: 0.6613\n",
      "Epoch 19/1000\n",
      "350/350 [==============================] - 7s 20ms/step - loss: 0.5917 - accuracy: 0.7945 - val_loss: 1.1144 - val_accuracy: 0.6569\n",
      "Epoch 20/1000\n",
      "350/350 [==============================] - ETA: 0s - loss: 0.5784 - accuracy: 0.7981Restoring model weights from the end of the best epoch: 10.\n",
      "350/350 [==============================] - 7s 20ms/step - loss: 0.5784 - accuracy: 0.7981 - val_loss: 1.1941 - val_accuracy: 0.6417\n",
      "Epoch 20: early stopping\n"
     ]
    }
   ],
   "source": [
    "model3.compile(optimizer=tf.keras.optimizers.RMSprop(learning_rate=1e-3),\n",
    "              loss='sparse_categorical_crossentropy',\n",
    "              metrics=['accuracy'])\n",
    "\n",
    "history3 = model3.fit(data_train,\n",
    "                      epochs=1000,\n",
    "                      validation_data=data_valid,\n",
    "                      callbacks=[model_checkpoint_cb, \n",
    "                                 early_stopping_cb,\n",
    "                                 terminate_on_nan])"
   ]
  },
  {
   "cell_type": "code",
   "execution_count": 89,
   "metadata": {},
   "outputs": [
    {
     "data": {
      "image/png": "[encoded data removed]",
      "text/plain": [
       "<Figure size 864x360 with 2 Axes>"
      ]
     },
     "metadata": {
      "needs_background": "light"
     },
     "output_type": "display_data"
    }
   ],
   "source": [
    "fig, axes = plt.subplots(1, 2, figsize=(12, 5))\n",
    "hist = history3.history\n",
    "axes[0].plot(hist['loss'], '-b', label='Training Loss')\n",
    "axes[0].plot(hist['val_loss'], '-r', label='Validation Loss')\n",
    "axes[0].set_xlabel('Epoch')\n",
    "axes[0].set_ylabel('Cross Entropy')\n",
    "axes[0].set_title('Performance in terms of loss')\n",
    "axes[0].legend()\n",
    "\n",
    "axes[1].plot(hist['accuracy'], '-b', label='Training Accuracy')\n",
    "axes[1].plot(hist['val_accuracy'], '-r', label='Validation Accuracy')\n",
    "axes[1].set_xlabel('Epoch')\n",
    "axes[1].set_ylabel('Accuracy')\n",
    "axes[1].set_title('Performance in terms of accuracy')\n",
    "axes[1].legend()\n",
    "\n",
    "plt.tight_layout()\n",
    "plt.show()"
   ]
  },
  {
   "cell_type": "markdown",
   "metadata": {
    "id": "RkGivY_MA6m1",
    "tags": []
   },
   "source": [
    "# Testing the Best Model"
   ]
  },
  {
   "cell_type": "code",
   "execution_count": 90,
   "metadata": {},
   "outputs": [
    {
     "name": "stdout",
     "output_type": "stream",
     "text": [
      "150/150 [==============================] - 1s 8ms/step - loss: 0.9747 - accuracy: 0.6732\n"
     ]
    },
    {
     "data": {
      "text/plain": [
       "[0.9746625423431396, 0.6732000112533569]"
      ]
     },
     "execution_count": 90,
     "metadata": {},
     "output_type": "execute_result"
    }
   ],
   "source": [
    "model3.evaluate(data_valid)"
   ]
  },
  {
   "cell_type": "code",
   "execution_count": 91,
   "metadata": {},
   "outputs": [
    {
     "name": "stdout",
     "output_type": "stream",
     "text": [
      "100/100 [==============================] - 1s 12ms/step - loss: 0.9550 - accuracy: 0.6765\n"
     ]
    },
    {
     "data": {
      "text/plain": [
       "[0.955049991607666, 0.6765000224113464]"
      ]
     },
     "execution_count": 91,
     "metadata": {},
     "output_type": "execute_result"
    }
   ],
   "source": [
    "model3.evaluate(data_test)"
   ]
  },
  {
   "cell_type": "code",
   "execution_count": null,
   "metadata": {},
   "outputs": [],
   "source": []
  }
 ],
 "metadata": {
  "accelerator": "GPU",
  "colab": {
   "collapsed_sections": [],
   "name": "Homework_4.ipynb",
   "provenance": []
  },
  "kernelspec": {
   "display_name": "Python 3 (ipykernel)",
   "language": "python",
   "name": "python3"
  },
  "language_info": {
   "codemirror_mode": {
    "name": "ipython",
    "version": 3
   },
   "file_extension": ".py",
   "mimetype": "text/x-python",
   "name": "python",
   "nbconvert_exporter": "python",
   "pygments_lexer": "ipython3",
   "version": "3.8.10"
  },
  "toc": {
   "base_numbering": 1,
   "nav_menu": {},
   "number_sections": true,
   "sideBar": true,
   "skip_h1_title": false,
   "title_cell": "Table of Contents",
   "title_sidebar": "Contents",
   "toc_cell": true,
   "toc_position": {},
   "toc_section_display": true,
   "toc_window_display": false
  }
 },
 "nbformat": 4,
 "nbformat_minor": 4
}
