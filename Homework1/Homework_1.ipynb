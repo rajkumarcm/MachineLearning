{
 "cells": [
  {
   "cell_type": "markdown",
   "metadata": {
    "id": "M7-0S4xezlEf",
    "toc": true
   },
   "source": [
    "<h1>Table of Contents<span class=\"tocSkip\"></span></h1>\n",
    "<div class=\"toc\"><ul class=\"toc-item\"><li><span><a href=\"#Overview\" data-toc-modified-id=\"Overview-1\"><span class=\"toc-item-num\">1&nbsp;&nbsp;</span>Overview</a></span></li><li><span><a href=\"#Notebook-Configuration\" data-toc-modified-id=\"Notebook-Configuration-2\"><span class=\"toc-item-num\">2&nbsp;&nbsp;</span>Notebook Configuration</a></span><ul class=\"toc-item\"><li><span><a href=\"#Google-drive\" data-toc-modified-id=\"Google-drive-2.1\"><span class=\"toc-item-num\">2.1&nbsp;&nbsp;</span>Google drive</a></span></li><li><span><a href=\"#Warning\" data-toc-modified-id=\"Warning-2.2\"><span class=\"toc-item-num\">2.2&nbsp;&nbsp;</span>Warning</a></span></li><li><span><a href=\"#Matplotlib\" data-toc-modified-id=\"Matplotlib-2.3\"><span class=\"toc-item-num\">2.3&nbsp;&nbsp;</span>Matplotlib</a></span></li><li><span><a href=\"#TensorFlow\" data-toc-modified-id=\"TensorFlow-2.4\"><span class=\"toc-item-num\">2.4&nbsp;&nbsp;</span>TensorFlow</a></span></li><li><span><a href=\"#Random-seed\" data-toc-modified-id=\"Random-seed-2.5\"><span class=\"toc-item-num\">2.5&nbsp;&nbsp;</span>Random seed</a></span></li></ul></li><li><span><a href=\"#Data-Preprocessing\" data-toc-modified-id=\"Data-Preprocessing-3\"><span class=\"toc-item-num\">3&nbsp;&nbsp;</span>Data Preprocessing</a></span></li><li><span><a href=\"#Hyperparameter-Tuning\" data-toc-modified-id=\"Hyperparameter-Tuning-4\"><span class=\"toc-item-num\">4&nbsp;&nbsp;</span>Hyperparameter Tuning</a></span></li><li><span><a href=\"#Model-Selection\" data-toc-modified-id=\"Model-Selection-5\"><span class=\"toc-item-num\">5&nbsp;&nbsp;</span>Model Selection</a></span></li><li><span><a href=\"#Generating-the-Submission-File\" data-toc-modified-id=\"Generating-the-Submission-File-6\"><span class=\"toc-item-num\">6&nbsp;&nbsp;</span>Generating the Submission File</a></span><ul class=\"toc-item\"><li><span><a href=\"#Creating-the-directory-for-the-submission-file\" data-toc-modified-id=\"Creating-the-directory-for-the-submission-file-6.1\"><span class=\"toc-item-num\">6.1&nbsp;&nbsp;</span>Creating the directory for the submission file</a></span></li><li><span><a href=\"#Generating-the-submission-file\" data-toc-modified-id=\"Generating-the-submission-file-6.2\"><span class=\"toc-item-num\">6.2&nbsp;&nbsp;</span>Generating the submission file</a></span></li></ul></li></ul></div>"
   ]
  },
  {
   "cell_type": "markdown",
   "metadata": {
    "id": "42yc1zUrzlEh"
   },
   "source": [
    "<b>\n",
    "<p>\n",
    "<center>\n",
    "<font size=\"5\">\n",
    "Popular Machine Learning Methods: Idea, Practice and Math\n",
    "</font>\n",
    "</center>\n",
    "</p>\n",
    "\n",
    "<p>\n",
    "<center>\n",
    "<font size=\"4\">\n",
    "Part 2, Chapter 2, Section 2: Training Shallow Models\n",
    "</font>\n",
    "</center>\n",
    "</p>\n",
    "    \n",
    "<p>\n",
    "<center>\n",
    "<font size=\"4\">\n",
    "Homework 1\n",
    "</font>\n",
    "</center>\n",
    "</p>\n",
    "\n",
    "<p>\n",
    "<center>\n",
    "<font size=\"3\">\n",
    "Data Science, Columbian College of Arts & Sciences, George Washington University\n",
    "</font>\n",
    "</center>\n",
    "</p>\n",
    "\n",
    "<p>\n",
    "<center>\n",
    "<font size=\"3\">\n",
    "Yuxiao Huang\n",
    "</font>\n",
    "</center>\n",
    "</p>\n",
    "</b>"
   ]
  },
  {
   "cell_type": "markdown",
   "metadata": {
    "id": "rT2SKHw2zlEi"
   },
   "source": [
    "# Overview"
   ]
  },
  {
   "cell_type": "markdown",
   "metadata": {
    "id": "asZWLrJKzlEj"
   },
   "source": [
    "- This notebook includes homework 1 for Training Shallow Models (Part 2, Chapter 2, Section 2).\n",
    "- See the accompanied slides in our [github repository](https://github.com/yuxiaohuang/teaching/tree/master/gwu/machine_learning_I/fall_2022/slides/p2_shallow_learning/p2_c2_supervised_learning/p2_c2_s2_training_shallow_models).\n",
    "- Here we will work on kaggle competation [New York City Taxi Trip Duration](https://www.kaggle.com/c/nyc-taxi-trip-duration/overview).\n",
    "- The goal of this homework is tweaking the pipeline (including data preprocessing, hyperparameter tuning and model selection) implemented in [/p2 c2 s2 training shallow models/case_study](https://github.com/yuxiaohuang/teaching/blob/master/gwu/machine_learning_I/fall_2022/code/p2_shallow_learning/p2_c2_supervised_learning/p2_c2_s2_training_shallow_models/case_study/case_study.ipynb) to make it work for the new kaggle competation mentioned above.\n",
    "- Complete the missing parts indicated by # Implement me.\n",
    "- Particularly, the code should\n",
    "    - be bug-free (note that the output produced by your solution may not necessarily be the same as the provided output, due to version issues)\n",
    "    - be commented\n",
    "- **The baseline for this assignment is -0.332515. As per the grading rubrics (section 15 of the syllabus), if the validation score of your best model is lower than or the same as the baseline, you will only receive 80% of the full mark. See more details in the grading rubrics.**\n",
    "- Submit an ipynb file named homework_1.ipynb to [blackboard](https://blackboard.gwu.edu) folder /Assignments/Homework_1/."
   ]
  },
  {
   "cell_type": "markdown",
   "metadata": {
    "id": "WJ-IbZqAgILJ"
   },
   "source": [
    "# Notebook Configuration"
   ]
  },
  {
   "cell_type": "markdown",
   "metadata": {
    "id": "H3yB94KtgMHu"
   },
   "source": [
    "## Google drive"
   ]
  },
  {
   "cell_type": "code",
   "execution_count": 1,
   "metadata": {
    "colab": {
     "base_uri": "https://localhost:8080/"
    },
    "id": "jWmYBTOwgNs-",
    "outputId": "d655f6c8-b4e8-49b2-c933-8de25601b60a"
   },
   "outputs": [],
   "source": [
    "# from google.colab import drive\n",
    "import sys\n",
    "\n",
    "# Mount Google Drive\n",
    "# drive.mount('/content/drive')\n",
    "\n",
    "# Get the absolute path of the current folder\n",
    "abspath_curr = ''\n",
    "\n",
    "# Get the absolute path of the shallow utilities folder\n",
    "abspath_util_shallow = ''\n",
    "\n",
    "# Get the absolute path of the shallow models folder\n",
    "abspath_model_shallow = ''"
   ]
  },
  {
   "cell_type": "markdown",
   "metadata": {
    "id": "bYZhU1Wqgmqx"
   },
   "source": [
    "## Warning"
   ]
  },
  {
   "cell_type": "code",
   "execution_count": 2,
   "metadata": {
    "id": "MUl4k83e4ANR"
   },
   "outputs": [],
   "source": [
    "import warnings\n",
    "\n",
    "# Ignore warnings\n",
    "warnings.filterwarnings('ignore')"
   ]
  },
  {
   "cell_type": "markdown",
   "metadata": {
    "id": "6WMODpPfgn2U"
   },
   "source": [
    "## Matplotlib"
   ]
  },
  {
   "cell_type": "code",
   "execution_count": 3,
   "metadata": {
    "id": "DBRVH9SB4ANb"
   },
   "outputs": [],
   "source": [
    "import matplotlib.pyplot as plt\n",
    "%matplotlib inline \n",
    "\n",
    "# Set matplotlib sizes\n",
    "plt.rc('font', size=20)\n",
    "plt.rc('axes', titlesize=20)\n",
    "plt.rc('axes', labelsize=20)\n",
    "plt.rc('xtick', labelsize=20)\n",
    "plt.rc('ytick', labelsize=20)\n",
    "plt.rc('legend', fontsize=20)\n",
    "plt.rc('figure', titlesize=20)"
   ]
  },
  {
   "cell_type": "markdown",
   "metadata": {
    "id": "n-wNDk5nZhhO"
   },
   "source": [
    "## TensorFlow"
   ]
  },
  {
   "cell_type": "code",
   "execution_count": 4,
   "metadata": {
    "colab": {
     "base_uri": "https://localhost:8080/"
    },
    "id": "LjG43tEnZkfE",
    "outputId": "1fb6b26c-0a9c-4d94-f6fc-fe257e8926f5"
   },
   "outputs": [],
   "source": [
    "# The magic below allows us to use tensorflow version 2.x\n",
    "# %tensorflow_version 2.x \n",
    "# import tensorflow as tf\n",
    "# from tensorflow import keras"
   ]
  },
  {
   "cell_type": "markdown",
   "metadata": {
    "id": "40FN3UNfO2Z7"
   },
   "source": [
    "## Random seed"
   ]
  },
  {
   "cell_type": "code",
   "execution_count": 5,
   "metadata": {
    "id": "uSADk0hJP71d"
   },
   "outputs": [],
   "source": [
    "# The random seed\n",
    "random_seed = 42\n",
    "\n",
    "# Set random seed in tensorflow\n",
    "# tf.random.set_seed(random_seed)\n",
    "\n",
    "# Set random seed in numpy\n",
    "import numpy as np\n",
    "np.random.seed(random_seed)"
   ]
  },
  {
   "cell_type": "markdown",
   "metadata": {
    "id": "yAwfz8iYzlFC",
    "tags": []
   },
   "source": [
    "# Data Preprocessing\n",
    "**Note: You will need to specify the date time variables, *datetime_vars*, when handling date time variables**."
   ]
  },
  {
   "cell_type": "code",
   "execution_count": 6,
   "metadata": {
    "colab": {
     "base_uri": "https://localhost:8080/"
    },
    "id": "D-Mwc6MczlFD",
    "outputId": "67b4a28f-4b48-45ba-8297-04e7d3ed0ebe"
   },
   "outputs": [
    {
     "ename": "Exception",
     "evalue": "File `'pmlm_utilities_shallow.ipynb.py'` not found.",
     "output_type": "error",
     "traceback": [
      "\u001b[0;31m---------------------------------------------------------------------------\u001b[0m",
      "\u001b[0;31mOSError\u001b[0m                                   Traceback (most recent call last)",
      "File \u001b[0;32m~/venv/lib/python3.8/site-packages/IPython/core/magics/execution.py:696\u001b[0m, in \u001b[0;36mExecutionMagics.run\u001b[0;34m(self, parameter_s, runner, file_finder)\u001b[0m\n\u001b[1;32m    695\u001b[0m     fpath \u001b[38;5;241m=\u001b[39m arg_lst[\u001b[38;5;241m0\u001b[39m]\n\u001b[0;32m--> 696\u001b[0m     filename \u001b[38;5;241m=\u001b[39m \u001b[43mfile_finder\u001b[49m\u001b[43m(\u001b[49m\u001b[43mfpath\u001b[49m\u001b[43m)\u001b[49m\n\u001b[1;32m    697\u001b[0m \u001b[38;5;28;01mexcept\u001b[39;00m \u001b[38;5;167;01mIndexError\u001b[39;00m \u001b[38;5;28;01mas\u001b[39;00m e:\n",
      "File \u001b[0;32m~/venv/lib/python3.8/site-packages/IPython/utils/path.py:91\u001b[0m, in \u001b[0;36mget_py_filename\u001b[0;34m(name)\u001b[0m\n\u001b[1;32m     90\u001b[0m \u001b[38;5;28;01melse\u001b[39;00m:\n\u001b[0;32m---> 91\u001b[0m     \u001b[38;5;28;01mraise\u001b[39;00m \u001b[38;5;167;01mIOError\u001b[39;00m(\u001b[38;5;124m'\u001b[39m\u001b[38;5;124mFile `\u001b[39m\u001b[38;5;132;01m%r\u001b[39;00m\u001b[38;5;124m` not found.\u001b[39m\u001b[38;5;124m'\u001b[39m \u001b[38;5;241m%\u001b[39m name)\n",
      "\u001b[0;31mOSError\u001b[0m: File `'pmlm_utilities_shallow.ipynb.py'` not found.",
      "\nThe above exception was the direct cause of the following exception:\n",
      "\u001b[0;31mException\u001b[0m                                 Traceback (most recent call last)",
      "Input \u001b[0;32mIn [6]\u001b[0m, in \u001b[0;36m<cell line: 5>\u001b[0;34m()\u001b[0m\n\u001b[1;32m      1\u001b[0m \u001b[38;5;66;03m# Change working directory to the absolute path of the shallow utilities folder\u001b[39;00m\n\u001b[1;32m      2\u001b[0m \u001b[38;5;66;03m# %cd $abspath_util_shallow\u001b[39;00m\n\u001b[1;32m      3\u001b[0m \n\u001b[1;32m      4\u001b[0m \u001b[38;5;66;03m# Import the shallow utitilities\u001b[39;00m\n\u001b[0;32m----> 5\u001b[0m \u001b[43mget_ipython\u001b[49m\u001b[43m(\u001b[49m\u001b[43m)\u001b[49m\u001b[38;5;241;43m.\u001b[39;49m\u001b[43mrun_line_magic\u001b[49m\u001b[43m(\u001b[49m\u001b[38;5;124;43m'\u001b[39;49m\u001b[38;5;124;43mrun\u001b[39;49m\u001b[38;5;124;43m'\u001b[39;49m\u001b[43m,\u001b[49m\u001b[43m \u001b[49m\u001b[38;5;124;43m'\u001b[39;49m\u001b[38;5;124;43mpmlm_utilities_shallow.ipynb\u001b[39;49m\u001b[38;5;124;43m'\u001b[39;49m\u001b[43m)\u001b[49m\n",
      "File \u001b[0;32m~/venv/lib/python3.8/site-packages/IPython/core/interactiveshell.py:2305\u001b[0m, in \u001b[0;36mInteractiveShell.run_line_magic\u001b[0;34m(self, magic_name, line, _stack_depth)\u001b[0m\n\u001b[1;32m   2303\u001b[0m     kwargs[\u001b[38;5;124m'\u001b[39m\u001b[38;5;124mlocal_ns\u001b[39m\u001b[38;5;124m'\u001b[39m] \u001b[38;5;241m=\u001b[39m \u001b[38;5;28mself\u001b[39m\u001b[38;5;241m.\u001b[39mget_local_scope(stack_depth)\n\u001b[1;32m   2304\u001b[0m \u001b[38;5;28;01mwith\u001b[39;00m \u001b[38;5;28mself\u001b[39m\u001b[38;5;241m.\u001b[39mbuiltin_trap:\n\u001b[0;32m-> 2305\u001b[0m     result \u001b[38;5;241m=\u001b[39m \u001b[43mfn\u001b[49m\u001b[43m(\u001b[49m\u001b[38;5;241;43m*\u001b[39;49m\u001b[43margs\u001b[49m\u001b[43m,\u001b[49m\u001b[43m \u001b[49m\u001b[38;5;241;43m*\u001b[39;49m\u001b[38;5;241;43m*\u001b[39;49m\u001b[43mkwargs\u001b[49m\u001b[43m)\u001b[49m\n\u001b[1;32m   2306\u001b[0m \u001b[38;5;28;01mreturn\u001b[39;00m result\n",
      "File \u001b[0;32m~/venv/lib/python3.8/site-packages/IPython/core/magics/execution.py:707\u001b[0m, in \u001b[0;36mExecutionMagics.run\u001b[0;34m(self, parameter_s, runner, file_finder)\u001b[0m\n\u001b[1;32m    705\u001b[0m     \u001b[38;5;28;01mif\u001b[39;00m os\u001b[38;5;241m.\u001b[39mname \u001b[38;5;241m==\u001b[39m \u001b[38;5;124m'\u001b[39m\u001b[38;5;124mnt\u001b[39m\u001b[38;5;124m'\u001b[39m \u001b[38;5;129;01mand\u001b[39;00m re\u001b[38;5;241m.\u001b[39mmatch(\u001b[38;5;124mr\u001b[39m\u001b[38;5;124m\"\u001b[39m\u001b[38;5;124m^\u001b[39m\u001b[38;5;124m'\u001b[39m\u001b[38;5;124m.*\u001b[39m\u001b[38;5;124m'\u001b[39m\u001b[38;5;124m$\u001b[39m\u001b[38;5;124m\"\u001b[39m,fpath):\n\u001b[1;32m    706\u001b[0m         warn(\u001b[38;5;124m'\u001b[39m\u001b[38;5;124mFor Windows, use double quotes to wrap a filename: \u001b[39m\u001b[38;5;132;01m%r\u001b[39;00m\u001b[38;5;124mun \u001b[39m\u001b[38;5;124m\"\u001b[39m\u001b[38;5;124mmypath\u001b[39m\u001b[38;5;130;01m\\\\\u001b[39;00m\u001b[38;5;124mmyfile.py\u001b[39m\u001b[38;5;124m\"\u001b[39m\u001b[38;5;124m'\u001b[39m)\n\u001b[0;32m--> 707\u001b[0m     \u001b[38;5;28;01mraise\u001b[39;00m \u001b[38;5;167;01mException\u001b[39;00m(msg) \u001b[38;5;28;01mfrom\u001b[39;00m \u001b[38;5;21;01me\u001b[39;00m\n\u001b[1;32m    708\u001b[0m \u001b[38;5;28;01mexcept\u001b[39;00m \u001b[38;5;167;01mTypeError\u001b[39;00m:\n\u001b[1;32m    709\u001b[0m     \u001b[38;5;28;01mif\u001b[39;00m fpath \u001b[38;5;129;01min\u001b[39;00m sys\u001b[38;5;241m.\u001b[39mmeta_path:\n",
      "\u001b[0;31mException\u001b[0m: File `'pmlm_utilities_shallow.ipynb.py'` not found."
     ]
    }
   ],
   "source": [
    "# Change working directory to the absolute path of the shallow utilities folder\n",
    "# %cd $abspath_util_shallow\n",
    "\n",
    "# Import the shallow utitilities\n",
    "%run pmlm_utilities_shallow.ipynb"
   ]
  },
  {
   "cell_type": "markdown",
   "metadata": {
    "id": "N5i-Uhzy6O5B"
   },
   "source": [
    "## Loading the data"
   ]
  },
  {
   "cell_type": "code",
   "execution_count": null,
   "metadata": {
    "id": "CB8i9Nhev6ts"
   },
   "outputs": [],
   "source": [
    "import pandas as pd\n",
    "from os.path import abspath\n",
    "\n",
    "# Load the raw training data\n",
    "df_raw_train = pd.read_csv(abspath_curr + 'train.csv',\n",
    "                           header=0)\n",
    "# Make a copy of df_raw_train\n",
    "df_train = df_raw_train.copy(deep=True)\n",
    "\n",
    "# Load the raw test data\n",
    "df_raw_test = pd.read_csv(abspath_curr + 'test.csv',\n",
    "                          header=0)\n",
    "# Make a copy of df_raw_test\n",
    "df_test = df_raw_test.copy(deep=True)\n",
    "\n",
    "# Get the name of the target\n",
    "target = 'trip_duration'"
   ]
  },
  {
   "cell_type": "code",
   "execution_count": null,
   "metadata": {
    "colab": {
     "base_uri": "https://localhost:8080/"
    },
    "id": "yIW2JFfOAlnc",
    "outputId": "864319ff-d594-4909-cd4c-e471b4ba903a"
   },
   "outputs": [],
   "source": [
    "df_raw_train.info() # Personal"
   ]
  },
  {
   "cell_type": "markdown",
   "metadata": {
    "id": "JNRVtH5PBy-f"
   },
   "source": [
    "## Dimension of the training set"
   ]
  },
  {
   "cell_type": "code",
   "execution_count": null,
   "metadata": {
    "colab": {
     "base_uri": "https://localhost:8080/",
     "height": 81
    },
    "id": "UvmfYH14Bb02",
    "outputId": "9d7648d5-fbbe-4b6d-9e23-d3acb79be2e5"
   },
   "outputs": [],
   "source": [
    "# Print the dimension of df_train\n",
    "pd.DataFrame([[df_train.shape[0], df_train.shape[1]]], columns=['# rows', '# columns'])"
   ]
  },
  {
   "cell_type": "markdown",
   "metadata": {
    "id": "hEfdDmt_B725"
   },
   "source": [
    "## Dimension of the test set"
   ]
  },
  {
   "cell_type": "code",
   "execution_count": null,
   "metadata": {
    "colab": {
     "base_uri": "https://localhost:8080/",
     "height": 81
    },
    "id": "-i541k8iBnda",
    "outputId": "34f571ae-97d6-45fb-c879-38bf5700983c"
   },
   "outputs": [],
   "source": [
    "# Print the dimension of df_test\n",
    "pd.DataFrame([[df_test.shape[0], df_test.shape[1]]], columns=['# rows', '# columns'])"
   ]
  },
  {
   "cell_type": "markdown",
   "metadata": {
    "id": "EQxyWx1YCTkr"
   },
   "source": [
    "## Glimpse of train set"
   ]
  },
  {
   "cell_type": "code",
   "execution_count": null,
   "metadata": {
    "colab": {
     "base_uri": "https://localhost:8080/",
     "height": 357
    },
    "id": "pYcks9MHCH8M",
    "outputId": "f88df84d-59b2-4b66-979a-65229e2fbafe"
   },
   "outputs": [],
   "source": [
    "# Print the first 5 rows of df_train\n",
    "df_train.head()"
   ]
  },
  {
   "cell_type": "markdown",
   "metadata": {
    "id": "zrDGM-HgCZIT"
   },
   "source": [
    "## Glimpse of test set"
   ]
  },
  {
   "cell_type": "code",
   "execution_count": null,
   "metadata": {
    "colab": {
     "base_uri": "https://localhost:8080/",
     "height": 357
    },
    "id": "EMIHiokkCbBs",
    "outputId": "0afffe52-3e62-4482-d8e3-97c0e1fc37ec"
   },
   "outputs": [],
   "source": [
    "# Print the first 5 rows of df_test\n",
    "df_test.head()"
   ]
  },
  {
   "cell_type": "markdown",
   "metadata": {
    "id": "L48Wzs_uDHFd"
   },
   "source": [
    "## Splitting the data"
   ]
  },
  {
   "cell_type": "code",
   "execution_count": null,
   "metadata": {
    "id": "-YOmeTBYDGCP"
   },
   "outputs": [],
   "source": [
    "from sklearn.model_selection import train_test_split\n",
    "\n",
    "# Divide the training data into training (80%) and validation (20%)\n",
    "df_train, df_val = train_test_split(df_train, train_size=0.8, random_state=random_seed)\n",
    "\n",
    "# Reset the index\n",
    "df_train, df_val = df_train.reset_index(drop=True), df_val.reset_index(drop=True)"
   ]
  },
  {
   "cell_type": "markdown",
   "metadata": {
    "id": "8-eBAPwhFktw"
   },
   "source": [
    "### Dimension of the training set"
   ]
  },
  {
   "cell_type": "code",
   "execution_count": null,
   "metadata": {
    "colab": {
     "base_uri": "https://localhost:8080/",
     "height": 81
    },
    "id": "yFT9DDpvFktx",
    "outputId": "d20bd89f-74de-43a6-a717-81f352a852b6"
   },
   "outputs": [],
   "source": [
    "# Print the dimension of df_train\n",
    "pd.DataFrame([[df_train.shape[0], df_train.shape[1]]], columns=['# rows', '# columns'])"
   ]
  },
  {
   "cell_type": "markdown",
   "metadata": {
    "id": "PWzKytLLJRnf"
   },
   "source": [
    "### Dimension of the validation set"
   ]
  },
  {
   "cell_type": "code",
   "execution_count": null,
   "metadata": {
    "colab": {
     "base_uri": "https://localhost:8080/",
     "height": 81
    },
    "id": "pJ7U2cz1JVXa",
    "outputId": "0c885200-7d5a-4879-ba76-10535609cec0"
   },
   "outputs": [],
   "source": [
    "# Print the dimension of df_val\n",
    "pd.DataFrame([[df_val.shape[0], df_val.shape[1]]], columns=['# rows', '# columns'])"
   ]
  },
  {
   "cell_type": "markdown",
   "metadata": {
    "id": "3mpwZMOmGPph"
   },
   "source": [
    "## Handling uncommon features"
   ]
  },
  {
   "cell_type": "markdown",
   "metadata": {
    "id": "o87DlwvJGVXm"
   },
   "source": [
    "### Identifying uncommon features"
   ]
  },
  {
   "cell_type": "code",
   "execution_count": null,
   "metadata": {
    "colab": {
     "base_uri": "https://localhost:8080/",
     "height": 363
    },
    "id": "WhIIQ7mMGO4q",
    "outputId": "411a78e5-3f32-49cd-cf4d-f9819d1e829e"
   },
   "outputs": [],
   "source": [
    "# Call common_var_checker\n",
    "# See the implementation in pmlm_utilities.ipynb\n",
    "df_common_var = common_var_checker(df_train, df_val, df_test, target)\n",
    "\n",
    "# Print df_common_var\n",
    "df_common_var"
   ]
  },
  {
   "cell_type": "markdown",
   "metadata": {
    "id": "54tDhv_THoOy"
   },
   "source": [
    "#### Difference between set of features in training set and set of features among entire data"
   ]
  },
  {
   "cell_type": "markdown",
   "metadata": {
    "id": "sHdLv-L2sfIW"
   },
   "source": [
    "##### The list of columns are present in the training set, but not in the other set - validation, test, etc.,"
   ]
  },
  {
   "cell_type": "code",
   "execution_count": null,
   "metadata": {
    "colab": {
     "base_uri": "https://localhost:8080/",
     "height": 81
    },
    "id": "TbXR0WTQGj3N",
    "outputId": "c1cda59a-b393-4ade-8c4c-35bae696996f"
   },
   "outputs": [],
   "source": [
    "# Get the features in the training data but not in the validation or test data\n",
    "uncommon_feature_train_not_val_test = np.setdiff1d(df_train.columns, df_common_var['common var'])\n",
    "\n",
    "# Print the uncommon features\n",
    "pd.DataFrame(uncommon_feature_train_not_val_test, columns=['uncommon feature'])"
   ]
  },
  {
   "cell_type": "markdown",
   "metadata": {
    "id": "6X4prHpxIEnQ"
   },
   "source": [
    "#### Difference between set of features in validation set and set of features among entire data"
   ]
  },
  {
   "cell_type": "code",
   "execution_count": null,
   "metadata": {
    "colab": {
     "base_uri": "https://localhost:8080/",
     "height": 81
    },
    "id": "tPb4Q50sHlaX",
    "outputId": "95be9413-5f89-4271-83bc-7356cef38829"
   },
   "outputs": [],
   "source": [
    "# Get the features in the validation data but not in the training or test data\n",
    "uncommon_feature_val_not_train_test = np.setdiff1d(df_val.columns, df_common_var['common var'])\n",
    "\n",
    "# Print the uncommon features\n",
    "pd.DataFrame(uncommon_feature_val_not_train_test, columns=['uncommon feature'])"
   ]
  },
  {
   "cell_type": "markdown",
   "metadata": {
    "id": "pEFNdVKaIVq6"
   },
   "source": [
    "#### Difference between set of features in test set and set of features among entire data"
   ]
  },
  {
   "cell_type": "code",
   "execution_count": null,
   "metadata": {
    "colab": {
     "base_uri": "https://localhost:8080/",
     "height": 49
    },
    "id": "uw9HiN67IVHI",
    "outputId": "985886b2-6dd7-480d-fd84-c7e700ac2926"
   },
   "outputs": [],
   "source": [
    "# Get the features in the test data but not in the training or validation data\n",
    "uncommon_feature_test_not_train_val = np.setdiff1d(df_test.columns, df_common_var['common var'])\n",
    "\n",
    "# Print the uncommon features\n",
    "pd.DataFrame(uncommon_feature_test_not_train_val, columns=['uncommon feature'])"
   ]
  },
  {
   "cell_type": "markdown",
   "metadata": {
    "id": "2htPBAXDM78F"
   },
   "source": [
    "## Removing uncommon features"
   ]
  },
  {
   "cell_type": "code",
   "execution_count": null,
   "metadata": {
    "colab": {
     "base_uri": "https://localhost:8080/",
     "height": 357
    },
    "id": "rj-NXTj4NBKG",
    "outputId": "6654b46f-53ed-489d-fa0e-fbb793c4b858"
   },
   "outputs": [],
   "source": [
    "# Remove the uncommon features from the training data\n",
    "df_train = df_train.drop(columns=uncommon_feature_train_not_val_test)\n",
    "\n",
    "# Print the first 5 rows of df_train\n",
    "df_train.head()"
   ]
  },
  {
   "cell_type": "code",
   "execution_count": null,
   "metadata": {
    "colab": {
     "base_uri": "https://localhost:8080/",
     "height": 357
    },
    "id": "6zs62KUNNcVU",
    "outputId": "d2e07311-16e9-4b09-9142-af7545eaa470"
   },
   "outputs": [],
   "source": [
    "# Remove the uncommon features from the validation data\n",
    "df_val = df_val.drop(columns=uncommon_feature_val_not_train_test)\n",
    "\n",
    "# Print the first 5 rows of df_val\n",
    "df_val.head()"
   ]
  },
  {
   "cell_type": "code",
   "execution_count": null,
   "metadata": {
    "colab": {
     "base_uri": "https://localhost:8080/",
     "height": 357
    },
    "id": "doOPyPDrNfHU",
    "outputId": "9b8ff523-f248-4b1f-e1ef-1f62454ecfcd"
   },
   "outputs": [],
   "source": [
    "# Remove the uncommon features from the test data\n",
    "df_test = df_test.drop(columns=uncommon_feature_test_not_train_val)\n",
    "\n",
    "# Print the first 5 rows of df_test\n",
    "df_test.head()"
   ]
  },
  {
   "cell_type": "markdown",
   "metadata": {
    "id": "7h6vVRU9OF0K"
   },
   "source": [
    "## Handling identifiers"
   ]
  },
  {
   "cell_type": "markdown",
   "metadata": {
    "id": "f0LQCEpbOKl3"
   },
   "source": [
    "### Combining the training, validation and test data"
   ]
  },
  {
   "cell_type": "code",
   "execution_count": null,
   "metadata": {
    "id": "dJbXrEzXNnMb"
   },
   "outputs": [],
   "source": [
    "# Combine df_train, df_val and df_test\n",
    "df = pd.concat([df_train, df_val, df_test], sort=False)"
   ]
  },
  {
   "cell_type": "markdown",
   "metadata": {
    "id": "3dur5oQ9Oz3o"
   },
   "source": [
    "### Identifying identifiers"
   ]
  },
  {
   "cell_type": "code",
   "execution_count": null,
   "metadata": {
    "colab": {
     "base_uri": "https://localhost:8080/",
     "height": 206
    },
    "id": "K4v2uRHgOuVA",
    "outputId": "c1a0bbf9-9ab8-423f-9d9e-f2f47b755a9d"
   },
   "outputs": [],
   "source": [
    "# Call id_checker on df\n",
    "# See the implementation in pmlm_utilities.ipynb\n",
    "df_id = id_checker(df)\n",
    "\n",
    "# Print the first 5 rows of df_id\n",
    "df_id.head()"
   ]
  },
  {
   "cell_type": "markdown",
   "metadata": {
    "id": "fh-eqY3ePa0r"
   },
   "source": [
    "### Removing identifiers"
   ]
  },
  {
   "cell_type": "code",
   "execution_count": null,
   "metadata": {
    "id": "unMxYJqyPdXk"
   },
   "outputs": [],
   "source": [
    "import numpy as np\n",
    "\n",
    "# Remove identifiers from df_train\n",
    "df_train.drop(columns=np.intersect1d(df_id.columns, df_train.columns), inplace=True)\n",
    "\n",
    "# Remove identifiers from df_val\n",
    "df_val.drop(columns=np.intersect1d(df_id.columns, df_val.columns), inplace=True)\n",
    "\n",
    "# Remove identifiers from df_test\n",
    "df_test.drop(columns=np.intersect1d(df_id.columns, df_test.columns), inplace=True)"
   ]
  },
  {
   "cell_type": "code",
   "execution_count": null,
   "metadata": {
    "colab": {
     "base_uri": "https://localhost:8080/",
     "height": 357
    },
    "id": "emHHYPaGQ2s9",
    "outputId": "a3170407-2c42-4d34-9035-79fcd6ced23b"
   },
   "outputs": [],
   "source": [
    "df_train.head()"
   ]
  },
  {
   "cell_type": "code",
   "execution_count": null,
   "metadata": {
    "colab": {
     "base_uri": "https://localhost:8080/",
     "height": 357
    },
    "id": "9CfOflojQ6ra",
    "outputId": "77972fb2-0833-40bb-aa7a-9dba2b881ebe"
   },
   "outputs": [],
   "source": [
    "df_val.head()"
   ]
  },
  {
   "cell_type": "code",
   "execution_count": null,
   "metadata": {
    "colab": {
     "base_uri": "https://localhost:8080/",
     "height": 250
    },
    "id": "cFMJLzPCQ-sy",
    "outputId": "d20da9d8-fe99-4b99-8aa6-6b1fc94e2f87"
   },
   "outputs": [],
   "source": [
    "df_test.head()"
   ]
  },
  {
   "cell_type": "markdown",
   "metadata": {
    "id": "IMK9AutzRHVY"
   },
   "source": [
    "## Handling date time variables"
   ]
  },
  {
   "cell_type": "markdown",
   "metadata": {
    "id": "yGa6dVcdRK_V"
   },
   "source": [
    "### Transforming date time variables"
   ]
  },
  {
   "cell_type": "code",
   "execution_count": null,
   "metadata": {
    "colab": {
     "base_uri": "https://localhost:8080/"
    },
    "id": "ZZRo87NmRT7P",
    "outputId": "1e58bc09-45e8-4d9f-8d25-b59517add3a2"
   },
   "outputs": [],
   "source": [
    "df_train.columns"
   ]
  },
  {
   "cell_type": "code",
   "execution_count": null,
   "metadata": {
    "id": "7sM_6wO6RKIb"
   },
   "outputs": [],
   "source": [
    "# Get the date time variables\n",
    "datetime_vars = ['pickup_datetime']"
   ]
  },
  {
   "cell_type": "code",
   "execution_count": null,
   "metadata": {
    "colab": {
     "base_uri": "https://localhost:8080/",
     "height": 206
    },
    "id": "-y-7zI-Ht3Hn",
    "outputId": "7a4d6275-01d4-426d-ede1-68cbfee32d85"
   },
   "outputs": [],
   "source": [
    "df_train.loc[:, datetime_vars].head()"
   ]
  },
  {
   "cell_type": "code",
   "execution_count": null,
   "metadata": {
    "colab": {
     "base_uri": "https://localhost:8080/"
    },
    "id": "xi8Mn4mHuCLs",
    "outputId": "68fece29-e802-4ee9-ebcb-d8b98ec35385"
   },
   "outputs": [],
   "source": [
    "df_train.loc[:, datetime_vars].dtypes"
   ]
  },
  {
   "cell_type": "code",
   "execution_count": null,
   "metadata": {
    "colab": {
     "base_uri": "https://localhost:8080/"
    },
    "id": "m8LRmJgnfC4j",
    "outputId": "ff0f92d6-5a11-4a2f-926d-1ab6be85af11"
   },
   "outputs": [],
   "source": [
    "df_val.loc[:, datetime_vars].dtypes"
   ]
  },
  {
   "cell_type": "code",
   "execution_count": null,
   "metadata": {
    "colab": {
     "base_uri": "https://localhost:8080/"
    },
    "id": "O7WicNgjuRti",
    "outputId": "543ddeac-4260-47dd-fc30-e400d3322aa4"
   },
   "outputs": [],
   "source": [
    "df_test.loc[:, datetime_vars].dtypes"
   ]
  },
  {
   "cell_type": "code",
   "execution_count": null,
   "metadata": {
    "id": "t-LGu1mfvpjq"
   },
   "outputs": [],
   "source": [
    "tmp_x = df_train.pickup_datetime.sort_values().unique()\n",
    "import re\n",
    "tmp_y = [re.findall(r'\\d{4}', x)[0]  for x in tmp_x]\n",
    "print(np.unique(tmp_y))"
   ]
  },
  {
   "cell_type": "code",
   "execution_count": null,
   "metadata": {
    "colab": {
     "base_uri": "https://localhost:8080/",
     "height": 270
    },
    "id": "si2-uOf-RPa-",
    "outputId": "502b4fb5-d224-4306-cfa8-b5d859b9fd12"
   },
   "outputs": [],
   "source": [
    "# Call datetime_transformer on df_train\n",
    "# See the implementation in pmlm_utilities.ipynb\n",
    "df_train = datetime_transformer(df_train, datetime_vars)\n",
    "\n",
    "# Print the first 5 rows of df_train\n",
    "df_train.head()"
   ]
  },
  {
   "cell_type": "code",
   "execution_count": null,
   "metadata": {
    "colab": {
     "base_uri": "https://localhost:8080/",
     "height": 424
    },
    "id": "yVr7S99Qu1EJ",
    "outputId": "f8e703db-2cd3-4eff-e5df-7e727fd45a13"
   },
   "outputs": [],
   "source": [
    "df_train.loc[:, ['pickup_datetime_year', \n",
    "                 'pickup_datetime_month', \n",
    "                 'pickup_datetime_day']].sort_values(by=['pickup_datetime_year'])"
   ]
  },
  {
   "cell_type": "code",
   "execution_count": null,
   "metadata": {
    "colab": {
     "base_uri": "https://localhost:8080/"
    },
    "id": "B0rJFAMOs_FS",
    "outputId": "7fd11e4f-04bb-41be-a11b-22a038ff8600"
   },
   "outputs": [],
   "source": [
    "df_train.loc[:, ['pickup_datetime_year', \n",
    "                 'pickup_datetime_month', \n",
    "                 'pickup_datetime_day']].dtypes"
   ]
  },
  {
   "cell_type": "code",
   "execution_count": null,
   "metadata": {
    "colab": {
     "base_uri": "https://localhost:8080/",
     "height": 270
    },
    "id": "cIBd7MeTxtmA",
    "outputId": "74e1cb8c-650f-48f9-c211-e628a2019f63"
   },
   "outputs": [],
   "source": [
    "# Call datetime_transformer on df_val\n",
    "# See the implementation in pmlm_utilities.ipynb\n",
    "df_val = datetime_transformer(df_val, datetime_vars)\n",
    "\n",
    "# Print the first 5 rows of df_val\n",
    "df_val.head()"
   ]
  },
  {
   "cell_type": "code",
   "execution_count": null,
   "metadata": {
    "colab": {
     "base_uri": "https://localhost:8080/",
     "height": 424
    },
    "id": "zTjOBQyDwroV",
    "outputId": "e65f93b6-7d37-49d1-b228-0facfb89f490"
   },
   "outputs": [],
   "source": [
    "df_val.loc[:, ['pickup_datetime_year', \n",
    "                 'pickup_datetime_month', \n",
    "                 'pickup_datetime_day']].sort_values(by=['pickup_datetime_year'])"
   ]
  },
  {
   "cell_type": "code",
   "execution_count": null,
   "metadata": {
    "colab": {
     "base_uri": "https://localhost:8080/"
    },
    "id": "sOCMjEiKtCFo",
    "outputId": "b28c0ab6-cdce-4d6a-84f8-61177efe204a"
   },
   "outputs": [],
   "source": [
    "df_val.loc[:, ['pickup_datetime_year', \n",
    "                 'pickup_datetime_month', \n",
    "                 'pickup_datetime_day']].dtypes"
   ]
  },
  {
   "cell_type": "code",
   "execution_count": null,
   "metadata": {
    "colab": {
     "base_uri": "https://localhost:8080/",
     "height": 270
    },
    "id": "zjK7JdvtxwGZ",
    "outputId": "7d1ba339-e969-4761-ba96-f197f7337cca"
   },
   "outputs": [],
   "source": [
    "# Call datetime_transformer on df_test\n",
    "# See the implementation in pmlm_utilities.ipynb\n",
    "df_test = datetime_transformer(df_test, datetime_vars)\n",
    "\n",
    "# Print the first 5 rows of df_test\n",
    "df_test.head()"
   ]
  },
  {
   "cell_type": "code",
   "execution_count": null,
   "metadata": {
    "colab": {
     "base_uri": "https://localhost:8080/",
     "height": 424
    },
    "id": "S8bT_l_9w2y2",
    "outputId": "66b98155-220f-4089-fc59-f6186b5ba215"
   },
   "outputs": [],
   "source": [
    "df_test.loc[:, ['pickup_datetime_year', \n",
    "                 'pickup_datetime_month', \n",
    "                 'pickup_datetime_day']].sort_values(by=['pickup_datetime_year'])"
   ]
  },
  {
   "cell_type": "code",
   "execution_count": null,
   "metadata": {
    "colab": {
     "base_uri": "https://localhost:8080/"
    },
    "id": "Vxkafd5ttFjA",
    "outputId": "2f3606bc-3cce-4c22-c4fa-db27cd41b74d"
   },
   "outputs": [],
   "source": [
    "df_test.loc[:, ['pickup_datetime_year', \n",
    "                 'pickup_datetime_month', \n",
    "                 'pickup_datetime_day']].dtypes"
   ]
  },
  {
   "cell_type": "markdown",
   "metadata": {
    "id": "rJcOAxxkx4Cj"
   },
   "source": [
    "## Handling missing data"
   ]
  },
  {
   "cell_type": "markdown",
   "metadata": {
    "id": "mrMO479byI8V"
   },
   "source": [
    "### Combining training, validation, and the test data"
   ]
  },
  {
   "cell_type": "code",
   "execution_count": null,
   "metadata": {
    "id": "qWKyilFjx8ig"
   },
   "outputs": [],
   "source": [
    "# Combine df_train, df_val and df_test\n",
    "df = pd.concat([df_train, df_val, df_test], sort=False)"
   ]
  },
  {
   "cell_type": "code",
   "execution_count": null,
   "metadata": {
    "colab": {
     "base_uri": "https://localhost:8080/"
    },
    "id": "gZMyt-5exVh3",
    "outputId": "c376eecb-60bb-4c20-c048-b067b32cf504"
   },
   "outputs": [],
   "source": [
    "df.shape"
   ]
  },
  {
   "cell_type": "markdown",
   "metadata": {
    "id": "muC15mClyeAQ"
   },
   "source": [
    "### Identifying missing values"
   ]
  },
  {
   "cell_type": "code",
   "execution_count": null,
   "metadata": {
    "colab": {
     "base_uri": "https://localhost:8080/",
     "height": 81
    },
    "id": "Yhtdlw3gygxn",
    "outputId": "68866c9c-04ce-4a13-e72a-8294bad3281d"
   },
   "outputs": [],
   "source": [
    "# Call nan_checker on df\n",
    "# See the implementation in pmlm_utilities.ipynb\n",
    "df_nan = nan_checker(df)\n",
    "\n",
    "# Print df_nan\n",
    "df_nan"
   ]
  },
  {
   "cell_type": "code",
   "execution_count": null,
   "metadata": {
    "colab": {
     "base_uri": "https://localhost:8080/",
     "height": 81
    },
    "id": "iJm2HeyQzD6K",
    "outputId": "7fbf37e6-be93-4792-8f33-6c7a6d1ae673"
   },
   "outputs": [],
   "source": [
    "# Print the unique data type of variables with NaN\n",
    "pd.DataFrame(df_nan['dtype'].unique(), columns=['dtype'])"
   ]
  },
  {
   "cell_type": "code",
   "execution_count": null,
   "metadata": {
    "colab": {
     "base_uri": "https://localhost:8080/",
     "height": 81
    },
    "id": "k9N2e0AwzNQA",
    "outputId": "5648fc0e-2898-4564-9032-efc4150202f0"
   },
   "outputs": [],
   "source": [
    "# Get the variables with missing values, their proportion of missing values and data type\n",
    "df_miss = df_nan[df_nan['dtype'] == 'float64'].reset_index(drop=True)\n",
    "\n",
    "# Print df_miss\n",
    "df_miss"
   ]
  },
  {
   "cell_type": "markdown",
   "metadata": {
    "id": "Ouxk2-HYziTP"
   },
   "source": [
    "## Separating the training, validation and test set"
   ]
  },
  {
   "cell_type": "code",
   "execution_count": null,
   "metadata": {
    "id": "0AxQsA_OzgEs"
   },
   "outputs": [],
   "source": [
    "# Separating the training data\n",
    "df_train = df.iloc[:df_train.shape[0], :]\n",
    "\n",
    "# Separating the validation data\n",
    "df_val = df.iloc[df_train.shape[0]:df_train.shape[0] + df_val.shape[0], :]\n",
    "\n",
    "# Separating the test data\n",
    "df_test = df.iloc[df_train.shape[0] + df_val.shape[0]:, :]"
   ]
  },
  {
   "cell_type": "code",
   "execution_count": null,
   "metadata": {
    "colab": {
     "base_uri": "https://localhost:8080/",
     "height": 81
    },
    "id": "QrWitE6O09uC",
    "outputId": "02c59257-a226-4ea3-8538-96f9797ceffd"
   },
   "outputs": [],
   "source": [
    "# Print the dimension of df_train\n",
    "pd.DataFrame([[df_train.shape[0], df_train.shape[1]]], columns=['# rows', '# columns'])"
   ]
  },
  {
   "cell_type": "code",
   "execution_count": null,
   "metadata": {
    "colab": {
     "base_uri": "https://localhost:8080/",
     "height": 81
    },
    "id": "YCjUUm9e1bLg",
    "outputId": "0b008c42-166b-41ef-af93-c1b45b84825d"
   },
   "outputs": [],
   "source": [
    "# Print the dimension of df_val\n",
    "pd.DataFrame([[df_val.shape[0], df_val.shape[1]]], columns=['# rows', '# columns'])"
   ]
  },
  {
   "cell_type": "code",
   "execution_count": null,
   "metadata": {
    "colab": {
     "base_uri": "https://localhost:8080/",
     "height": 81
    },
    "id": "ONcByNsw1frm",
    "outputId": "f48448e1-c62f-4b38-a542-2b8eff4f8d73"
   },
   "outputs": [],
   "source": [
    "# Print the dimension of df_test\n",
    "pd.DataFrame([[df_test.shape[0], df_test.shape[1]]], columns=['# rows', '# columns'])"
   ]
  },
  {
   "cell_type": "code",
   "execution_count": null,
   "metadata": {
    "colab": {
     "base_uri": "https://localhost:8080/"
    },
    "id": "o5nMrVvtzvrU",
    "outputId": "d6b0c238-8e25-486e-efe8-73ce24621f3f"
   },
   "outputs": [],
   "source": [
    "df_train.columns"
   ]
  },
  {
   "cell_type": "markdown",
   "metadata": {
    "id": "MxBOP4j82ZWJ"
   },
   "source": [
    "## Imputing missing values -- TRY TO TWEAK THE VALUE HERE------------"
   ]
  },
  {
   "cell_type": "code",
   "execution_count": null,
   "metadata": {
    "id": "M8cTACUD2cEV"
   },
   "outputs": [],
   "source": [
    "from sklearn.impute import SimpleImputer\n",
    "\n",
    "# If there are missing values\n",
    "if len(df_miss['var']) > 0:\n",
    "    # The SimpleImputer\n",
    "    si = SimpleImputer(missing_values=np.nan, strategy='mean')\n",
    "\n",
    "    # Impute the variables with missing values in df_train, df_val and df_test \n",
    "    df_train[df_miss['var']] = si.fit_transform(df_train[df_miss['var']])\n",
    "    df_val[df_miss['var']] = si.transform(df_val[df_miss['var']])\n",
    "    df_test[df_miss['var']] = si.transform(df_test[df_miss['var']])"
   ]
  },
  {
   "cell_type": "markdown",
   "metadata": {
    "id": "MxDmY8kf47x5"
   },
   "source": [
    "## Encoding the data"
   ]
  },
  {
   "cell_type": "markdown",
   "metadata": {
    "id": "BNmxSmyf4-N2"
   },
   "source": [
    "### Combining training, validation and the test set"
   ]
  },
  {
   "cell_type": "code",
   "execution_count": null,
   "metadata": {
    "colab": {
     "base_uri": "https://localhost:8080/",
     "height": 143
    },
    "id": "DxkIzCT049e7",
    "outputId": "44919888-7376-4f74-af2b-bc5fc3724228"
   },
   "outputs": [],
   "source": [
    "# Combine df_train, df_val and df_test\n",
    "df = pd.concat([df_train, df_val, df_test], sort=False)\n",
    "\n",
    "# Print the unique data type of variables in df\n",
    "pd.DataFrame(df.dtypes.unique(), columns=['dtype'])"
   ]
  },
  {
   "cell_type": "markdown",
   "metadata": {
    "id": "fljc111n9iff"
   },
   "source": [
    "## Identifying categorical variables"
   ]
  },
  {
   "cell_type": "code",
   "execution_count": null,
   "metadata": {
    "colab": {
     "base_uri": "https://localhost:8080/",
     "height": 81
    },
    "id": "_1v6-Zto9fsh",
    "outputId": "12f66634-5772-4f03-ef33-b94cd7e1790b"
   },
   "outputs": [],
   "source": [
    "# Call cat_var_checker on df\n",
    "# See the implementation in pmlm_utilities.ipynb\n",
    "df_cat = cat_var_checker(df)\n",
    "\n",
    "# Print the dataframe\n",
    "df_cat"
   ]
  },
  {
   "cell_type": "code",
   "execution_count": null,
   "metadata": {
    "colab": {
     "base_uri": "https://localhost:8080/"
    },
    "id": "5JhvlCGk2V2Y",
    "outputId": "d0f8fa39-ab70-4ebd-ae72-38b09d38caa5"
   },
   "outputs": [],
   "source": [
    "df.store_and_fwd_flag.unique()"
   ]
  },
  {
   "cell_type": "markdown",
   "metadata": {
    "id": "VjZ7A3Vj9yUV"
   },
   "source": [
    "### Encoding categorical features -- TRY TO TWEAK THE VALUE HERE------------"
   ]
  },
  {
   "cell_type": "code",
   "execution_count": null,
   "metadata": {
    "colab": {
     "base_uri": "https://localhost:8080/",
     "height": 270
    },
    "id": "j2GveI8p9xZT",
    "outputId": "b4a34cb3-615a-498a-9f19-0bfd41cf11db"
   },
   "outputs": [],
   "source": [
    "# One-hot-encode the categorical features in the combined data\n",
    "df = pd.get_dummies(df, columns=np.setdiff1d(df_cat['var'], [target]))\n",
    "\n",
    "# Print the first 5 rows of df\n",
    "df.head()"
   ]
  },
  {
   "cell_type": "markdown",
   "metadata": {
    "id": "ZuHiI9l4tlIQ"
   },
   "source": [
    "### Separating the training, validation and test data"
   ]
  },
  {
   "cell_type": "code",
   "execution_count": null,
   "metadata": {
    "id": "TFZnCYhvtknB"
   },
   "outputs": [],
   "source": [
    "# Separating the training data\n",
    "df_train = df.iloc[:df_train.shape[0], :]\n",
    "\n",
    "# Separating the validation data\n",
    "df_val = df.iloc[df_train.shape[0]:df_train.shape[0] + df_val.shape[0], :]\n",
    "\n",
    "# Separating the test data\n",
    "df_test = df.iloc[df_train.shape[0] + df_val.shape[0]:, :]"
   ]
  },
  {
   "cell_type": "code",
   "execution_count": null,
   "metadata": {
    "colab": {
     "base_uri": "https://localhost:8080/",
     "height": 81
    },
    "id": "_sn9S3pBtuQy",
    "outputId": "2373ff55-0a4c-489d-fdbd-ce91bac96d50"
   },
   "outputs": [],
   "source": [
    "# Print the dimension of df_train\n",
    "pd.DataFrame([[df_train.shape[0], df_train.shape[1]]], columns=['# rows', '# columns'])"
   ]
  },
  {
   "cell_type": "code",
   "execution_count": null,
   "metadata": {
    "colab": {
     "base_uri": "https://localhost:8080/",
     "height": 81
    },
    "id": "3_cplsm2txRJ",
    "outputId": "13f8e3a3-1d7f-4483-f6f0-c858fac1ab71"
   },
   "outputs": [],
   "source": [
    "# Print the dimension of df_val\n",
    "pd.DataFrame([[df_val.shape[0], df_val.shape[1]]], columns=['# rows', '# columns'])"
   ]
  },
  {
   "cell_type": "code",
   "execution_count": null,
   "metadata": {
    "colab": {
     "base_uri": "https://localhost:8080/",
     "height": 81
    },
    "id": "OqC0AwdctzB_",
    "outputId": "61b98bbf-ef03-4bfa-d6ed-441ad50f36fb"
   },
   "outputs": [],
   "source": [
    "# Print the dimension of df_test\n",
    "pd.DataFrame([[df_test.shape[0], df_test.shape[1]]], columns=['# rows', '# columns'])"
   ]
  },
  {
   "cell_type": "markdown",
   "metadata": {
    "id": "uIuJ_c8Zt0s1"
   },
   "source": [
    "## Splitting the feature and target"
   ]
  },
  {
   "cell_type": "code",
   "execution_count": null,
   "metadata": {
    "id": "CSntGBEst4tP"
   },
   "outputs": [],
   "source": [
    "# Get the feature matrix\n",
    "X_train = df_train[np.setdiff1d(df_train.columns, [target])].values\n",
    "X_val = df_val[np.setdiff1d(df_val.columns, [target])].values\n",
    "X_test = df_test[np.setdiff1d(df_test.columns, [target])].values\n",
    "\n",
    "# Get the target vector\n",
    "y_train = df_train[target].values\n",
    "y_val = df_val[target].values\n",
    "y_test = df_test[target].values"
   ]
  },
  {
   "cell_type": "code",
   "execution_count": null,
   "metadata": {},
   "outputs": [],
   "source": [
    "df_train.columns"
   ]
  },
  {
   "cell_type": "markdown",
   "metadata": {
    "id": "mwKTl46puFOD"
   },
   "source": [
    "## Scaling the data"
   ]
  },
  {
   "cell_type": "markdown",
   "metadata": {
    "id": "qvNSxRKzuIhh"
   },
   "source": [
    "### Standardization"
   ]
  },
  {
   "cell_type": "code",
   "execution_count": 73,
   "metadata": {
    "id": "wktt5i_iuG_Q"
   },
   "outputs": [],
   "source": [
    "from sklearn.preprocessing import StandardScaler\n",
    "\n",
    "# The StandardScaler\n",
    "ss = StandardScaler()"
   ]
  },
  {
   "cell_type": "code",
   "execution_count": 74,
   "metadata": {
    "id": "1A4pzx1tussq"
   },
   "outputs": [],
   "source": [
    "# Standardize the training data\n",
    "X_train = ss.fit_transform(X_train)\n",
    "\n",
    "# Standardize the validation data\n",
    "X_val = ss.transform(X_val)\n",
    "\n",
    "# Standardize the test data\n",
    "X_test = ss.transform(X_test)"
   ]
  },
  {
   "cell_type": "code",
   "execution_count": 75,
   "metadata": {
    "id": "N8cCf-nauwKt"
   },
   "outputs": [],
   "source": [
    "# Standardize the training data\n",
    "y_train = ss.fit_transform(y_train.reshape(-1, 1)).reshape(-1)\n",
    "\n",
    "# Standardize the validation data\n",
    "y_val = ss.transform(y_val.reshape(-1, 1)).reshape(-1)\n",
    "\n",
    "# Standardize the test data\n",
    "y_test = ss.transform(y_test.reshape(-1, 1)).reshape(-1)"
   ]
  },
  {
   "cell_type": "markdown",
   "metadata": {
    "id": "Of56ObPGe31x"
   },
   "source": [
    "# Hyperparameter Tuning"
   ]
  },
  {
   "cell_type": "code",
   "execution_count": 90,
   "metadata": {
    "id": "6pWlXXD-v6tt"
   },
   "outputs": [],
   "source": [
    "from sklearn.linear_model import SGDRegressor\n",
    "\n",
    "mb_size = 500\n",
    "\n",
    "models = {'sgd': SGDRegressor(random_state=random_seed, early_stopping=True), # SGD\n",
    "          'mbgd': SGDRegressor(random_state=random_seed, early_stopping=True,\n",
    "                               average=500)}"
   ]
  },
  {
   "cell_type": "code",
   "execution_count": 77,
   "metadata": {
    "id": "bgB7ZbiH4kxt"
   },
   "outputs": [],
   "source": [
    "from sklearn.pipeline import Pipeline\n",
    "\n",
    "pipes = {}\n",
    "\n",
    "for acronym, model in models.items():\n",
    "    pipes[acronym] = Pipeline([('model', model)])"
   ]
  },
  {
   "cell_type": "markdown",
   "metadata": {
    "id": "5-JnWzvB_GxA"
   },
   "source": [
    "## Predefined split cross-valiator"
   ]
  },
  {
   "cell_type": "code",
   "execution_count": 78,
   "metadata": {
    "id": "BW4EVc4w_Kqy"
   },
   "outputs": [],
   "source": [
    "X_train_val, y_train_val, ps = get_train_val_ps(X_train, y_train, X_val, y_val)"
   ]
  },
  {
   "cell_type": "markdown",
   "metadata": {
    "id": "S7MSHOO5_Niw"
   },
   "source": [
    "## GridSearchCV"
   ]
  },
  {
   "cell_type": "code",
   "execution_count": 79,
   "metadata": {
    "id": "AwbWgFy6_Pc3"
   },
   "outputs": [],
   "source": [
    "param_grids = {}"
   ]
  },
  {
   "cell_type": "code",
   "execution_count": 87,
   "metadata": {
    "id": "nLhmjkhYBbDZ"
   },
   "outputs": [],
   "source": [
    "# The parameter grid of eta\n",
    "eta_grid = [1e-5, 1e-4, 1e-3, 1e-2, 1e-1]\n",
    "\n",
    "# The parameter grid of alpha\n",
    "alpha_grid = np.linspace(1e-3, 3e-1, 10)\n",
    "\n",
    "# Update param_grids\n",
    "param_grids['sgd'] = [{'model__eta0': eta_grid,\n",
    "                       'model__alpha': alpha_grid}]\n",
    "\n",
    "param_grids['mbgd'] = [{'model__eta0': eta_grid,\n",
    "                       'model__alpha': alpha_grid}]                  "
   ]
  },
  {
   "cell_type": "code",
   "execution_count": 81,
   "metadata": {
    "id": "qqOlNpKjEOMV"
   },
   "outputs": [],
   "source": [
    "# Make directory\n",
    "directory = os.path.dirname(abspath_curr + 'result/cv_results/GridSearchCV/')\n",
    "if not os.path.exists(directory):\n",
    "    os.makedirs(directory)"
   ]
  },
  {
   "cell_type": "markdown",
   "metadata": {
    "id": "IWHpwebxEUT4"
   },
   "source": [
    "### Tuning the hyperparameters"
   ]
  },
  {
   "cell_type": "code",
   "execution_count": 91,
   "metadata": {
    "id": "fLgf1mWbEYVn",
    "tags": []
   },
   "outputs": [
    {
     "data": {
      "text/html": [
       "<div>\n",
       "<style scoped>\n",
       "    .dataframe tbody tr th:only-of-type {\n",
       "        vertical-align: middle;\n",
       "    }\n",
       "\n",
       "    .dataframe tbody tr th {\n",
       "        vertical-align: top;\n",
       "    }\n",
       "\n",
       "    .dataframe thead th {\n",
       "        text-align: right;\n",
       "    }\n",
       "</style>\n",
       "<table border=\"1\" class=\"dataframe\">\n",
       "  <thead>\n",
       "    <tr style=\"text-align: right;\">\n",
       "      <th></th>\n",
       "      <th>best_score</th>\n",
       "      <th>best_param</th>\n",
       "      <th>best_estimator</th>\n",
       "    </tr>\n",
       "  </thead>\n",
       "  <tbody>\n",
       "  </tbody>\n",
       "</table>\n",
       "</div>"
      ],
      "text/plain": [
       "Empty DataFrame\n",
       "Columns: [best_score, best_param, best_estimator]\n",
       "Index: []"
      ]
     },
     "execution_count": 91,
     "metadata": {},
     "output_type": "execute_result"
    }
   ],
   "source": [
    "from sklearn.model_selection import GridSearchCV\n",
    "\n",
    "# The list of [best_score_, best_params_, best_estimator_] obtained by GridSearchCV\n",
    "best_score_params_estimator_gs = {}\n",
    "overall_cv_results = {}\n",
    "\n",
    "# For each model\n",
    "for acronym in pipes.keys():\n",
    "    # GridSearchCV\n",
    "    gs = GridSearchCV(estimator=pipes[acronym],\n",
    "                      param_grid=param_grids[acronym],\n",
    "                      scoring='neg_mean_squared_error',\n",
    "                      n_jobs=8,\n",
    "                      cv=ps,\n",
    "                      return_train_score=True)\n",
    "        \n",
    "    # Fit the pipeline\n",
    "    gs = gs.fit(X_train_val, y_train_val)\n",
    "    \n",
    "    # Update best_score_params_estimator_gs\n",
    "    best_score_params_estimator_gs[acronym] = [np.round(gs.best_score_, 3), gs.best_params_, gs.best_estimator_]\n",
    "    \n",
    "    # Sort cv_results in ascending order of 'rank_test_score' and 'std_test_score'\n",
    "    cv_results = pd.DataFrame.from_dict(gs.cv_results_).sort_values(by=['rank_test_score', 'std_test_score'])\n",
    "    \n",
    "    # For reference...\n",
    "    overall_cv_results[acronym] = cv_results\n",
    "    \n",
    "    # Get the important columns in cv_results\n",
    "    important_columns = ['rank_test_score',\n",
    "                         'mean_test_score', \n",
    "                         'std_test_score', \n",
    "                         'mean_train_score', \n",
    "                         'std_train_score',\n",
    "                         'mean_fit_time', \n",
    "                         'std_fit_time',                        \n",
    "                         'mean_score_time', \n",
    "                         'std_score_time']\n",
    "    \n",
    "    # Move the important columns ahead\n",
    "    cv_results = cv_results[important_columns + sorted(list(set(cv_results.columns) - set(important_columns)))]\n",
    "\n",
    "    # Write cv_results file\n",
    "    cv_results.to_csv(path_or_buf=abspath_curr + 'result/cv_results/GridSearchCV/' + acronym + '.csv', index=False)\n",
    "\n",
    "# Sort best_score_params_estimator_gs in descending order of the best_score_\n",
    "# best_score_params_estimator_gs = sorted(best_score_params_estimator_gs, key=lambda x : x[0], reverse=True)"
   ]
  },
  {
   "cell_type": "code",
   "execution_count": 115,
   "metadata": {},
   "outputs": [
    {
     "data": {
      "text/plain": [
       "{'sgd': [-0.332,\n",
       "  {'model__alpha': 0.1671111111111111, 'model__eta0': 0.01},\n",
       "  Pipeline(steps=[('model',\n",
       "                   SGDRegressor(alpha=0.1671111111111111, early_stopping=True,\n",
       "                                random_state=42))])],\n",
       " 'mbgd': [-0.332,\n",
       "  {'model__alpha': 0.2667777777777778, 'model__eta0': 0.01},\n",
       "  Pipeline(steps=[('model',\n",
       "                   SGDRegressor(alpha=0.2667777777777778, average=500,\n",
       "                                early_stopping=True, random_state=42))])]}"
      ]
     },
     "execution_count": 115,
     "metadata": {},
     "output_type": "execute_result"
    }
   ],
   "source": [
    "best_score_params_estimator_gs"
   ]
  },
  {
   "cell_type": "code",
   "execution_count": 128,
   "metadata": {},
   "outputs": [
    {
     "data": {
      "text/html": [
       "<div>\n",
       "<style scoped>\n",
       "    .dataframe tbody tr th:only-of-type {\n",
       "        vertical-align: middle;\n",
       "    }\n",
       "\n",
       "    .dataframe tbody tr th {\n",
       "        vertical-align: top;\n",
       "    }\n",
       "\n",
       "    .dataframe thead th {\n",
       "        text-align: right;\n",
       "    }\n",
       "</style>\n",
       "<table border=\"1\" class=\"dataframe\">\n",
       "  <thead>\n",
       "    <tr style=\"text-align: right;\">\n",
       "      <th></th>\n",
       "      <th>best_score</th>\n",
       "      <th>best_alpha</th>\n",
       "      <th>best_eta0</th>\n",
       "    </tr>\n",
       "  </thead>\n",
       "  <tbody>\n",
       "    <tr>\n",
       "      <th>sgd</th>\n",
       "      <td>-0.332</td>\n",
       "      <td>0.167111</td>\n",
       "      <td>0.01</td>\n",
       "    </tr>\n",
       "    <tr>\n",
       "      <th>mbgd</th>\n",
       "      <td>-0.332</td>\n",
       "      <td>0.266778</td>\n",
       "      <td>0.01</td>\n",
       "    </tr>\n",
       "  </tbody>\n",
       "</table>\n",
       "</div>"
      ],
      "text/plain": [
       "      best_score  best_alpha  best_eta0\n",
       "sgd       -0.332    0.167111       0.01\n",
       "mbgd      -0.332    0.266778       0.01"
      ]
     },
     "execution_count": 128,
     "metadata": {},
     "output_type": "execute_result"
    }
   ],
   "source": [
    "best_scores = {}\n",
    "best_alpha = {}\n",
    "best_eta0 = {}\n",
    "\n",
    "for acronym in pipes.keys():\n",
    "    best_scores[acronym] = best_score_params_estimator_gs[acronym][0]\n",
    "    best_alpha[acronym] = best_score_params_estimator_gs[acronym][1]['model__alpha']\n",
    "    best_eta0[acronym] = best_score_params_estimator_gs[acronym][1]['model__eta0']\n",
    "\n",
    "pd.DataFrame([best_scores, best_alpha, best_eta]).T.rename(columns={0:'best_score', \n",
    "                                                                    1:'best_alpha',\n",
    "                                                                    2:'best_eta0'})\n"
   ]
  },
  {
   "cell_type": "code",
   "execution_count": null,
   "metadata": {},
   "outputs": [],
   "source": [
    "\n",
    "\n",
    "# Print best_score_params_estimator_gs\n",
    "pd.DataFrame(best_score_params_estimator_gs, columns=['best_score', 'best_param', 'best_estimator'])"
   ]
  },
  {
   "cell_type": "code",
   "execution_count": 114,
   "metadata": {},
   "outputs": [
    {
     "data": {
      "text/html": [
       "<div>\n",
       "<style scoped>\n",
       "    .dataframe tbody tr th:only-of-type {\n",
       "        vertical-align: middle;\n",
       "    }\n",
       "\n",
       "    .dataframe tbody tr th {\n",
       "        vertical-align: top;\n",
       "    }\n",
       "\n",
       "    .dataframe thead th {\n",
       "        text-align: right;\n",
       "    }\n",
       "</style>\n",
       "<table border=\"1\" class=\"dataframe\">\n",
       "  <thead>\n",
       "    <tr style=\"text-align: right;\">\n",
       "      <th></th>\n",
       "      <th>one</th>\n",
       "      <th>two</th>\n",
       "    </tr>\n",
       "  </thead>\n",
       "  <tbody>\n",
       "    <tr>\n",
       "      <th>a</th>\n",
       "      <td>1</td>\n",
       "      <td>3</td>\n",
       "    </tr>\n",
       "    <tr>\n",
       "      <th>b</th>\n",
       "      <td>2</td>\n",
       "      <td>4</td>\n",
       "    </tr>\n",
       "  </tbody>\n",
       "</table>\n",
       "</div>"
      ],
      "text/plain": [
       "   one  two\n",
       "a    1    3\n",
       "b    2    4"
      ]
     },
     "execution_count": 114,
     "metadata": {},
     "output_type": "execute_result"
    }
   ],
   "source": [
    "# tmp_x = {}\n",
    "# tmp_x['a'] = \n",
    "# tmp_x['b'] = \n",
    "pd.DataFrame({'one':{'a':1, 'b':2}, 'two':{'a':3, 'b':4}})"
   ]
  },
  {
   "cell_type": "code",
   "execution_count": 96,
   "metadata": {},
   "outputs": [
    {
     "data": {
      "text/plain": [
       "{'sgd': [-0.332,\n",
       "  {'model__alpha': 0.1671111111111111, 'model__eta0': 0.01},\n",
       "  Pipeline(steps=[('model',\n",
       "                   SGDRegressor(alpha=0.1671111111111111, early_stopping=True,\n",
       "                                random_state=42))])],\n",
       " 'mbgd': [-0.332,\n",
       "  {'model__alpha': 0.2667777777777778, 'model__eta0': 0.01},\n",
       "  Pipeline(steps=[('model',\n",
       "                   SGDRegressor(alpha=0.2667777777777778, average=500,\n",
       "                                early_stopping=True, random_state=42))])]}"
      ]
     },
     "execution_count": 96,
     "metadata": {},
     "output_type": "execute_result"
    }
   ],
   "source": [
    "best_score_params_estimator_gs"
   ]
  },
  {
   "cell_type": "code",
   "execution_count": 109,
   "metadata": {},
   "outputs": [
    {
     "data": {
      "text/html": [
       "<div>\n",
       "<style scoped>\n",
       "    .dataframe tbody tr th:only-of-type {\n",
       "        vertical-align: middle;\n",
       "    }\n",
       "\n",
       "    .dataframe tbody tr th {\n",
       "        vertical-align: top;\n",
       "    }\n",
       "\n",
       "    .dataframe thead th {\n",
       "        text-align: right;\n",
       "    }\n",
       "</style>\n",
       "<table border=\"1\" class=\"dataframe\">\n",
       "  <thead>\n",
       "    <tr style=\"text-align: right;\">\n",
       "      <th></th>\n",
       "      <th>0</th>\n",
       "      <th>1</th>\n",
       "      <th>2</th>\n",
       "    </tr>\n",
       "  </thead>\n",
       "  <tbody>\n",
       "    <tr>\n",
       "      <th>sgd</th>\n",
       "      <td>-0.332</td>\n",
       "      <td>{'model__alpha': 0.1671111111111111, 'model__e...</td>\n",
       "      <td>(SGDRegressor(alpha=0.1671111111111111, early_...</td>\n",
       "    </tr>\n",
       "    <tr>\n",
       "      <th>mbgd</th>\n",
       "      <td>-0.332</td>\n",
       "      <td>{'model__alpha': 0.2667777777777778, 'model__e...</td>\n",
       "      <td>(SGDRegressor(alpha=0.2667777777777778, averag...</td>\n",
       "    </tr>\n",
       "  </tbody>\n",
       "</table>\n",
       "</div>"
      ],
      "text/plain": [
       "          0                                                  1  \\\n",
       "sgd  -0.332  {'model__alpha': 0.1671111111111111, 'model__e...   \n",
       "mbgd -0.332  {'model__alpha': 0.2667777777777778, 'model__e...   \n",
       "\n",
       "                                                      2  \n",
       "sgd   (SGDRegressor(alpha=0.1671111111111111, early_...  \n",
       "mbgd  (SGDRegressor(alpha=0.2667777777777778, averag...  "
      ]
     },
     "execution_count": 109,
     "metadata": {},
     "output_type": "execute_result"
    }
   ],
   "source": [
    "pd.DataFrame(best_score_params_estimator_gs).transpose()"
   ]
  },
  {
   "cell_type": "markdown",
   "metadata": {
    "id": "kOF6id8le32I"
   },
   "source": [
    "# Model Selection"
   ]
  },
  {
   "cell_type": "code",
   "execution_count": null,
   "metadata": {
    "id": "8nsi5Rapv6tu"
   },
   "outputs": [],
   "source": [
    "# Implement me"
   ]
  },
  {
   "cell_type": "markdown",
   "metadata": {
    "id": "fiEBpqc_e32K"
   },
   "source": [
    "# Generating the Submission File\n",
    "Use the best model selected earlier to generate the submission file for this kaggle competition."
   ]
  },
  {
   "cell_type": "markdown",
   "metadata": {
    "id": "Aw5WYTRGz65s"
   },
   "source": [
    "## Creating the directory for the submission file"
   ]
  },
  {
   "cell_type": "code",
   "execution_count": null,
   "metadata": {
    "id": "z0oLcggN0C9W"
   },
   "outputs": [],
   "source": [
    "# # Make directory\n",
    "# directory = os.path.dirname(abspath_curr + 'result/submission/')\n",
    "# if not os.path.exists(directory):\n",
    "#     os.makedirs(directory)"
   ]
  },
  {
   "cell_type": "markdown",
   "metadata": {
    "id": "y-Qf_8VM0Tt9"
   },
   "source": [
    "## Generating the submission file"
   ]
  },
  {
   "cell_type": "code",
   "execution_count": null,
   "metadata": {
    "id": "mVdD3N0re32L",
    "scrolled": true
   },
   "outputs": [],
   "source": [
    "# # Get the prediction on the testing data using best_model\n",
    "# y_test_pred = best_estimator_gs.predict(X_test)\n",
    "\n",
    "# # Get the dataframe of y_test_pred, which has the same shape as df_train\n",
    "# df_y_test_pred = pd.DataFrame(np.tile(y_test_pred.reshape(-1, 1), df_train.shape[1]),\n",
    "#                               columns=df_train.columns)\n",
    "\n",
    "# # Transform df_y_test_pred back to the original scale\n",
    "# df_y_test_pred = pd.DataFrame(ss.inverse_transform(df_y_test_pred),\n",
    "#                               columns=df_train.columns)\n",
    "\n",
    "# # Get the submission dataframe\n",
    "# df_submit = pd.DataFrame(np.hstack((df_raw_test[['id']], df_y_test_pred[[target]])),\n",
    "#                          columns=['id', target])                                                                                      \n",
    "\n",
    "# # Generate the submission file\n",
    "# df_submit.to_csv(abspath_curr + 'result/submission/submission.csv', index=False)"
   ]
  },
  {
   "cell_type": "code",
   "execution_count": null,
   "metadata": {},
   "outputs": [],
   "source": []
  }
 ],
 "metadata": {
  "colab": {
   "collapsed_sections": [],
   "provenance": []
  },
  "kernelspec": {
   "display_name": "Python 3 (ipykernel)",
   "language": "python",
   "name": "python3"
  },
  "language_info": {
   "codemirror_mode": {
    "name": "ipython",
    "version": 3
   },
   "file_extension": ".py",
   "mimetype": "text/x-python",
   "name": "python",
   "nbconvert_exporter": "python",
   "pygments_lexer": "ipython3",
   "version": "3.8.10"
  },
  "toc": {
   "base_numbering": 1,
   "nav_menu": {},
   "number_sections": true,
   "sideBar": true,
   "skip_h1_title": false,
   "title_cell": "Table of Contents",
   "title_sidebar": "Contents",
   "toc_cell": true,
   "toc_position": {},
   "toc_section_display": true,
   "toc_window_display": false
  }
 },
 "nbformat": 4,
 "nbformat_minor": 4
}
