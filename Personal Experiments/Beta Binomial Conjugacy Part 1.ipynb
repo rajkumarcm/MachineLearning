{
 "cells": [
  {
   "cell_type": "code",
   "metadata": {
    "ExecuteTime": {
     "end_time": "2024-11-09T21:20:00.036385Z",
     "start_time": "2024-11-09T21:20:00.018385Z"
    }
   },
   "source": [
    "import numpy as np\n",
    "from scipy.stats import beta, binom\n",
    "%matplotlib inline\n",
    "from matplotlib import pyplot as plt\n",
    "from math import factorial as fac\n",
    "from ipywidgets import interact, interactive, fixed, interact_manual\n",
    "import ipywidgets as widgets\n",
    "np.random.seed(123)"
   ],
   "outputs": [],
   "execution_count": 5
  },
  {
   "cell_type": "code",
   "metadata": {
    "scrolled": false,
    "ExecuteTime": {
     "end_time": "2024-11-09T21:20:00.186947Z",
     "start_time": "2024-11-09T21:20:00.067391Z"
    }
   },
   "source": [
    "n = 40\n",
    "prior_N = 100\n",
    "N = 1\n",
    "a = 9\n",
    "b = 2\n",
    "p = 0.7\n",
    "\n",
    "@interact(n=(100, 1000, 100), \n",
    "          prior_N=(100, 500, 100), \n",
    "          a=(1, 100), \n",
    "          b=(1, 100),\n",
    "          p=(0.1, 1, 0.1))\n",
    "def sample_fn(n, prior_N, a, b, p):\n",
    "    prior_x = np.random.beta(a=a, b=b, size=prior_N)\n",
    "    prior_y = beta.pdf(prior_x, a=a, b=b)\n",
    "\n",
    "    h = np.random.binomial(n=n, p=p, size=1)\n",
    "    l_y = np.ones([prior_N])\n",
    "    p_y = np.ones([prior_N])\n",
    "    t = n-h\n",
    "    uniform_theta = np.linspace(0.1, 1, num=prior_N)\n",
    "    sampled_theta = np.random.beta(a=h+a, b=t+b, size=prior_N)\n",
    "    for i in range(prior_N):\n",
    "        tmp_theta1 = uniform_theta[i]\n",
    "        tmp_theta2 = sampled_theta[i]\n",
    "        tmp = 1\n",
    "        l_y[i] = binom.pmf(h, n=n, p=tmp_theta1)\n",
    "        p_y[i] = beta.pdf(tmp_theta2, a=h+a, b=t+b)\n",
    "#         for j in range(N):\n",
    "#             l_y[i] = l_y[i] * binom.pmf(x[j], n=n, p=theta)\n",
    "#             p_y[i] = p_y[i] * beta.pdf(theta, a=x[j]+a, b=(n-x[j])+b)\n",
    "    \n",
    "    l_y /= np.max(l_y)\n",
    "    prior_y /= np.max(prior_y)\n",
    "    p_y /= np.max(p_y)\n",
    "    plt.figure()\n",
    "    indices = np.argsort(prior_x)\n",
    "    prior_x = prior_x[indices]\n",
    "    prior_y = prior_y[indices]\n",
    "    indices = np.argsort(sampled_theta)\n",
    "    sampled_theta = sampled_theta[indices]\n",
    "    p_y = p_y[indices]\n",
    "    plt.plot(prior_x, prior_y, '-r', label='Prior')\n",
    "    plt.plot(uniform_theta, l_y, '-b', label='Likelihood')\n",
    "    plt.plot(sampled_theta, p_y, '-m', label='Posterior')\n",
    "    plt.xlabel('$\\Theta$')\n",
    "    plt.title('Posterior distribution for heads=%d' % h)\n",
    "    plt.grid(True)\n",
    "    plt.legend()\n",
    "    plt.show()"
   ],
   "outputs": [
    {
     "data": {
      "text/plain": [
       "interactive(children=(IntSlider(value=500, description='n', max=1000, min=100, step=100), IntSlider(value=300,…"
      ],
      "application/vnd.jupyter.widget-view+json": {
       "version_major": 2,
       "version_minor": 0,
       "model_id": "da9e800fa5c441d0aee03fb4cebddc16"
      }
     },
     "metadata": {},
     "output_type": "display_data"
    }
   ],
   "execution_count": 6
  }
 ],
 "metadata": {
  "kernelspec": {
   "display_name": "Python 3",
   "language": "python",
   "name": "python3"
  },
  "language_info": {
   "codemirror_mode": {
    "name": "ipython",
    "version": 3
   },
   "file_extension": ".py",
   "mimetype": "text/x-python",
   "name": "python",
   "nbconvert_exporter": "python",
   "pygments_lexer": "ipython3",
   "version": "3.7.5rc1"
  }
 },
 "nbformat": 4,
 "nbformat_minor": 2
}
