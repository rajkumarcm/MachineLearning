{
 "cells": [
  {
   "cell_type": "markdown",
   "metadata": {},
   "source": [
    "# Gaussian Imputation\n",
    "### Author: Rajkumar Conjeevaram Mohan (rajkumarcm@yahoo.com)"
   ]
  },
  {
   "cell_type": "code",
   "execution_count": 1,
   "metadata": {},
   "outputs": [],
   "source": [
    "import numpy as np\n",
    "%matplotlib inline\n",
    "from matplotlib import pyplot as plt\n",
    "from scipy.stats import multivariate_normal as m_normal\n",
    "from ipywidgets import interact, IntSlider\n",
    "import ipywidgets as widgets"
   ]
  },
  {
   "cell_type": "code",
   "execution_count": 2,
   "metadata": {},
   "outputs": [],
   "source": [
    "F = 30\n",
    "N = 100\n",
    "\n",
    "ran_mean = np.random.random([F])\n",
    "ran_cov = np.eye(F,F) * 0.5\n",
    "\n",
    "# Generate data\n",
    "data = np.random.multivariate_normal(mean=ran_mean, cov=ran_cov, size=N)\n",
    "\n",
    "# Make some feature nan so that they can be inferred\n",
    "noise = np.random.binomial(1, p=0.8, size=[N, F]).astype(np.float32)\n",
    "indices = noise == 0\n",
    "noise[indices] = np.inf\n",
    "data_m = data * noise"
   ]
  },
  {
   "cell_type": "code",
   "execution_count": 3,
   "metadata": {},
   "outputs": [],
   "source": [
    "# Compute the conditional expectation\n",
    "for i in range(data_m.shape[0]):\n",
    "    tmp_data = data_m[i]\n",
    "    vis_nodes = np.where((tmp_data < np.inf) & (tmp_data > -np.inf))[0]\n",
    "    hid_nodes = np.where(np.abs(tmp_data) == np.inf)[0]\n",
    "    \n",
    "    hid_mean = ran_mean[hid_nodes]\n",
    "    vis_mean = ran_mean[vis_nodes]\n",
    "    Shh = ran_cov[hid_nodes][:, hid_nodes]\n",
    "    Shv = ran_cov[hid_nodes][:, vis_nodes]\n",
    "    Svv = ran_cov[vis_nodes][:, vis_nodes]\n",
    "    Svv_inv = np.linalg.inv(Svv)\n",
    "    est_mean = hid_mean + (Shv @ Svv_inv @ (tmp_data[vis_nodes] - vis_mean))\n",
    "    data_m[i, hid_nodes] = est_mean"
   ]
  },
  {
   "cell_type": "code",
   "execution_count": 4,
   "metadata": {},
   "outputs": [
    {
     "data": {
      "application/vnd.jupyter.widget-view+json": {
       "model_id": "8c4415a5a5354254b293a94ffe0a95ed",
       "version_major": 2,
       "version_minor": 0
      },
      "text/plain": [
       "interactive(children=(IntSlider(value=0, continuous_update=False, description='i', max=99), Output()), _dom_cl…"
      ]
     },
     "metadata": {},
     "output_type": "display_data"
    }
   ],
   "source": [
    "@interact(i=IntSlider(min=0, max=data.shape[0]-1, step=1, continuous_update=False))\n",
    "def plot(i):\n",
    "    fig, axes = plt.subplots(1, 2, figsize=(13,5))\n",
    "    axes[0].set_title('Original Data')\n",
    "    axes[1].set_title('Gauss Imputed Data')\n",
    "    axes[0].set_xlabel('# Feature')\n",
    "    axes[0].set_ylabel('Value of # Feature')\n",
    "    axes[1].set_xlabel('# Feature')\n",
    "    axes[1].set_ylabel('Value of # Feature')\n",
    "    axes[0].stem(list(range(30)), data[i], linefmt='-', use_line_collection=True)\n",
    "    axes[1].stem(list(range(30)), data_m[i], linefmt='-', use_line_collection=True)\n",
    "    plt.show()"
   ]
  },
  {
   "cell_type": "code",
   "execution_count": null,
   "metadata": {},
   "outputs": [],
   "source": []
  }
 ],
 "metadata": {
  "kernelspec": {
   "display_name": "Python 3 (ipykernel)",
   "language": "python",
   "name": "python3"
  },
  "language_info": {
   "codemirror_mode": {
    "name": "ipython",
    "version": 3
   },
   "file_extension": ".py",
   "mimetype": "text/x-python",
   "name": "python",
   "nbconvert_exporter": "python",
   "pygments_lexer": "ipython3",
   "version": "3.10.11"
  }
 },
 "nbformat": 4,
 "nbformat_minor": 4
}
