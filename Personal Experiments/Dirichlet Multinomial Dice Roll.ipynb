{
 "cells": [
  {
   "cell_type": "code",
   "execution_count": 2,
   "metadata": {},
   "outputs": [],
   "source": [
    "import numpy as np\n",
    "from scipy.stats import dirichlet, multinomial\n",
    "%matplotlib inline\n",
    "from matplotlib import pyplot as plt\n",
    "from ipywidgets import interact\n",
    "import ipywidgets as widgets"
   ]
  },
  {
   "cell_type": "code",
   "execution_count": 3,
   "metadata": {},
   "outputs": [
    {
     "name": "stdout",
     "output_type": "stream",
     "text": [
      "5004471.082768597\n"
     ]
    }
   ],
   "source": [
    "# Mode of the posterior i.e. MAP estimate\n",
    "alpha = [15, 50, 30, 20, 10, 5]\n",
    "N = [15, 50, 30, 20, 10, 5]  # These values are set for experimentational purpose\n",
    "alpha = np.array(alpha) + np.array(N)\n",
    "theta_map = [x/np.sum(alpha) for x in alpha]\n",
    "density = dirichlet.pdf(theta_map, alpha=alpha)\n",
    "print(density)"
   ]
  },
  {
   "cell_type": "code",
   "execution_count": 4,
   "metadata": {
    "scrolled": false
   },
   "outputs": [],
   "source": [
    "# Plot the posterior predictive distribution approximated using sampling\n",
    "\n",
    "# @interact(a1=(1,300), a2=(1,300), N1=(100,500,100), N2=(100,500,100))\n",
    "def plot_future_heads(alpha, N):\n",
    "    alpha = np.array(alpha) + np.array(N)\n",
    "    N_samples = 1000\n",
    "    x = np.zeros([N_samples, 6])\n",
    "    for i in range(N_samples):\n",
    "        ran_theta = np.random.dirichlet(alpha=alpha, size=[1]).tolist()\n",
    "        x[i] = np.random.multinomial(n=np.sum(N), pvals=ran_theta[0], size=[1])\n",
    "    \n",
    "    fig, axes = plt.subplots(2, 3, figsize=(13, 4))\n",
    "    count = 0\n",
    "    for i in range(2):\n",
    "        for j in range(3):\n",
    "            axes[i, j].hist(x[:, count], rwidth=0.8)\n",
    "            count += 1\n",
    "    #plt.xlabel('Heads')\n",
    "    #plt.ylabel('Probability of heads in future trial')\n",
    "    plt.show()\n",
    "    "
   ]
  },
  {
   "cell_type": "code",
   "execution_count": 5,
   "metadata": {},
   "outputs": [
    {
     "data": {
      "image/png": "[encoded data removed]",
      "text/plain": [
       "<Figure size 936x288 with 6 Axes>"
      ]
     },
     "metadata": {
      "needs_background": "light"
     },
     "output_type": "display_data"
    }
   ],
   "source": [
    "alpha = [15, 50, 30, 20, 10, 5]\n",
    "samples = [15, 50, 30, 20, 10, 5]  # These values are set for experimentational purpose\n",
    "plot_future_heads(alpha=alpha, N=samples)"
   ]
  },
  {
   "cell_type": "code",
   "execution_count": 6,
   "metadata": {},
   "outputs": [],
   "source": [
    "# alpha = [15, 50, 30, 20, 10, 5]\n",
    "# N = [15, 50, 30, 20, 10, 5]  # These values are set for experimentational purpose"
   ]
  },
  {
   "cell_type": "code",
   "execution_count": null,
   "metadata": {},
   "outputs": [],
   "source": []
  },
  {
   "cell_type": "code",
   "execution_count": null,
   "metadata": {},
   "outputs": [],
   "source": []
  }
 ],
 "metadata": {
  "kernelspec": {
   "display_name": "Python 3",
   "language": "python",
   "name": "python3"
  },
  "language_info": {
   "codemirror_mode": {
    "name": "ipython",
    "version": 3
   },
   "file_extension": ".py",
   "mimetype": "text/x-python",
   "name": "python",
   "nbconvert_exporter": "python",
   "pygments_lexer": "ipython3",
   "version": "3.7.5rc1"
  }
 },
 "nbformat": 4,
 "nbformat_minor": 2
}
