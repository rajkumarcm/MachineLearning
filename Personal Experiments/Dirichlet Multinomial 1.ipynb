{
 "cells": [
  {
   "cell_type": "code",
   "metadata": {
    "ExecuteTime": {
     "end_time": "2024-11-09T21:23:03.879651Z",
     "start_time": "2024-11-09T21:23:03.332410Z"
    }
   },
   "source": [
    "import numpy as np\n",
    "from scipy.stats import dirichlet, multinomial\n",
    "%matplotlib inline\n",
    "from matplotlib import pyplot as plt\n",
    "from ipywidgets import interact\n",
    "import ipywidgets as widgets\n",
    "np.random.seed(123)"
   ],
   "outputs": [],
   "execution_count": 1
  },
  {
   "cell_type": "code",
   "metadata": {
    "ExecuteTime": {
     "end_time": "2024-11-09T21:23:03.894787Z",
     "start_time": "2024-11-09T21:23:03.883652Z"
    }
   },
   "source": [
    "# Mode of the posterior i.e. MAP estimate\n",
    "alpha = [50, 10]\n",
    "N = [2, 8]\n",
    "den = [alpha[0]+N[0], alpha[1]+N[1]]\n",
    "theta_map = [a+n for a, n in zip(alpha, N)]\n",
    "theta_map /= np.sum(den)\n",
    "density = dirichlet.pdf(theta_map, alpha=den)\n",
    "print(density)"
   ],
   "outputs": [
    {
     "name": "stdout",
     "output_type": "stream",
     "text": [
      "7.598534210294772\n"
     ]
    }
   ],
   "execution_count": 2
  },
  {
   "cell_type": "code",
   "metadata": {
    "scrolled": false,
    "ExecuteTime": {
     "end_time": "2024-11-09T21:23:04.061169Z",
     "start_time": "2024-11-09T21:23:03.955653Z"
    }
   },
   "source": [
    "# Plot the posterior predictive distribution approximated using sampling\n",
    "x = None\n",
    "\"\"\"\n",
    "a1 = 257\n",
    "a2 = 74\n",
    "N1 = 300\n",
    "N2 = 300\n",
    "\"\"\"\n",
    "@interact(a1=(1,300), a2=(1,300), N1=(100,500,100), N2=(100,500,100))\n",
    "def plot_future_heads(a1, a2, N1, N2):\n",
    "    alpha = [a1+N1, a2+N2]\n",
    "    N_samples = 1000\n",
    "    x = np.zeros([N_samples, 2])\n",
    "    for i in range(N_samples):\n",
    "        ran_theta = np.random.dirichlet(alpha=alpha, size=[1]).tolist()\n",
    "        x[i] = np.random.multinomial(n=N1+N2, pvals=ran_theta[0], size=[1])\n",
    "\n",
    "    \n",
    "    fig, axes = plt.subplots(1, 2, figsize=(13, 4))\n",
    "    axes[0].hist(x[:, 0], rwidth=0.8)\n",
    "    axes[1].hist(x[:, 1], rwidth=0.8)\n",
    "    #plt.xlabel('Heads')\n",
    "    #plt.ylabel('Probability of heads in future trial')\n",
    "    plt.show()\n",
    "    "
   ],
   "outputs": [
    {
     "data": {
      "text/plain": [
       "interactive(children=(IntSlider(value=150, description='a1', max=300, min=1), IntSlider(value=150, description…"
      ],
      "application/vnd.jupyter.widget-view+json": {
       "version_major": 2,
       "version_minor": 0,
       "model_id": "616b6b98ba8d41e6aabd3cfee9bc9fc3"
      }
     },
     "metadata": {},
     "output_type": "display_data"
    }
   ],
   "execution_count": 3
  },
  {
   "cell_type": "code",
   "metadata": {
    "ExecuteTime": {
     "end_time": "2024-11-09T21:23:04.092676Z",
     "start_time": "2024-11-09T21:23:04.078677Z"
    }
   },
   "source": [
    "np.random.multinomial(n=10, pvals=[0.3, 0.7])"
   ],
   "outputs": [
    {
     "data": {
      "text/plain": [
       "array([5, 5])"
      ]
     },
     "execution_count": 4,
     "metadata": {},
     "output_type": "execute_result"
    }
   ],
   "execution_count": 4
  },
  {
   "cell_type": "code",
   "metadata": {
    "ExecuteTime": {
     "end_time": "2024-11-09T21:23:04.122676Z",
     "start_time": "2024-11-09T21:23:04.108677Z"
    }
   },
   "source": [
    "np.random.multinomial(n=10, pvals=[0.5261257, 0.4738743], size=[1])"
   ],
   "outputs": [
    {
     "data": {
      "text/plain": [
       "array([[5, 5]])"
      ]
     },
     "execution_count": 5,
     "metadata": {},
     "output_type": "execute_result"
    }
   ],
   "execution_count": 5
  },
  {
   "cell_type": "code",
   "metadata": {
    "ExecuteTime": {
     "end_time": "2024-11-09T21:23:04.428492Z",
     "start_time": "2024-11-09T21:23:04.413493Z"
    }
   },
   "source": [],
   "outputs": [],
   "execution_count": null
  },
  {
   "cell_type": "code",
   "metadata": {
    "ExecuteTime": {
     "end_time": "2024-11-09T21:23:04.474001Z",
     "start_time": "2024-11-09T21:23:04.460498Z"
    }
   },
   "source": [],
   "outputs": [],
   "execution_count": null
  }
 ],
 "metadata": {
  "kernelspec": {
   "display_name": "Python 3",
   "language": "python",
   "name": "python3"
  },
  "language_info": {
   "codemirror_mode": {
    "name": "ipython",
    "version": 3
   },
   "file_extension": ".py",
   "mimetype": "text/x-python",
   "name": "python",
   "nbconvert_exporter": "python",
   "pygments_lexer": "ipython3",
   "version": "3.7.5rc1"
  }
 },
 "nbformat": 4,
 "nbformat_minor": 2
}
