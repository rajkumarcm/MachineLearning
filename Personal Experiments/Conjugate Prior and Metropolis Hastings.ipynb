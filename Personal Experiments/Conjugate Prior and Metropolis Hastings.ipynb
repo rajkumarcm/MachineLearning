{
 "cells": [
  {
   "cell_type": "markdown",
   "metadata": {},
   "source": [
    "## Conjugate Prior and Metropolis-Hastings\n",
    "##### Author: Rajkumar Conjeevaram Mohan (rajkumarcm@yahoo.com)"
   ]
  },
  {
   "cell_type": "code",
   "metadata": {
    "ExecuteTime": {
     "end_time": "2024-11-09T20:26:31.812974Z",
     "start_time": "2024-11-09T20:26:31.806975Z"
    }
   },
   "source": [
    "import numpy as np\n",
    "%matplotlib inline\n",
    "from matplotlib import pyplot as plt\n",
    "from scipy.stats import norm\n",
    "from functools import reduce\n",
    "from ipywidgets import interact, IntSlider\n",
    "np.random.seed(123)"
   ],
   "outputs": [],
   "execution_count": 6
  },
  {
   "cell_type": "code",
   "metadata": {
    "ExecuteTime": {
     "end_time": "2024-11-09T20:26:33.111134Z",
     "start_time": "2024-11-09T20:26:33.101169Z"
    }
   },
   "source": [
    "mu_x = 100\n",
    "var_x = 100"
   ],
   "outputs": [],
   "execution_count": 7
  },
  {
   "cell_type": "code",
   "metadata": {
    "ExecuteTime": {
     "end_time": "2024-11-09T20:29:57.833141Z",
     "start_time": "2024-11-09T20:29:57.749008Z"
    }
   },
   "source": [
    "@interact(mu_w=IntSlider(min=20, max=300, continuous_update=False), \n",
    "          N=IntSlider(min=10, max=500, continuous_update=False))\n",
    "def plot_posterior(mu_w, N):\n",
    "    #N = 10\n",
    "    x = np.random.normal(loc=mu_x, scale=np.sqrt(var_x), size=N)\n",
    "    x = np.sort(x)\n",
    "\n",
    "    # mu_w = 120\n",
    "    var_w = 100\n",
    "    w = np.random.normal(loc=mu_w, scale=np.sqrt(var_w), size=1000)\n",
    "    w = np.sort(w)\n",
    "    \n",
    "    # Posterior parameters estimated by completing the squares\n",
    "    var_p = (var_x * var_w)/(N * var_w + var_x)\n",
    "    mu_p = (var_w * np.sum(x) + var_x * mu_w)/(N * var_w + var_x)\n",
    "    \n",
    "    ran_samples = np.random.normal(loc=mu_x, scale=np.sqrt(var_x), size=1000)\n",
    "    ran_samples = np.sort(ran_samples)\n",
    "    ran_samples2 = np.random.normal(loc=mu_p, scale=np.sqrt(var_x), size=1000)\n",
    "    ran_samples2 = np.sort(ran_samples2)\n",
    "    x_pdf = norm.pdf(ran_samples, loc=mu_x, scale=np.sqrt(var_x))\n",
    "    w_pdf = norm.pdf(w, loc=mu_w, scale=np.sqrt(var_w))\n",
    "    p_pdf = norm.pdf(ran_samples2, loc=mu_p, scale=np.sqrt(var_x))\n",
    "\n",
    "    plt.figure()\n",
    "    plt.plot(ran_samples, x_pdf, '-b', linewidth=0.8, label='Likelihood')\n",
    "    plt.plot(w, w_pdf, '-r', linewidth=0.8, label='Prior')\n",
    "    plt.plot(ran_samples2, p_pdf, '-g', linewidth=0.8, label='Posterior')\n",
    "    plt.legend()\n",
    "    plt.title('Influence of prior on posterior when N is low')\n",
    "    plt.show()\n",
    "    print(mu_p, var_p)"
   ],
   "outputs": [
    {
     "data": {
      "text/plain": [
       "interactive(children=(IntSlider(value=20, continuous_update=False, description='mu_w', max=300, min=20), IntSl…"
      ],
      "application/vnd.jupyter.widget-view+json": {
       "version_major": 2,
       "version_minor": 0,
       "model_id": "65880d3973914336941208cb8cb9c9b1"
      }
     },
     "metadata": {},
     "output_type": "display_data"
    }
   ],
   "execution_count": 11
  },
  {
   "cell_type": "code",
   "metadata": {
    "ExecuteTime": {
     "end_time": "2024-11-09T20:22:47.206778Z",
     "start_time": "2024-11-09T20:22:47.193774Z"
    }
   },
   "source": [
    "mu_x, var_x"
   ],
   "outputs": [
    {
     "data": {
      "text/plain": [
       "(100, 100)"
      ]
     },
     "execution_count": 4,
     "metadata": {},
     "output_type": "execute_result"
    }
   ],
   "execution_count": 4
  },
  {
   "cell_type": "code",
   "metadata": {
    "jupyter": {
     "is_executing": true
    }
   },
   "source": [
    "var_w = 100\n",
    "\n",
    "@interact(N=IntSlider(min=10, max=100, continuous_update=False), \n",
    "          mu_w=IntSlider(min=10, max=300, continuous_update=False))\n",
    "def metropolis(N, mu_w):\n",
    "    tmp_x = np.random.normal(loc=mu_x, scale=np.sqrt(var_x), size=N)\n",
    "    fn = lambda mu: np.random.normal(loc=mu, scale=np.sqrt(var_w))\n",
    "    pdf_x = lambda x, mu: norm.pdf(x, loc=mu, scale=np.sqrt(var_x))\n",
    "    pdf_w = lambda w, mu: norm.pdf(w, loc=mu, scale=np.sqrt(var_w))\n",
    "    mu = [fn(mu_w)]\n",
    "    n_samples = 30000\n",
    "    offset = 100\n",
    "    for i in range(n_samples-1):\n",
    "        tmp_mu = fn(mu[-1])\n",
    "        r = np.sum(np.log(pdf_x(tmp_x, tmp_mu))) + np.log(pdf_w(tmp_mu, var_w))\n",
    "        r -= np.sum(np.log(pdf_x(tmp_x, mu[-1]))) + np.log(pdf_w(mu[-1], var_w))\n",
    "        if np.log(np.random.uniform(0, 1)) <= r:\n",
    "            # accept the sample\n",
    "            mu.append(tmp_mu)\n",
    "        else:\n",
    "            mu.append(mu[-1])\n",
    "    plt.figure(figsize=(11, 5))\n",
    "    plt.plot(range(n_samples-offset), mu[offset:], '.g', linewidth=1.5, label='sampled $\\mu$')\n",
    "    plt.axhline(np.mean(mu), xmin=0, xmax=len(mu)-offset, color='red', label='average $\\mu$')\n",
    "    plt.legend()\n",
    "    plt.grid()\n",
    "    plt.title('Metropolis Hastings %.2f' % np.mean(mu))\n",
    "    plt.show()"
   ],
   "outputs": [],
   "execution_count": null
  },
  {
   "cell_type": "code",
   "metadata": {
    "ExecuteTime": {
     "end_time": "2024-11-09T20:22:51.442800Z",
     "start_time": "2024-11-09T20:22:51.428800Z"
    }
   },
   "source": [],
   "outputs": [],
   "execution_count": null
  }
 ],
 "metadata": {
  "kernelspec": {
   "display_name": "Python 3",
   "language": "python",
   "name": "python3"
  },
  "language_info": {
   "codemirror_mode": {
    "name": "ipython",
    "version": 3
   },
   "file_extension": ".py",
   "mimetype": "text/x-python",
   "name": "python",
   "nbconvert_exporter": "python",
   "pygments_lexer": "ipython3",
   "version": "3.7.5rc1"
  }
 },
 "nbformat": 4,
 "nbformat_minor": 2
}
